{
 "cells": [
  {
   "cell_type": "code",
   "execution_count": 1,
   "metadata": {},
   "outputs": [],
   "source": [
    "from pyspark import SparkConf, SparkContext\n",
    "import time\n",
    "\n",
    "conf = SparkConf()\n",
    "sc = SparkContext(conf=conf)\n",
    "sc.setLogLevel(\"ERROR\")"
   ]
  },
  {
   "cell_type": "code",
   "execution_count": 2,
   "metadata": {},
   "outputs": [],
   "source": [
    "# indexed 1 ~ 100\n",
    "data_fname = \"data/graph-full.txt\"\n",
    "data = (sc\n",
    "    .textFile(data_fname)\n",
    "    .map(lambda line : map(int, line.split('\\t')))\n",
    "    .map(lambda edge: (tuple(edge), 1))\n",
    "    .reduceByKey(lambda x, y: 1)\n",
    "    .map(lambda point: point[0]))\n",
    "\n",
    "iteration = 40\n",
    "n = 1000"
   ]
  },
  {
   "cell_type": "markdown",
   "metadata": {},
   "source": [
    "#### Page Rank"
   ]
  },
  {
   "cell_type": "code",
   "execution_count": 3,
   "metadata": {},
   "outputs": [
    {
     "name": "stdout",
     "output_type": "stream",
     "text": [
      "\n",
      "Top 5 (DESC):\n",
      "263 0.002020291181518219\n",
      "537 0.0019433415714531497\n",
      "965 0.0019254478071662631\n",
      "243 0.001852634016241731\n",
      "285 0.001827372170064514\n",
      "\n",
      "Bottom  (ASC):\n",
      "558 0.0003286018525215297\n",
      "93 0.0003513568937516577\n",
      "62 0.00035314810510596274\n",
      "424 0.0003548153864930145\n",
      "408 0.00038779848719291705\n",
      "processing completed, time elapsed: 9.44s\n",
      "\n"
     ]
    }
   ],
   "source": [
    "time_start = time.time()\n",
    "\n",
    "beta = 0.8\n",
    "\n",
    "# initialize uniform ranking\n",
    "r = {i + 1 : 1.0 / n for i in range(n)}\n",
    "\n",
    "# column must sum to 1, sum (j, i) over j equal to 1\n",
    "# not that x[0] is column index, x[1] is row index\n",
    "a = data.map(lambda x: (x[0], 1)) # (col, 1)\n",
    "b = a.reduceByKey(lambda x, y: x + y) # (col, nonzero count)\n",
    "degree = {rdd[0] : rdd[1] for rdd in b.collect()} # col -> nonzero count\n",
    "\n",
    "# key: (r, c), val: (1 / col nonzero count)\n",
    "m = data.map(lambda edge: ((edge[1], edge[0]), 1.0 / degree[edge[0]]))\n",
    "\n",
    "for _ in range(iteration):\n",
    "    m2 = m.map(lambda rdd: (rdd[0][0], rdd[1] * r[rdd[0][1]]))\n",
    "    m3 = m2.reduceByKey(lambda x, y: x + y)\n",
    "    r_next = m3.map(lambda x: (x[0], x[1] * beta + (1 - beta) / n))\n",
    "    r = {x[0] : x[1] for x in r_next.collect()}\n",
    "\n",
    "ranking = sorted(r_next.collect(), key=lambda rdd : -rdd[1])\n",
    "print(\"\\nTop 5 (DESC):\")\n",
    "for idx, score in ranking[:5]:\n",
    "    print(idx, score)\n",
    "\n",
    "print(\"\\nBottom  (ASC):\")\n",
    "for idx, score in ranking[-5:][::-1]:\n",
    "    print(idx, score)\n",
    "    \n",
    "time_end = time.time()\n",
    "print(\"processing completed, time elapsed: %.2fs\\n\"%(time_end - time_start))"
   ]
  },
  {
   "cell_type": "markdown",
   "metadata": {},
   "source": [
    "#### HITS"
   ]
  },
  {
   "cell_type": "code",
   "execution_count": 4,
   "metadata": {},
   "outputs": [
    {
     "name": "stdout",
     "output_type": "stream",
     "text": [
      "\n",
      "Top 5 authority (DESC):\n",
      "893 1.0\n",
      "16 0.9635572849634398\n",
      "799 0.9510158161074017\n",
      "146 0.9246703586198444\n",
      "473 0.8998661973604051\n",
      "\n",
      "Bottom 5 authority (ASC):\n",
      "19 0.05608316377607618\n",
      "135 0.06653910487622795\n",
      "462 0.07544228624641901\n",
      "24 0.08171239406816945\n",
      "910 0.08571673456144878\n",
      "\n",
      "Top 5 hubbiness (DESC):\n",
      "840 1.0\n",
      "155 0.9499618624906541\n",
      "234 0.8986645288972266\n",
      "389 0.8634171101843793\n",
      "472 0.8632841092495219\n",
      "\n",
      "Bottom 5 hubbiness (ASC):\n",
      "23 0.042066854890936534\n",
      "835 0.05779059354433016\n",
      "141 0.0645311764622518\n",
      "539 0.06602659373418493\n",
      "889 0.07678413939216454\n",
      "processing completed, time elapsed: 18.28s\n",
      "\n"
     ]
    }
   ],
   "source": [
    "time_start = time.time()\n",
    "\n",
    "L = data\n",
    "h = {i + 1 : 1.0 for i in range(n)}\n",
    "\n",
    "for _ in range(iteration):\n",
    "    # L.T * h\n",
    "    a_rdd = (L\n",
    "        .map(lambda rc : (rc[1], 1 * h[rc[0]])) \n",
    "        .reduceByKey(lambda x, y : x + y))\n",
    "\n",
    "    # normalize\n",
    "    a_max = max(a_rdd.collect(), key=lambda x : x[1])\n",
    "    a_rdd = a_rdd.map(lambda x : (x[0], x[1] / a_max[1]))\n",
    "    a = {x[0] : x[1] for x in a_rdd.collect()}\n",
    "\n",
    "    # h = La\n",
    "    h_rdd = (L\n",
    "        .map(lambda rc : (rc[0], 1 * a[rc[1]]))\n",
    "        .reduceByKey(lambda x, y : x + y))\n",
    "    \n",
    "    # normalize\n",
    "    h_max = max(h_rdd.collect(), key=lambda x : x[1])\n",
    "    h_rdd = h_rdd.map(lambda x : (x[0], x[1] / h_max[1]))\n",
    "    h = {x[0] : x[1] for x in h_rdd.collect()}\n",
    "\n",
    "print(\"\\nTop 5 authority (DESC):\")\n",
    "for idx, score in a_rdd.top(5, key=lambda x: x[1]):\n",
    "    print(idx, score)\n",
    "\n",
    "print(\"\\nBottom 5 authority (ASC):\")\n",
    "for idx, score in a_rdd.top(5, key=lambda x: -x[1]):\n",
    "    print(idx, score)\n",
    "\n",
    "print(\"\\nTop 5 hubbiness (DESC):\")\n",
    "for idx, score in h_rdd.top(5, key=lambda x: x[1]):\n",
    "    print(idx, score)\n",
    "\n",
    "print(\"\\nBottom 5 hubbiness (ASC):\")\n",
    "for idx, score in h_rdd.top(5, key=lambda x: -x[1]):\n",
    "    print(idx, score)\n",
    "    \n",
    "time_end = time.time()\n",
    "print(\"processing completed, time elapsed: %.2fs\\n\"%(time_end - time_start))"
   ]
  },
  {
   "cell_type": "code",
   "execution_count": 5,
   "metadata": {},
   "outputs": [],
   "source": [
    "sc.stop()"
   ]
  }
 ],
 "metadata": {
  "kernelspec": {
   "display_name": "Python 3",
   "language": "python",
   "name": "python3"
  },
  "language_info": {
   "codemirror_mode": {
    "name": "ipython",
    "version": 3
   },
   "file_extension": ".py",
   "mimetype": "text/x-python",
   "name": "python",
   "nbconvert_exporter": "python",
   "pygments_lexer": "ipython3",
   "version": "3.7.3"
  }
 },
 "nbformat": 4,
 "nbformat_minor": 2
}
