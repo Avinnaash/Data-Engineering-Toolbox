{
 "cells": [
  {
   "cell_type": "code",
   "execution_count": 1,
   "metadata": {},
   "outputs": [],
   "source": [
    "import re\n",
    "import sys\n",
    "import time\n",
    "from pyspark import SparkConf, SparkContext\n",
    "\n",
    "conf = SparkConf()\n",
    "sc = SparkContext(conf=conf)\n",
    "sc.setLogLevel(\"ERROR\")"
   ]
  },
  {
   "cell_type": "code",
   "execution_count": 2,
   "metadata": {},
   "outputs": [],
   "source": [
    "# Any pair of users from 'friends' has 'user' as their common friend\n",
    "def build_pairs(line):\n",
    "    user, friends = line[0], sorted(line[1].split(\",\"))\n",
    "    positive_keys = [(friends[i], j) for i in range(len(friends)) for j in friends[i + 1:]]\n",
    "    positive_pairs = map(lambda key : (key, 1), positive_keys)\n",
    "    return list(positive_pairs)\n",
    "\n",
    "def top_10(user):\n",
    "    candidates = user[1]\n",
    "    sorted_candidates = list(sorted(candidates, key=lambda pair : (-pair[1], int(pair[0]))))\n",
    "    top_10 = sorted_candidates[:min(10, len(candidates))]\n",
    "    return (user[0], [rec for (rec, count) in top_10])\n",
    "\n",
    "def build_pairs(line):\n",
    "    # Because the graph is undirected, it does not matter which ID comes first.\n",
    "    # Sort ID so that the reverse order is treated as the same edge.\n",
    "    # No need to transform to integer, though strings are sorted differently than numbers.\n",
    "    user, friends = line[0], sorted(line[1].split(\",\"))\n",
    "    \n",
    "    # Any pair of users from 'friends' has 'user' as their common friend\n",
    "    positive_keys = [(friends[i], j) for i in range(len(friends) - 1) for j in friends[i + 1:]]\n",
    "    positive_pairs = map(lambda key : (key, 1), positive_keys)\n",
    "    \n",
    "    # 'user' is already freind with his friends, so it does not matter how many common friends\n",
    "    # they share, they should not be recommended to each other\n",
    "    negative_keys = [(user, friend) if user < friend else (friend, user) for friend in friends]\n",
    "    negative_pairs = map(lambda key : (key, -2**32), negative_keys)\n",
    "    \n",
    "    return list(positive_pairs) + list(negative_pairs)"
   ]
  },
  {
   "cell_type": "code",
   "execution_count": 3,
   "metadata": {},
   "outputs": [
    {
     "name": "stdout",
     "output_type": "stream",
     "text": [
      "924\t439,2409,6995,11860,15416,43748,45881\n",
      "8941\t8943,8944,8940\n",
      "8942\t8939,8940,8943,8944\n",
      "9019\t9022,317,9023\n",
      "9020\t9021,9016,9017,9022,317,9023\n",
      "9021\t9020,9016,9017,9022,317,9023\n",
      "9022\t9019,9020,9021,317,9016,9017,9023\n",
      "9990\t13134,13478,13877,34299,34485,34642,37941\n",
      "9992\t9987,9989,35667,9991\n",
      "9993\t9991,13134,13478,13877,34299,34485,34642,37941\n",
      "processing completed, time elapsed: 241.91s\n",
      "\n"
     ]
    }
   ],
   "source": [
    "time_start = time.time()\n",
    "\n",
    "doc = sc.textFile(\"data/soc-LiveJournal1Adj.txt\")\n",
    "lines = doc.map(lambda line : line.split('\\t'))\n",
    "\n",
    "pairs = lines.flatMap(build_pairs)\n",
    "\n",
    "count = pairs.reduceByKey(lambda n1, n2: (n1 + n2)).filter(lambda x : x[1] > 0)\n",
    "\n",
    "# map ((user1, user2), n) to (user1, (user2, n)), (user2, (user1, n))\n",
    "two_way_count = count.flatMap(lambda x : ((x[0][0], (x[0][1], x[1])), (x[0][1], (x[0][0], x[1]))))\n",
    "# users = count.flatMap(lambda (pair, count) : [(pair[0], (pair[1], count), (pair[1], (pair[0], count)))])\n",
    "\n",
    "# group for each user: (user, [(user2, n2), (user3, n3) ...])\n",
    "count_by_user = two_way_count.groupByKey()\n",
    "\n",
    "# for each user, sort non-friend users by common friends\n",
    "recommendations = count_by_user.map(top_10)\n",
    "\n",
    "check = [str(user_id) for user_id in [924, 8941, 8942, 9019, 9020, 9021, 9022, 9990, 9992, 9993]]\n",
    "result = recommendations.filter(lambda rec : rec[0] in check).collect()\n",
    "result.sort(key=lambda x : int(x[0]))\n",
    "\n",
    "with open('output.txt', 'w') as file:\n",
    "    for line in result:\n",
    "        line = \"%s\\t%s\\n\"%(line[0], \",\".join(line[1]))\n",
    "        print(line, end=\"\")\n",
    "        file.write(line)\n",
    "        \n",
    "time_end = time.time()\n",
    "print(\"processing completed, time elapsed: %.2fs\\n\"%(time_end - time_start))"
   ]
  },
  {
   "cell_type": "code",
   "execution_count": 4,
   "metadata": {},
   "outputs": [],
   "source": [
    "sc.stop()"
   ]
  }
 ],
 "metadata": {
  "kernelspec": {
   "display_name": "Python 3",
   "language": "python",
   "name": "python3"
  },
  "language_info": {
   "codemirror_mode": {
    "name": "ipython",
    "version": 3
   },
   "file_extension": ".py",
   "mimetype": "text/x-python",
   "name": "python",
   "nbconvert_exporter": "python",
   "pygments_lexer": "ipython3",
   "version": "3.7.3"
  }
 },
 "nbformat": 4,
 "nbformat_minor": 2
}
