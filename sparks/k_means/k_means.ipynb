{
 "cells": [
  {
   "cell_type": "code",
   "execution_count": 1,
   "metadata": {},
   "outputs": [],
   "source": [
    "from pyspark import SparkConf, SparkContext\n",
    "import matplotlib.pyplot as plt\n",
    "import time\n",
    "\n",
    "conf = SparkConf()\n",
    "sc = SparkContext(conf=conf)\n",
    "sc.setLogLevel(\"ERROR\")"
   ]
  },
  {
   "cell_type": "code",
   "execution_count": 2,
   "metadata": {},
   "outputs": [],
   "source": [
    "data_fname = \"data/data.txt\"\n",
    "c1_fname = \"data/c1.txt\"\n",
    "c2_fname = \"data/c2.txt\""
   ]
  },
  {
   "cell_type": "code",
   "execution_count": 3,
   "metadata": {},
   "outputs": [],
   "source": [
    "data = (sc\n",
    "    .textFile(data_fname)\n",
    "    # .sample(False, 0.1, 0) # uncomment this line to load a small sample only\n",
    "    .map(lambda line : list(map(float, line.split(' ')))))\n",
    "\n",
    "c1, c2 = [(sc\n",
    "    .textFile(fname)\n",
    "    .map(lambda line : list(map(float, line.split(' '))))\n",
    "    .collect()) for fname in [c1_fname, c2_fname]]"
   ]
  },
  {
   "cell_type": "code",
   "execution_count": 4,
   "metadata": {},
   "outputs": [],
   "source": [
    "def euc_dist(x, y):\n",
    "    return sum([(i - j) ** 2 for i, j in zip(x, y)])\n",
    "\n",
    "def man_dist(x, y):\n",
    "    return sum([abs(i - j) for i, j in zip(x, y)])\n",
    "\n",
    "def min_idx(vals):\n",
    "    i = j = 0\n",
    "    for j in range(len(vals)):\n",
    "        if vals[j] < vals[i]:\n",
    "            i = j\n",
    "    assert(vals[i] == min(vals))\n",
    "    return i\n",
    "\n",
    "def compute_centroid(l):\n",
    "    s, n = l[0], len(l)\n",
    "    for p in l[1:]:\n",
    "        s = [i + j for i, j in zip(s, p)]\n",
    "    return [i / n for i in s]"
   ]
  },
  {
   "cell_type": "code",
   "execution_count": 5,
   "metadata": {},
   "outputs": [],
   "source": [
    "setup = {\"c1_euc\" : (euc_dist, c1), \n",
    "        \"c2_euc\" : (euc_dist, c2), \n",
    "        \"c1_man\" : (man_dist, c1), \n",
    "        \"c2_man\" : (man_dist, c2)}"
   ]
  },
  {
   "cell_type": "code",
   "execution_count": 6,
   "metadata": {},
   "outputs": [
    {
     "name": "stdout",
     "output_type": "stream",
     "text": [
      "Improve (c1_euc) 26.48%                                       \n",
      "Improve (c2_euc) 76.70%                                       \n",
      "Improve (c1_man) 18.65%                                       \n",
      "Improve (c2_man) 51.55%                                       \n",
      "processing completed, time elapsed: 75.97s\n",
      "\n"
     ]
    }
   ],
   "source": [
    "time_start = time.time()\n",
    "\n",
    "for title, (dist, c) in setup.items():\n",
    "    cost_hist = []\n",
    "    for i in range(21):\n",
    "        # step 1: map each data point to (point, [distance from all cnetroids])\n",
    "        # step 2: map to (point, idx_centroid, cost)\n",
    "        a = (data\n",
    "            .map(lambda x: (x, [dist(x, y) for y in c]))\n",
    "            .map(lambda x : (x[0], min_idx(x[1]), min(x[1]))))\n",
    "\n",
    "        # step 3: compute cost, map to (1, cost)\n",
    "        cost_hist.append(sum(x[2] for x in a.collect()))\n",
    "\n",
    "        # step 4: update centroid, (idx_centroid, [point])\n",
    "        c = (a\n",
    "            .map(lambda x : (x[1], [x[0]]))\n",
    "            .reduceByKey(lambda x, y : x + y)\n",
    "            .map(lambda x : compute_centroid(x[1]))\n",
    "            ).collect()\n",
    "\n",
    "        print(\"%s iteration %i, loss %.2f\"%(title, i + 1, cost_hist[-1]), end=\"\\r\")\n",
    "\n",
    "    plt.plot(cost_hist)\n",
    "    plt.savefig(\"output/%s.png\"%title)\n",
    "    plt.close()\n",
    "\n",
    "    # report improvement after 10 iterations, take the 11th index\n",
    "    print(\"Improve (%s) %.2f%%                                       \"\n",
    "        %(title, 100 * (cost_hist[0] - cost_hist[10]) / cost_hist[0]))\n",
    "    \n",
    "time_end = time.time()\n",
    "print(\"processing completed, time elapsed: %.2fs\\n\"%(time_end - time_start))"
   ]
  },
  {
   "cell_type": "code",
   "execution_count": 7,
   "metadata": {},
   "outputs": [],
   "source": [
    "sc.stop()"
   ]
  }
 ],
 "metadata": {
  "kernelspec": {
   "display_name": "Python 3",
   "language": "python",
   "name": "python3"
  },
  "language_info": {
   "codemirror_mode": {
    "name": "ipython",
    "version": 3
   },
   "file_extension": ".py",
   "mimetype": "text/x-python",
   "name": "python",
   "nbconvert_exporter": "python",
   "pygments_lexer": "ipython3",
   "version": "3.7.3"
  }
 },
 "nbformat": 4,
 "nbformat_minor": 2
}
