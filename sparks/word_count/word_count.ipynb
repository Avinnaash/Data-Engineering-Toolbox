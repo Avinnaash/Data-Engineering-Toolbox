{
 "cells": [
  {
   "cell_type": "code",
   "execution_count": 1,
   "metadata": {},
   "outputs": [],
   "source": [
    "import re\n",
    "import sys\n",
    "from pyspark import SparkConf, SparkContext\n",
    "\n",
    "conf = SparkConf()\n",
    "sc = SparkContext(conf=conf)\n",
    "\n",
    "fname = \"data/pg100.txt\"\n",
    "lines = sc.textFile(fname)"
   ]
  },
  {
   "cell_type": "markdown",
   "metadata": {},
   "source": [
    "#### Word Count"
   ]
  },
  {
   "cell_type": "code",
   "execution_count": 2,
   "metadata": {
    "scrolled": true
   },
   "outputs": [
    {
     "data": {
      "text/plain": [
       "[('', 197060),\n",
       " ('the', 23455),\n",
       " ('I', 22225),\n",
       " ('and', 18715),\n",
       " ('to', 16433),\n",
       " ('of', 15830),\n",
       " ('a', 12851),\n",
       " ('you', 12236),\n",
       " ('my', 10840),\n",
       " ('in', 10074)]"
      ]
     },
     "execution_count": 2,
     "metadata": {},
     "output_type": "execute_result"
    }
   ],
   "source": [
    "words = lines.flatMap(lambda l: re.split(r'[^\\w]+', l))\n",
    "\n",
    "pairs = words.map(lambda w: (w, 1))\n",
    "\n",
    "counts = pairs.reduceByKey(lambda n1, n2: n1 + n2)\n",
    "\n",
    "# uncomment to save to directory named word_count\n",
    "# counts.saveAsTextFile(\"word_count\")\n",
    "\n",
    "# print top 10 words \n",
    "result = sorted(counts.collect(), key=lambda rdd : -rdd[1])\n",
    "result[:10]"
   ]
  },
  {
   "cell_type": "markdown",
   "metadata": {},
   "source": [
    "#### Character Count"
   ]
  },
  {
   "cell_type": "code",
   "execution_count": 3,
   "metadata": {},
   "outputs": [
    {
     "data": {
      "text/plain": [
       "[('a', 86000),\n",
       " ('b', 46001),\n",
       " ('c', 34983),\n",
       " ('d', 39173),\n",
       " ('e', 20409),\n",
       " ('f', 37186),\n",
       " ('g', 21167),\n",
       " ('h', 61028),\n",
       " ('i', 62420),\n",
       " ('j', 3372),\n",
       " ('k', 9535),\n",
       " ('l', 32389),\n",
       " ('m', 56252),\n",
       " ('n', 27313),\n",
       " ('o', 43712),\n",
       " ('p', 28059),\n",
       " ('q', 2388),\n",
       " ('r', 15234),\n",
       " ('s', 75226),\n",
       " ('t', 127781),\n",
       " ('u', 9230),\n",
       " ('v', 5801),\n",
       " ('w', 60097),\n",
       " ('x', 14),\n",
       " ('y', 25926),\n",
       " ('z', 79)]"
      ]
     },
     "execution_count": 3,
     "metadata": {},
     "output_type": "execute_result"
    }
   ],
   "source": [
    "phrases = lines.flatMap(lambda l: re.split(r'[^\\w]+', l))\n",
    "\n",
    "# only consider words that begins with letters (not numbers)\n",
    "words = phrases.filter(lambda word: re.match('^[A-Za-z]', word))\n",
    "\n",
    "# map to lowercase, key contains the first letter only\n",
    "letters = words.map(lambda w: (w[0].lower(), 1))\n",
    "\n",
    "counts = letters.reduceByKey(lambda n1, n2: n1 + n2)\n",
    "\n",
    "# sort in descending order\n",
    "result = sorted(counts.collect(), key=lambda rdd : rdd[0])\n",
    "\n",
    "# save results\n",
    "with open('letter_count.txt', 'w') as file:\n",
    "    for letter, count in result:\n",
    "        file.write(\"(%s, %i)\\n\"%(letter, count))\n",
    "\n",
    "result"
   ]
  },
  {
   "cell_type": "code",
   "execution_count": 4,
   "metadata": {},
   "outputs": [],
   "source": [
    "sc.stop()"
   ]
  }
 ],
 "metadata": {
  "kernelspec": {
   "display_name": "Python 3",
   "language": "python",
   "name": "python3"
  },
  "language_info": {
   "codemirror_mode": {
    "name": "ipython",
    "version": 3
   },
   "file_extension": ".py",
   "mimetype": "text/x-python",
   "name": "python",
   "nbconvert_exporter": "python",
   "pygments_lexer": "ipython3",
   "version": "3.7.3"
  }
 },
 "nbformat": 4,
 "nbformat_minor": 2
}
