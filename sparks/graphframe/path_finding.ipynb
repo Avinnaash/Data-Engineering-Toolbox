{
 "cells": [
  {
   "cell_type": "code",
   "execution_count": 1,
   "metadata": {},
   "outputs": [],
   "source": [
    "from graphframes import *\n",
    "from pyspark import SparkContext"
   ]
  },
  {
   "cell_type": "code",
   "execution_count": 2,
   "metadata": {},
   "outputs": [],
   "source": [
    "from pyspark.sql import SparkSession\n",
    "spark = SparkSession.builder.getOrCreate()"
   ]
  },
  {
   "cell_type": "code",
   "execution_count": 3,
   "metadata": {},
   "outputs": [
    {
     "data": {
      "text/html": [
       "\n",
       "            <div>\n",
       "                <p><b>SparkSession - in-memory</b></p>\n",
       "                \n",
       "        <div>\n",
       "            <p><b>SparkContext</b></p>\n",
       "\n",
       "            <p><a href=\"http://586127dd6c5a:4040\">Spark UI</a></p>\n",
       "\n",
       "            <dl>\n",
       "              <dt>Version</dt>\n",
       "                <dd><code>v2.4.3</code></dd>\n",
       "              <dt>Master</dt>\n",
       "                <dd><code>local[*]</code></dd>\n",
       "              <dt>AppName</dt>\n",
       "                <dd><code>pyspark-shell</code></dd>\n",
       "            </dl>\n",
       "        </div>\n",
       "        \n",
       "            </div>\n",
       "        "
      ],
      "text/plain": [
       "<pyspark.sql.session.SparkSession at 0x7f2b3b3076a0>"
      ]
     },
     "execution_count": 3,
     "metadata": {},
     "output_type": "execute_result"
    }
   ],
   "source": [
    "spark"
   ]
  },
  {
   "cell_type": "code",
   "execution_count": 4,
   "metadata": {},
   "outputs": [],
   "source": [
    "from pyspark.sql.types import * \n",
    "from graphframes import *"
   ]
  },
  {
   "cell_type": "code",
   "execution_count": 5,
   "metadata": {},
   "outputs": [],
   "source": [
    "def create_transport_graph(): \n",
    "    node_fields = [\n",
    "        StructField(\"id\", StringType(), True),\n",
    "        StructField(\"latitude\", FloatType(), True),\n",
    "        StructField(\"longitude\", FloatType(), True),\n",
    "        StructField(\"population\", IntegerType(), True)\n",
    "    ]\n",
    "    nodes = spark.read.csv(\"data/transport/transport-nodes.csv\", header=True,\n",
    "                           schema=StructType(node_fields))\n",
    "    rels = spark.read.csv(\"data/transport/transport-relationships.csv\", header=True)\n",
    "    reversed_rels = (rels.withColumn(\"newSrc\", rels.dst)\n",
    "                     .withColumn(\"newDst\", rels.src)\n",
    "                     .drop(\"dst\", \"src\")\n",
    "                     .withColumnRenamed(\"newSrc\", \"src\")\n",
    "                     .withColumnRenamed(\"newDst\", \"dst\")\n",
    "                     .select(\"src\", \"dst\", \"relationship\", \"cost\"))\n",
    "    relationships = rels.union(reversed_rels) \n",
    "    return GraphFrame(nodes, relationships)\n",
    "\n",
    "g = create_transport_graph()"
   ]
  },
  {
   "cell_type": "markdown",
   "metadata": {},
   "source": [
    "#### BFS "
   ]
  },
  {
   "cell_type": "code",
   "execution_count": 6,
   "metadata": {},
   "outputs": [
    {
     "name": "stdout",
     "output_type": "stream",
     "text": [
      "+----------+--------+---------+----------+\n",
      "|        id|latitude|longitude|population|\n",
      "+----------+--------+---------+----------+\n",
      "|Colchester|51.88921|  0.90421|    104390|\n",
      "|   Ipswich|52.05917|  1.15545|    133384|\n",
      "+----------+--------+---------+----------+\n",
      "\n"
     ]
    }
   ],
   "source": [
    "(g.vertices\n",
    "     .filter(\"population > 100000 and population < 300000\")\n",
    "     .sort(\"population\")\n",
    "     .show())"
   ]
  },
  {
   "cell_type": "code",
   "execution_count": 7,
   "metadata": {},
   "outputs": [
    {
     "name": "stdout",
     "output_type": "stream",
     "text": [
      "['from', 'e0', 'v1', 'e1', 'v2', 'e2', 'to']\n"
     ]
    }
   ],
   "source": [
    "from_expr = \"id='Den Haag'\"\n",
    "to_expr = \"population > 100000 and population < 300000 and id <> 'Den Haag'\"\n",
    "result = g.bfs(from_expr, to_expr)\n",
    "    \n",
    "print(result.columns)"
   ]
  },
  {
   "cell_type": "code",
   "execution_count": 8,
   "metadata": {},
   "outputs": [
    {
     "name": "stdout",
     "output_type": "stream",
     "text": [
      "+--------------------+--------------------+--------------------+--------------------+--------------------+--------------------+--------------------+\n",
      "|                from|                  e0|                  v1|                  e1|                  v2|                  e2|                  to|\n",
      "+--------------------+--------------------+--------------------+--------------------+--------------------+--------------------+--------------------+\n",
      "|[Den Haag, 52.078...|[Den Haag, Hoek v...|[Hoek van Holland...|[Hoek van Holland...|[Felixstowe, 51.9...|[Felixstowe, Ipsw...|[Ipswich, 52.0591...|\n",
      "|[Den Haag, 52.078...|[Den Haag, Hoek v...|[Hoek van Holland...|[Hoek van Holland...|[Felixstowe, 51.9...|[Felixstowe, Ipsw...|[Ipswich, 52.0591...|\n",
      "|[Den Haag, 52.078...|[Den Haag, Hoek v...|[Hoek van Holland...|[Hoek van Holland...|[Felixstowe, 51.9...|[Felixstowe, Ipsw...|[Ipswich, 52.0591...|\n",
      "|[Den Haag, 52.078...|[Den Haag, Hoek v...|[Hoek van Holland...|[Hoek van Holland...|[Felixstowe, 51.9...|[Felixstowe, Ipsw...|[Ipswich, 52.0591...|\n",
      "|[Den Haag, 52.078...|[Den Haag, Hoek v...|[Hoek van Holland...|[Hoek van Holland...|[Felixstowe, 51.9...|[Felixstowe, Ipsw...|[Ipswich, 52.0591...|\n",
      "|[Den Haag, 52.078...|[Den Haag, Hoek v...|[Hoek van Holland...|[Hoek van Holland...|[Felixstowe, 51.9...|[Felixstowe, Ipsw...|[Ipswich, 52.0591...|\n",
      "|[Den Haag, 52.078...|[Den Haag, Hoek v...|[Hoek van Holland...|[Hoek van Holland...|[Felixstowe, 51.9...|[Felixstowe, Ipsw...|[Ipswich, 52.0591...|\n",
      "|[Den Haag, 52.078...|[Den Haag, Hoek v...|[Hoek van Holland...|[Hoek van Holland...|[Felixstowe, 51.9...|[Felixstowe, Ipsw...|[Ipswich, 52.0591...|\n",
      "+--------------------+--------------------+--------------------+--------------------+--------------------+--------------------+--------------------+\n",
      "\n"
     ]
    }
   ],
   "source": [
    "result.show()"
   ]
  },
  {
   "cell_type": "code",
   "execution_count": 9,
   "metadata": {},
   "outputs": [
    {
     "name": "stdout",
     "output_type": "stream",
     "text": [
      "+--------------------+--------------------+--------------------+--------------------+\n",
      "|                from|                  v1|                  v2|                  to|\n",
      "+--------------------+--------------------+--------------------+--------------------+\n",
      "|[Den Haag, 52.078...|[Hoek van Holland...|[Felixstowe, 51.9...|[Ipswich, 52.0591...|\n",
      "|[Den Haag, 52.078...|[Hoek van Holland...|[Felixstowe, 51.9...|[Ipswich, 52.0591...|\n",
      "|[Den Haag, 52.078...|[Hoek van Holland...|[Felixstowe, 51.9...|[Ipswich, 52.0591...|\n",
      "|[Den Haag, 52.078...|[Hoek van Holland...|[Felixstowe, 51.9...|[Ipswich, 52.0591...|\n",
      "|[Den Haag, 52.078...|[Hoek van Holland...|[Felixstowe, 51.9...|[Ipswich, 52.0591...|\n",
      "|[Den Haag, 52.078...|[Hoek van Holland...|[Felixstowe, 51.9...|[Ipswich, 52.0591...|\n",
      "|[Den Haag, 52.078...|[Hoek van Holland...|[Felixstowe, 51.9...|[Ipswich, 52.0591...|\n",
      "|[Den Haag, 52.078...|[Hoek van Holland...|[Felixstowe, 51.9...|[Ipswich, 52.0591...|\n",
      "+--------------------+--------------------+--------------------+--------------------+\n",
      "\n"
     ]
    }
   ],
   "source": [
    "columns = [column for column in result.columns if not column.startswith(\"e\")] \n",
    "result.select(columns).show()"
   ]
  },
  {
   "cell_type": "markdown",
   "metadata": {},
   "source": [
    "#### Shortest Path (weighted)\n",
    "* Message passing via AggregateMessages"
   ]
  },
  {
   "cell_type": "code",
   "execution_count": 10,
   "metadata": {},
   "outputs": [],
   "source": [
    "from graphframes.lib import AggregateMessages as AM \n",
    "from pyspark.sql import functions as F"
   ]
  },
  {
   "cell_type": "code",
   "execution_count": 11,
   "metadata": {},
   "outputs": [],
   "source": [
    "add_path_udf = F.udf(lambda path, id: path + [id], ArrayType(StringType()))\n",
    "sc = spark.sparkContext"
   ]
  },
  {
   "cell_type": "code",
   "execution_count": 12,
   "metadata": {},
   "outputs": [],
   "source": [
    "def shortest_path(g, origin, destination, column_name=\"cost\"):\n",
    "    if g.vertices.filter(g.vertices.id == destination).count() == 0:\n",
    "        return\n",
    "    \n",
    "    vertices = (g.vertices.withColumn(\"visited\", F.lit(False))\n",
    "                .withColumn(\"distance\", F.when(g.vertices[\"id\"] == origin, 0)\n",
    "                .otherwise(float(\"inf\")))\n",
    "                .withColumn(\"path\", F.array()))\n",
    "    cached_vertices = AM.getCachedDataFrame(vertices)\n",
    "    g2 = GraphFrame(cached_vertices, g.edges)\n",
    "\n",
    "    print(\"hello\")\n",
    "    while g2.vertices.filter('visited == False').first(): \n",
    "        current_node_id = g2.vertices.filter('visited == False').sort(\"distance\").first().id\n",
    "        msg_distance = AM.edge[column_name] + AM.src['distance']\n",
    "        msg_path = add_path_udf(AM.src[\"path\"], AM.src[\"id\"])\n",
    "        msg_for_dst = F.when(AM.src['id'] == current_node_id, F.struct(msg_distance, msg_path))\n",
    "        new_distances = g2.aggregateMessages(F.min(AM.msg).alias(\"aggMess\"), sendToDst=msg_for_dst)\n",
    "    \n",
    "        new_visited_col = F.when(\n",
    "                g2.vertices.visited | (g2.vertices.id == current_node_id),\n",
    "                                                    True).otherwise(False)\n",
    "        \n",
    "        new_distance_col = F.when(new_distances[\"aggMess\"].isNotNull() & \\\n",
    "                                  (new_distances.aggMess[\"col1\"] < g2.vertices.distance),\\\n",
    "                                  new_distances.aggMess[\"col1\"]).otherwise(g2.vertices.distance)\n",
    "            \n",
    "        new_path_col = F.when(new_distances[\"aggMess\"].isNotNull() &\n",
    "                           (new_distances.aggMess[\"col1\"]\n",
    "                           < g2.vertices.distance), new_distances.aggMess[\"col2\"]\n",
    "                           .cast(\"array<string>\")).otherwise(g2.vertices.path)\n",
    "        \n",
    "        new_vertices = (g2.vertices.join(new_distances, on=\"id\", how=\"left_outer\")\n",
    "                            .drop(new_distances[\"id\"])\n",
    "                            .withColumn(\"visited\", new_visited_col)\n",
    "                            .withColumn(\"newDistance\", new_distance_col)\n",
    "                            .withColumn(\"newPath\", new_path_col)\n",
    "                            .drop(\"aggMess\", \"distance\", \"path\")\n",
    "                            .withColumnRenamed('newDistance', 'distance')\n",
    "                            .withColumnRenamed('newPath', 'path'))\n",
    "        cached_new_vertices = AM.getCachedDataFrame(new_vertices)\n",
    "        g2 = GraphFrame(cached_new_vertices, g2.edges)\n",
    "        \n",
    "        print(current_node_id, destination, g2.vertices.filter(g2.vertices.id == destination).first().visited)\n",
    "        if g2.vertices.filter(g2.vertices.id == destination).first().visited:\n",
    "            return (g2.vertices.filter(g2.vertices.id == destination)\n",
    "                    .withColumn(\"newPath\", add_path_udf(\"path\", \"id\"))\n",
    "                    .drop(\"visited\", \"path\")\n",
    "                    .withColumnRenamed(\"newPath\", \"path\"))"
   ]
  },
  {
   "cell_type": "code",
   "execution_count": 13,
   "metadata": {},
   "outputs": [
    {
     "name": "stdout",
     "output_type": "stream",
     "text": [
      "hello\n",
      "Amsterdam Colchester False\n",
      "Utrecht Colchester False\n",
      "Den Haag Colchester False\n",
      "Gouda Colchester False\n",
      "Rotterdam Colchester False\n",
      "Hoek van Holland Colchester False\n",
      "Felixstowe Colchester False\n",
      "Ipswich Colchester False\n",
      "Colchester Colchester True\n",
      "+----------+--------+------------------------------------------------------------------------+\n",
      "|id        |distance|path                                                                    |\n",
      "+----------+--------+------------------------------------------------------------------------+\n",
      "|Colchester|347.0   |[Amsterdam, Den Haag, Hoek van Holland, Felixstowe, Ipswich, Colchester]|\n",
      "+----------+--------+------------------------------------------------------------------------+\n",
      "\n"
     ]
    }
   ],
   "source": [
    "result = shortest_path(g, origin = \"Amsterdam\", destination = \"Colchester\", column_name=\"cost\")\n",
    "if result:\n",
    "    result.select(\"id\", \"distance\", \"path\").show(truncate=False)"
   ]
  },
  {
   "cell_type": "markdown",
   "metadata": {},
   "source": [
    "#### Shortest Path Landmark (unweighted)"
   ]
  },
  {
   "cell_type": "code",
   "execution_count": 14,
   "metadata": {},
   "outputs": [
    {
     "name": "stdout",
     "output_type": "stream",
     "text": [
      "+----------------+--------------------------------------------------------+\n",
      "|id              |distances                                               |\n",
      "+----------------+--------------------------------------------------------+\n",
      "|Amsterdam       |[Immingham -> 1, Hoek van Holland -> 2, Colchester -> 4]|\n",
      "|Colchester      |[Colchester -> 0, Immingham -> 3, Hoek van Holland -> 3]|\n",
      "|Den Haag        |[Hoek van Holland -> 1, Immingham -> 2, Colchester -> 4]|\n",
      "|Doncaster       |[Immingham -> 1, Colchester -> 2, Hoek van Holland -> 4]|\n",
      "|Felixstowe      |[Hoek van Holland -> 1, Colchester -> 2, Immingham -> 4]|\n",
      "|Gouda           |[Hoek van Holland -> 2, Immingham -> 3, Colchester -> 5]|\n",
      "|Hoek van Holland|[Hoek van Holland -> 0, Immingham -> 3, Colchester -> 3]|\n",
      "|Immingham       |[Immingham -> 0, Colchester -> 3, Hoek van Holland -> 3]|\n",
      "|Ipswich         |[Colchester -> 1, Hoek van Holland -> 2, Immingham -> 4]|\n",
      "|London          |[Colchester -> 1, Immingham -> 2, Hoek van Holland -> 4]|\n",
      "|Rotterdam       |[Hoek van Holland -> 1, Immingham -> 3, Colchester -> 4]|\n",
      "|Utrecht         |[Immingham -> 2, Hoek van Holland -> 3, Colchester -> 5]|\n",
      "+----------------+--------------------------------------------------------+\n",
      "\n"
     ]
    }
   ],
   "source": [
    "result = g.shortestPaths([\"Colchester\", \"Immingham\", \"Hoek van Holland\"])\n",
    "result.sort([\"id\"]).select(\"id\", \"distances\").show(truncate=False)"
   ]
  },
  {
   "cell_type": "markdown",
   "metadata": {},
   "source": [
    "#### Single Source Shortest Path"
   ]
  },
  {
   "cell_type": "code",
   "execution_count": 15,
   "metadata": {},
   "outputs": [],
   "source": [
    "def sssp(g, origin, column_name=\"cost\"): \n",
    "    vertices = g.vertices \\\n",
    "            .withColumn(\"visited\", F.lit(False)) \\\n",
    "            .withColumn(\"distance\",\n",
    "                F.when(g.vertices[\"id\"] == origin, 0).otherwise(float(\"inf\"))) \\\n",
    "            .withColumn(\"path\", F.array())\n",
    "    cached_vertices = AM.getCachedDataFrame(vertices)\n",
    "    g2 = GraphFrame(cached_vertices, g.edges)\n",
    "    while g2.vertices.filter('visited == False').first():\n",
    "        current_node_id = g2.vertices.filter('visited == False').sort(\"distance\").first().id\n",
    "        \n",
    "        msg_distance = AM.edge[column_name] + AM.src['distance']\n",
    "        msg_path = add_path_udf(AM.src[\"path\"], AM.src[\"id\"])\n",
    "        msg_for_dst = F.when(AM.src['id'] == current_node_id, F.struct(msg_distance, msg_path))\n",
    "        new_distances = g2.aggregateMessages(F.min(AM.msg).alias(\"aggMess\"), sendToDst=msg_for_dst)\n",
    "        \n",
    "        new_visited_col = F.when(g2.vertices.visited | (g2.vertices.id == current_node_id), True).otherwise(False)\n",
    "        \n",
    "        new_distance_col = F.when(new_distances[\"aggMess\"].isNotNull() &\n",
    "                                      (new_distances.aggMess[\"col1\"] <\n",
    "                                      g2.vertices.distance),\n",
    "                                      new_distances.aggMess[\"col1\"]) \\\n",
    "                                      .otherwise(g2.vertices.distance)\n",
    "        new_path_col = F.when(new_distances[\"aggMess\"].isNotNull() &\n",
    "                                  (new_distances.aggMess[\"col1\"] <\n",
    "                                  g2.vertices.distance),\n",
    "                                  new_distances.aggMess[\"col2\"]\n",
    "                                  .cast(\"array<string>\")) \\\n",
    "                                  .otherwise(g2.vertices.path)\n",
    "        new_vertices = g2.vertices.join(new_distances, on=\"id\",\n",
    "                                            how=\"left_outer\") \\\n",
    "                .drop(new_distances[\"id\"]) \\\n",
    "                .withColumn(\"visited\", new_visited_col) \\\n",
    "                .withColumn(\"newDistance\", new_distance_col) \\\n",
    "                .withColumn(\"newPath\", new_path_col) \\\n",
    "                .drop(\"aggMess\", \"distance\", \"path\") \\\n",
    "                .withColumnRenamed('newDistance', 'distance') \\\n",
    "                .withColumnRenamed('newPath', 'path')\n",
    "        cached_new_vertices = AM.getCachedDataFrame(new_vertices)\n",
    "        g2 = GraphFrame(cached_new_vertices, g2.edges)\n",
    "        \n",
    "    return g2.vertices \\\n",
    "            .withColumn(\"newPath\", add_path_udf(\"path\", \"id\")) \\\n",
    "            .drop(\"visited\", \"path\") \\\n",
    "            .withColumnRenamed(\"newPath\", \"path\")"
   ]
  },
  {
   "cell_type": "code",
   "execution_count": 16,
   "metadata": {},
   "outputs": [
    {
     "name": "stdout",
     "output_type": "stream",
     "text": [
      "+----------------+--------+-------------------------------------------------------------+\n",
      "|id              |distance|via                                                          |\n",
      "+----------------+--------+-------------------------------------------------------------+\n",
      "|Amsterdam       |0.0     |[]                                                           |\n",
      "|Utrecht         |46.0    |[]                                                           |\n",
      "|Den Haag        |59.0    |[]                                                           |\n",
      "|Gouda           |81.0    |[Utrecht]                                                    |\n",
      "|Rotterdam       |85.0    |[Den Haag]                                                   |\n",
      "|Hoek van Holland|86.0    |[Den Haag]                                                   |\n",
      "|Felixstowe      |293.0   |[Den Haag, Hoek van Holland]                                 |\n",
      "|Ipswich         |315.0   |[Den Haag, Hoek van Holland, Felixstowe]                     |\n",
      "|Colchester      |347.0   |[Den Haag, Hoek van Holland, Felixstowe, Ipswich]            |\n",
      "|Immingham       |369.0   |[]                                                           |\n",
      "|Doncaster       |443.0   |[Immingham]                                                  |\n",
      "|London          |453.0   |[Den Haag, Hoek van Holland, Felixstowe, Ipswich, Colchester]|\n",
      "+----------------+--------+-------------------------------------------------------------+\n",
      "\n"
     ]
    }
   ],
   "source": [
    "via_udf = F.udf(lambda path: path[1:-1], ArrayType(StringType()))\n",
    "\n",
    "result = sssp(g, \"Amsterdam\", \"cost\")\n",
    "\n",
    "(result\n",
    " .withColumn(\"via\", via_udf(\"path\"))\n",
    " .select(\"id\", \"distance\", \"via\")\n",
    " .sort(\"distance\")\n",
    " .show(truncate=False))"
   ]
  }
 ],
 "metadata": {
  "kernelspec": {
   "display_name": "Python 3",
   "language": "python",
   "name": "python3"
  },
  "language_info": {
   "codemirror_mode": {
    "name": "ipython",
    "version": 3
   },
   "file_extension": ".py",
   "mimetype": "text/x-python",
   "name": "python",
   "nbconvert_exporter": "python",
   "pygments_lexer": "ipython3",
   "version": "3.7.3"
  }
 },
 "nbformat": 4,
 "nbformat_minor": 2
}
