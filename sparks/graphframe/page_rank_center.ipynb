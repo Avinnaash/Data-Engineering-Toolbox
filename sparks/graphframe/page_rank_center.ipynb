{
 "cells": [
  {
   "cell_type": "code",
   "execution_count": 1,
   "metadata": {},
   "outputs": [],
   "source": [
    "import pandas as pd\n",
    "import numpy as np\n",
    "\n",
    "from graphframes import *\n",
    "from pyspark import SparkContext\n",
    "\n",
    "from pyspark.sql import SparkSession\n",
    "spark = SparkSession.builder.getOrCreate()"
   ]
  },
  {
   "cell_type": "code",
   "execution_count": 2,
   "metadata": {},
   "outputs": [],
   "source": [
    "from py2neo import Graph\n",
    "ip = \"192.168.0.103\"\n",
    "graph = Graph(\"bolt://%s:7687\"%ip, password=\"123456\")"
   ]
  },
  {
   "cell_type": "markdown",
   "metadata": {},
   "source": [
    "##### Degree Table"
   ]
  },
  {
   "cell_type": "code",
   "execution_count": 3,
   "metadata": {},
   "outputs": [
    {
     "name": "stdout",
     "output_type": "stream",
     "text": [
      "+-------+------------------+\n",
      "|   name|        centrality|\n",
      "+-------+------------------+\n",
      "|  Jayce| 2.287159536732361|\n",
      "|  Honor|2.2093509583268314|\n",
      "|  Eskil|1.9679772497620436|\n",
      "|   Ylia|1.8108202247880398|\n",
      "|Sanders|1.5414855016628275|\n",
      "+-------+------------------+\n",
      "only showing top 5 rows\n",
      "\n"
     ]
    }
   ],
   "source": [
    "query = \"\"\"\n",
    "CALL algo.pageRank.stream('Person', 'KNOWS', {iterations:20, dampingFactor:0.85})\n",
    "YIELD nodeId, score\n",
    "RETURN algo.getNodeById(nodeId).name AS name, score as centrality\n",
    "ORDER BY centrality DESC\n",
    "\"\"\"\n",
    "\n",
    "df_rank = graph.run(query).to_data_frame()\n",
    "df_rank = spark.createDataFrame(df_rank.values.tolist(), list(df_rank.columns.values))\n",
    "df_rank.createOrReplaceTempView('df_rank')\n",
    "df_rank.show(5)"
   ]
  },
  {
   "cell_type": "markdown",
   "metadata": {},
   "source": [
    "##### Component Table"
   ]
  },
  {
   "cell_type": "code",
   "execution_count": 4,
   "metadata": {},
   "outputs": [
    {
     "name": "stdout",
     "output_type": "stream",
     "text": [
      "+--------+---------+\n",
      "|    name|component|\n",
      "+--------+---------+\n",
      "|  Lucius|       18|\n",
      "|   Randy|       38|\n",
      "|    Cruz|        2|\n",
      "|Felicity|        3|\n",
      "|Anderson|       18|\n",
      "+--------+---------+\n",
      "only showing top 5 rows\n",
      "\n"
     ]
    }
   ],
   "source": [
    "query = \"\"\"\n",
    "CALL algo.unionFind.stream(\"Person\", \"KNOWS\")\n",
    "YIELD nodeId, setId\n",
    "RETURN algo.getNodeById(nodeId).name as name, setId as component\n",
    "\"\"\"\n",
    "\n",
    "graph.run(query).to_data_frame()\n",
    "\n",
    "df_tmp = graph.run(query).to_data_frame()\n",
    "df_tmp = spark.createDataFrame(df_tmp.values.tolist(), list(df_tmp.columns.values))\n",
    "df_tmp.createOrReplaceTempView('df_tmp')\n",
    "df_tmp.show(5)"
   ]
  },
  {
   "cell_type": "markdown",
   "metadata": {},
   "source": [
    "##### Size Table (for filtering)"
   ]
  },
  {
   "cell_type": "code",
   "execution_count": 5,
   "metadata": {},
   "outputs": [
    {
     "name": "stdout",
     "output_type": "stream",
     "text": [
      "+---------+---+\n",
      "|component| sz|\n",
      "+---------+---+\n",
      "|       60| 39|\n",
      "|       18| 24|\n",
      "|       38| 16|\n",
      "|       30|  9|\n",
      "|       11|  2|\n",
      "+---------+---+\n",
      "only showing top 5 rows\n",
      "\n"
     ]
    }
   ],
   "source": [
    "sql = \"\"\"\n",
    "select component, count(*) as sz\n",
    "from df_tmp\n",
    "group by component\n",
    "order by sz desc\n",
    "\"\"\"\n",
    "\n",
    "df_sz = spark.sql(sql)\n",
    "df_sz.createOrReplaceTempView('df_sz')\n",
    "df_sz.show(5)"
   ]
  },
  {
   "cell_type": "markdown",
   "metadata": {},
   "source": [
    "#### Mark Core\n",
    "\n",
    "\n",
    "<img src=\"assets/50_closeness_center.svg\" alt=\"Drawing\" style=\"width: 800px;\"/>"
   ]
  },
  {
   "cell_type": "code",
   "execution_count": 6,
   "metadata": {},
   "outputs": [
    {
     "data": {
      "text/html": [
       "<div>\n",
       "<style scoped>\n",
       "    .dataframe tbody tr th:only-of-type {\n",
       "        vertical-align: middle;\n",
       "    }\n",
       "\n",
       "    .dataframe tbody tr th {\n",
       "        vertical-align: top;\n",
       "    }\n",
       "\n",
       "    .dataframe thead th {\n",
       "        text-align: right;\n",
       "    }\n",
       "</style>\n",
       "<table border=\"1\" class=\"dataframe\">\n",
       "  <thead>\n",
       "    <tr style=\"text-align: right;\">\n",
       "      <th></th>\n",
       "      <th>name</th>\n",
       "      <th>component</th>\n",
       "      <th>centrality</th>\n",
       "      <th>sz</th>\n",
       "    </tr>\n",
       "  </thead>\n",
       "  <tbody>\n",
       "    <tr>\n",
       "      <th>0</th>\n",
       "      <td>Boston</td>\n",
       "      <td>18</td>\n",
       "      <td>0.921808</td>\n",
       "      <td>24</td>\n",
       "    </tr>\n",
       "    <tr>\n",
       "      <th>1</th>\n",
       "      <td>Archer</td>\n",
       "      <td>38</td>\n",
       "      <td>0.952334</td>\n",
       "      <td>16</td>\n",
       "    </tr>\n",
       "    <tr>\n",
       "      <th>2</th>\n",
       "      <td>Shiloh</td>\n",
       "      <td>30</td>\n",
       "      <td>0.449625</td>\n",
       "      <td>9</td>\n",
       "    </tr>\n",
       "    <tr>\n",
       "      <th>3</th>\n",
       "      <td>Jayce</td>\n",
       "      <td>60</td>\n",
       "      <td>2.287160</td>\n",
       "      <td>39</td>\n",
       "    </tr>\n",
       "  </tbody>\n",
       "</table>\n",
       "</div>"
      ],
      "text/plain": [
       "     name  component  centrality  sz\n",
       "0  Boston         18    0.921808  24\n",
       "1  Archer         38    0.952334  16\n",
       "2  Shiloh         30    0.449625   9\n",
       "3   Jayce         60    2.287160  39"
      ]
     },
     "execution_count": 6,
     "metadata": {},
     "output_type": "execute_result"
    }
   ],
   "source": [
    "sql = \"\"\"\n",
    "with numbered as (\n",
    "select\n",
    "  a.name, a.component, b.centrality\n",
    "  ,row_number() over (partition by component order by centrality desc, a.name) as rn\n",
    "from df_tmp as a\n",
    "join df_rank as b\n",
    "on a.name = b.name\n",
    ")\n",
    "select a.name, a.component, a.centrality, b.sz\n",
    "from numbered a\n",
    "join df_sz as b\n",
    "on a.component = b.component\n",
    "where rn = 1\n",
    "  and b.sz > 2\n",
    "\"\"\"\n",
    "df_core = spark.sql(sql).toPandas()\n",
    "df_core.head()"
   ]
  },
  {
   "cell_type": "code",
   "execution_count": 7,
   "metadata": {},
   "outputs": [
    {
     "data": {
      "text/plain": [
       "<py2neo.database.Cursor at 0x7ff80f2bf2b0>"
      ]
     },
     "execution_count": 7,
     "metadata": {},
     "output_type": "execute_result"
    }
   ],
   "source": [
    "# Unmark Core\n",
    "cql = \"\"\"\n",
    "MATCH (n)\n",
    "REMOVE n:Core\n",
    "return n\n",
    "\"\"\"\n",
    "graph.run(cql)"
   ]
  },
  {
   "cell_type": "code",
   "execution_count": 8,
   "metadata": {},
   "outputs": [
    {
     "name": "stdout",
     "output_type": "stream",
     "text": [
      "\n",
      "MATCH (n)\n",
      "WHERE n.name IN [\"Boston\", \"Archer\", \"Shiloh\", \"Jayce\"]\n",
      "SET n:Core\n",
      "return n\n",
      "\n"
     ]
    },
    {
     "data": {
      "text/plain": [
       "<py2neo.database.Cursor at 0x7ff80f2bffd0>"
      ]
     },
     "execution_count": 8,
     "metadata": {},
     "output_type": "execute_result"
    }
   ],
   "source": [
    "cql = \"\"\"\n",
    "MATCH (n)\n",
    "WHERE n.name IN [%s]\n",
    "SET n:Core\n",
    "return n\n",
    "\"\"\"%\", \".join(\"\\\"%s\\\"\"%core for core in df_core.name.values)\n",
    "print(cql)\n",
    "graph.run(cql)"
   ]
  }
 ],
 "metadata": {
  "kernelspec": {
   "display_name": "Python 3",
   "language": "python",
   "name": "python3"
  },
  "language_info": {
   "codemirror_mode": {
    "name": "ipython",
    "version": 3
   },
   "file_extension": ".py",
   "mimetype": "text/x-python",
   "name": "python",
   "nbconvert_exporter": "python",
   "pygments_lexer": "ipython3",
   "version": "3.7.3"
  }
 },
 "nbformat": 4,
 "nbformat_minor": 2
}
