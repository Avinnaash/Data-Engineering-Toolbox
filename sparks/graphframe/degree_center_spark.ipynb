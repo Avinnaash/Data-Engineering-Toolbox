{
 "cells": [
  {
   "cell_type": "code",
   "execution_count": 1,
   "metadata": {},
   "outputs": [],
   "source": [
    "import pandas as pd\n",
    "import numpy as np\n",
    "\n",
    "from graphframes import *\n",
    "from pyspark import SparkContext\n",
    "\n",
    "from pyspark.sql import SparkSession\n",
    "spark = SparkSession.builder.getOrCreate()"
   ]
  },
  {
   "cell_type": "code",
   "execution_count": 2,
   "metadata": {},
   "outputs": [],
   "source": [
    "from py2neo import Graph\n",
    "ip = \"192.168.0.101\"\n",
    "graph = Graph(\"bolt://%s:7687\"%ip, password=\"123456\")"
   ]
  },
  {
   "cell_type": "code",
   "execution_count": 3,
   "metadata": {},
   "outputs": [],
   "source": [
    "v = spark.read.csv(\"data/community_evolution/day_0_v.csv\", header=True)\n",
    "e = spark.read.csv(\"data/community_evolution/day_0_e.csv\", header=True)\n",
    "g = GraphFrame(v, e)"
   ]
  },
  {
   "cell_type": "markdown",
   "metadata": {},
   "source": [
    "##### Degree Table"
   ]
  },
  {
   "cell_type": "code",
   "execution_count": 4,
   "metadata": {},
   "outputs": [
    {
     "data": {
      "text/html": [
       "<div>\n",
       "<style scoped>\n",
       "    .dataframe tbody tr th:only-of-type {\n",
       "        vertical-align: middle;\n",
       "    }\n",
       "\n",
       "    .dataframe tbody tr th {\n",
       "        vertical-align: top;\n",
       "    }\n",
       "\n",
       "    .dataframe thead th {\n",
       "        text-align: right;\n",
       "    }\n",
       "</style>\n",
       "<table border=\"1\" class=\"dataframe\">\n",
       "  <thead>\n",
       "    <tr style=\"text-align: right;\">\n",
       "      <th></th>\n",
       "      <th>id</th>\n",
       "      <th>degree</th>\n",
       "      <th>inDegree</th>\n",
       "      <th>outDegree</th>\n",
       "      <th>name</th>\n",
       "    </tr>\n",
       "  </thead>\n",
       "  <tbody>\n",
       "    <tr>\n",
       "      <th>0</th>\n",
       "      <td>94</td>\n",
       "      <td>9</td>\n",
       "      <td>6</td>\n",
       "      <td>3</td>\n",
       "      <td>Gerald</td>\n",
       "    </tr>\n",
       "    <tr>\n",
       "      <th>1</th>\n",
       "      <td>99</td>\n",
       "      <td>7</td>\n",
       "      <td>5</td>\n",
       "      <td>2</td>\n",
       "      <td>Rainey</td>\n",
       "    </tr>\n",
       "    <tr>\n",
       "      <th>2</th>\n",
       "      <td>71</td>\n",
       "      <td>6</td>\n",
       "      <td>2</td>\n",
       "      <td>4</td>\n",
       "      <td>Lenny</td>\n",
       "    </tr>\n",
       "    <tr>\n",
       "      <th>3</th>\n",
       "      <td>31</td>\n",
       "      <td>6</td>\n",
       "      <td>2</td>\n",
       "      <td>4</td>\n",
       "      <td>Barbara</td>\n",
       "    </tr>\n",
       "    <tr>\n",
       "      <th>4</th>\n",
       "      <td>95</td>\n",
       "      <td>6</td>\n",
       "      <td>3</td>\n",
       "      <td>3</td>\n",
       "      <td>Trey</td>\n",
       "    </tr>\n",
       "  </tbody>\n",
       "</table>\n",
       "</div>"
      ],
      "text/plain": [
       "   id  degree  inDegree  outDegree     name\n",
       "0  94       9         6          3   Gerald\n",
       "1  99       7         5          2   Rainey\n",
       "2  71       6         2          4    Lenny\n",
       "3  31       6         2          4  Barbara\n",
       "4  95       6         3          3     Trey"
      ]
     },
     "execution_count": 4,
     "metadata": {},
     "output_type": "execute_result"
    }
   ],
   "source": [
    "total_degree = g.degrees\n",
    "in_degree = g.inDegrees\n",
    "out_degree = g.outDegrees\n",
    "\n",
    "df_degree = (total_degree.join(in_degree, \"id\", how=\"left\")\n",
    " .join(out_degree, \"id\", how=\"left\")\n",
    " .join(v, \"id\", how=\"left\")\n",
    " .fillna(0)\n",
    " .sort(\"degree\", ascending=False))\n",
    "\n",
    "df_degree.createOrReplaceTempView('df_degree')\n",
    "df_degree = df_degree.toPandas()\n",
    "df_degree.head(5)"
   ]
  },
  {
   "cell_type": "code",
   "execution_count": 5,
   "metadata": {},
   "outputs": [
    {
     "data": {
      "text/plain": [
       "(84, 5)"
      ]
     },
     "execution_count": 5,
     "metadata": {},
     "output_type": "execute_result"
    }
   ],
   "source": [
    "df_degree.shape"
   ]
  },
  {
   "cell_type": "markdown",
   "metadata": {},
   "source": [
    "##### Component Table"
   ]
  },
  {
   "cell_type": "code",
   "execution_count": 6,
   "metadata": {},
   "outputs": [
    {
     "name": "stdout",
     "output_type": "stream",
     "text": [
      "+---+--------+------------+\n",
      "| id|    name|   component|\n",
      "+---+--------+------------+\n",
      "| 51|Channing| 25769803776|\n",
      "|  7|  Kilian| 25769803776|\n",
      "| 15| Gabriel| 25769803776|\n",
      "| 54|  Joanna| 60129542145|\n",
      "| 11|    Oren| 25769803776|\n",
      "| 29|Geoffrey|120259084288|\n",
      "| 69|Arabella|120259084289|\n",
      "| 42| Bristol| 25769803776|\n",
      "| 73|Cheyenne|137438953472|\n",
      "| 87|   Julie|120259084289|\n",
      "| 64| Katelyn|120259084289|\n",
      "|  3|Isabella| 25769803776|\n",
      "| 30|   Donna|163208757248|\n",
      "| 34|  Zahara|120259084289|\n",
      "| 59|   Coryn| 25769803776|\n",
      "|  8|   Helen|223338299392|\n",
      "| 22|Florence|249108103168|\n",
      "| 28|  Wilson|249108103169|\n",
      "| 85|   Idaia|120259084289|\n",
      "| 16|  Winona|249108103168|\n",
      "+---+--------+------------+\n",
      "only showing top 20 rows\n",
      "\n"
     ]
    }
   ],
   "source": [
    "sc = spark.sparkContext\n",
    "sc.setCheckpointDir(\"checkpoint\")\n",
    "\n",
    "df_cc = g.connectedComponents()\n",
    "df_cc.createOrReplaceTempView('df_tmp')\n",
    "\n",
    "df_cc.show()"
   ]
  },
  {
   "cell_type": "markdown",
   "metadata": {},
   "source": [
    "##### Size Table (for filtering)"
   ]
  },
  {
   "cell_type": "code",
   "execution_count": 7,
   "metadata": {},
   "outputs": [
    {
     "data": {
      "text/html": [
       "<div>\n",
       "<style scoped>\n",
       "    .dataframe tbody tr th:only-of-type {\n",
       "        vertical-align: middle;\n",
       "    }\n",
       "\n",
       "    .dataframe tbody tr th {\n",
       "        vertical-align: top;\n",
       "    }\n",
       "\n",
       "    .dataframe thead th {\n",
       "        text-align: right;\n",
       "    }\n",
       "</style>\n",
       "<table border=\"1\" class=\"dataframe\">\n",
       "  <thead>\n",
       "    <tr style=\"text-align: right;\">\n",
       "      <th></th>\n",
       "      <th>component</th>\n",
       "      <th>sz</th>\n",
       "    </tr>\n",
       "  </thead>\n",
       "  <tbody>\n",
       "    <tr>\n",
       "      <th>0</th>\n",
       "      <td>120259084289</td>\n",
       "      <td>39</td>\n",
       "    </tr>\n",
       "    <tr>\n",
       "      <th>1</th>\n",
       "      <td>25769803776</td>\n",
       "      <td>20</td>\n",
       "    </tr>\n",
       "    <tr>\n",
       "      <th>2</th>\n",
       "      <td>249108103168</td>\n",
       "      <td>12</td>\n",
       "    </tr>\n",
       "    <tr>\n",
       "      <th>3</th>\n",
       "      <td>163208757248</td>\n",
       "      <td>8</td>\n",
       "    </tr>\n",
       "    <tr>\n",
       "      <th>4</th>\n",
       "      <td>60129542145</td>\n",
       "      <td>5</td>\n",
       "    </tr>\n",
       "  </tbody>\n",
       "</table>\n",
       "</div>"
      ],
      "text/plain": [
       "      component  sz\n",
       "0  120259084289  39\n",
       "1   25769803776  20\n",
       "2  249108103168  12\n",
       "3  163208757248   8\n",
       "4   60129542145   5"
      ]
     },
     "execution_count": 7,
     "metadata": {},
     "output_type": "execute_result"
    }
   ],
   "source": [
    "sql = \"\"\"\n",
    "select component, count(*) as sz\n",
    "from df_tmp\n",
    "group by component\n",
    "order by sz desc\n",
    "\"\"\"\n",
    "\n",
    "df_sz = spark.sql(sql)\n",
    "df_sz.createOrReplaceTempView('df_sz')\n",
    "df_sz = df_sz.toPandas()\n",
    "df_sz.head()"
   ]
  },
  {
   "cell_type": "markdown",
   "metadata": {},
   "source": [
    "#### Mark Core\n",
    "\n",
    "\n",
    "<img src=\"assets/50_degree_center.svg\" alt=\"Drawing\" style=\"width: 800px;\"/>"
   ]
  },
  {
   "cell_type": "code",
   "execution_count": 8,
   "metadata": {},
   "outputs": [
    {
     "data": {
      "text/html": [
       "<div>\n",
       "<style scoped>\n",
       "    .dataframe tbody tr th:only-of-type {\n",
       "        vertical-align: middle;\n",
       "    }\n",
       "\n",
       "    .dataframe tbody tr th {\n",
       "        vertical-align: top;\n",
       "    }\n",
       "\n",
       "    .dataframe thead th {\n",
       "        text-align: right;\n",
       "    }\n",
       "</style>\n",
       "<table border=\"1\" class=\"dataframe\">\n",
       "  <thead>\n",
       "    <tr style=\"text-align: right;\">\n",
       "      <th></th>\n",
       "      <th>name</th>\n",
       "      <th>component</th>\n",
       "      <th>degree</th>\n",
       "      <th>rn</th>\n",
       "      <th>component</th>\n",
       "      <th>sz</th>\n",
       "    </tr>\n",
       "  </thead>\n",
       "  <tbody>\n",
       "    <tr>\n",
       "      <th>0</th>\n",
       "      <td>Cornelia</td>\n",
       "      <td>163208757248</td>\n",
       "      <td>3</td>\n",
       "      <td>1</td>\n",
       "      <td>163208757248</td>\n",
       "      <td>8</td>\n",
       "    </tr>\n",
       "    <tr>\n",
       "      <th>1</th>\n",
       "      <td>Gerald</td>\n",
       "      <td>120259084289</td>\n",
       "      <td>9</td>\n",
       "      <td>1</td>\n",
       "      <td>120259084289</td>\n",
       "      <td>39</td>\n",
       "    </tr>\n",
       "    <tr>\n",
       "      <th>2</th>\n",
       "      <td>Florence</td>\n",
       "      <td>249108103168</td>\n",
       "      <td>3</td>\n",
       "      <td>1</td>\n",
       "      <td>249108103168</td>\n",
       "      <td>12</td>\n",
       "    </tr>\n",
       "    <tr>\n",
       "      <th>3</th>\n",
       "      <td>Helga</td>\n",
       "      <td>25769803776</td>\n",
       "      <td>6</td>\n",
       "      <td>1</td>\n",
       "      <td>25769803776</td>\n",
       "      <td>20</td>\n",
       "    </tr>\n",
       "    <tr>\n",
       "      <th>4</th>\n",
       "      <td>Joanna</td>\n",
       "      <td>60129542145</td>\n",
       "      <td>4</td>\n",
       "      <td>1</td>\n",
       "      <td>60129542145</td>\n",
       "      <td>5</td>\n",
       "    </tr>\n",
       "  </tbody>\n",
       "</table>\n",
       "</div>"
      ],
      "text/plain": [
       "       name     component  degree  rn     component  sz\n",
       "0  Cornelia  163208757248       3   1  163208757248   8\n",
       "1    Gerald  120259084289       9   1  120259084289  39\n",
       "2  Florence  249108103168       3   1  249108103168  12\n",
       "3     Helga   25769803776       6   1   25769803776  20\n",
       "4    Joanna   60129542145       4   1   60129542145   5"
      ]
     },
     "execution_count": 8,
     "metadata": {},
     "output_type": "execute_result"
    }
   ],
   "source": [
    "sql = \"\"\"\n",
    "with numbered as (\n",
    "select\n",
    "  a.name, a.component, b.degree\n",
    "  ,row_number() over (partition by component order by degree desc, a.name) as rn\n",
    "from df_tmp as a\n",
    "join df_degree as b\n",
    "on a.id = b.id\n",
    ")\n",
    "select * \n",
    "from numbered a\n",
    "join df_sz as b\n",
    "on a.component = b.component\n",
    "where rn = 1\n",
    "  and b.sz > 2\n",
    "\"\"\"\n",
    "df_core = spark.sql(sql).toPandas()\n",
    "df_core.head()"
   ]
  },
  {
   "cell_type": "code",
   "execution_count": 9,
   "metadata": {},
   "outputs": [
    {
     "data": {
      "text/plain": [
       "<py2neo.database.Cursor at 0x7f6c5cb5d2e8>"
      ]
     },
     "execution_count": 9,
     "metadata": {},
     "output_type": "execute_result"
    }
   ],
   "source": [
    "# Unmark Core\n",
    "cql = \"\"\"\n",
    "MATCH (n)\n",
    "REMOVE n:Core\n",
    "return n\n",
    "\"\"\"\n",
    "graph.run(cql)"
   ]
  },
  {
   "cell_type": "code",
   "execution_count": 10,
   "metadata": {},
   "outputs": [
    {
     "name": "stdout",
     "output_type": "stream",
     "text": [
      "\n",
      "MATCH (n)\n",
      "WHERE n.name IN [\"Cornelia\", \"Gerald\", \"Florence\", \"Helga\", \"Joanna\"]\n",
      "SET n:Core\n",
      "return n\n",
      "\n"
     ]
    },
    {
     "data": {
      "text/plain": [
       "<py2neo.database.Cursor at 0x7f6c5d37c9b0>"
      ]
     },
     "execution_count": 10,
     "metadata": {},
     "output_type": "execute_result"
    }
   ],
   "source": [
    "cql = \"\"\"\n",
    "MATCH (n)\n",
    "WHERE n.name IN [%s]\n",
    "SET n:Core\n",
    "return n\n",
    "\"\"\"%\", \".join(\"\\\"%s\\\"\"%core for core in df_core.name.values)\n",
    "print(cql)\n",
    "graph.run(cql)"
   ]
  }
 ],
 "metadata": {
  "kernelspec": {
   "display_name": "Python 3",
   "language": "python",
   "name": "python3"
  },
  "language_info": {
   "codemirror_mode": {
    "name": "ipython",
    "version": 3
   },
   "file_extension": ".py",
   "mimetype": "text/x-python",
   "name": "python",
   "nbconvert_exporter": "python",
   "pygments_lexer": "ipython3",
   "version": "3.7.3"
  }
 },
 "nbformat": 4,
 "nbformat_minor": 2
}
