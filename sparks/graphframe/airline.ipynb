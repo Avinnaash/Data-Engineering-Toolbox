{
 "cells": [
  {
   "cell_type": "code",
   "execution_count": 1,
   "metadata": {},
   "outputs": [],
   "source": [
    "from graphframes import *\n",
    "from pyspark import SparkContext\n",
    "\n",
    "from pyspark.sql import SparkSession\n",
    "spark = SparkSession.builder.getOrCreate()"
   ]
  },
  {
   "cell_type": "code",
   "execution_count": 2,
   "metadata": {},
   "outputs": [],
   "source": [
    "from pyspark.sql import functions as F\n",
    "from pyspark.sql.types import *"
   ]
  },
  {
   "cell_type": "code",
   "execution_count": 3,
   "metadata": {},
   "outputs": [],
   "source": [
    "nodes = spark.read.csv(\"data/airports.csv\", header=False)\n",
    "\n",
    "cleaned_nodes = (nodes.select(\"_c1\", \"_c3\", \"_c4\", \"_c6\", \"_c7\")\n",
    "                     .filter(\"_c3 = 'United States'\")\n",
    "                     .withColumnRenamed(\"_c1\", \"name\")\n",
    "                     .withColumnRenamed(\"_c4\", \"id\")\n",
    "                     .withColumnRenamed(\"_c6\", \"latitude\")\n",
    "                     .withColumnRenamed(\"_c7\", \"longitude\")\n",
    "                     .drop(\"_c3\"))\n",
    "\n",
    "cleaned_nodes = cleaned_nodes[cleaned_nodes[\"id\"] != \"\\\\N\"]"
   ]
  },
  {
   "cell_type": "code",
   "execution_count": 4,
   "metadata": {},
   "outputs": [],
   "source": [
    "relationships = spark.read.csv(\"data/188591317_T_ONTIME.csv\", header=True)\n",
    "\n",
    "cleaned_relationships = (relationships\n",
    "                         .select(\"ORIGIN\", \"DEST\", \"FL_DATE\", \"DEP_DELAY\",\n",
    "                                 \"ARR_DELAY\", \"DISTANCE\", \"TAIL_NUM\", \"FL_NUM\",\n",
    "                                  \"CRS_DEP_TIME\", \"CRS_ARR_TIME\",\n",
    "                                  \"UNIQUE_CARRIER\")\n",
    "                         .withColumnRenamed(\"ORIGIN\", \"src\")\n",
    "                         .withColumnRenamed(\"DEST\", \"dst\")\n",
    "                         .withColumnRenamed(\"DEP_DELAY\", \"deptDelay\")\n",
    "                         .withColumnRenamed(\"ARR_DELAY\", \"arrDelay\")\n",
    "                         .withColumnRenamed(\"TAIL_NUM\", \"tailNumber\")\n",
    "                         .withColumnRenamed(\"FL_NUM\", \"flightNumber\")\n",
    "                         .withColumnRenamed(\"FL_DATE\", \"date\")\n",
    "                         .withColumnRenamed(\"CRS_DEP_TIME\", \"time\")\n",
    "                         .withColumnRenamed(\"CRS_ARR_TIME\", \"arrivalTime\")\n",
    "                         .withColumnRenamed(\"DISTANCE\", \"distance\")\n",
    "                         .withColumnRenamed(\"UNIQUE_CARRIER\", \"airline\")\n",
    "                         .withColumn(\"deptDelay\",\n",
    "                              F.col(\"deptDelay\").cast(FloatType()))\n",
    "                         .withColumn(\"arrDelay\",\n",
    "                              F.col(\"arrDelay\").cast(FloatType()))\n",
    "                         .withColumn(\"time\", F.col(\"time\").cast(IntegerType()))\n",
    "                         .withColumn(\"arrivalTime\",\n",
    "                              F.col(\"arrivalTime\").cast(IntegerType()))\n",
    "                         )\n"
   ]
  },
  {
   "cell_type": "code",
   "execution_count": 5,
   "metadata": {},
   "outputs": [],
   "source": [
    "g = GraphFrame(cleaned_nodes, cleaned_relationships)"
   ]
  },
  {
   "cell_type": "code",
   "execution_count": 6,
   "metadata": {},
   "outputs": [],
   "source": [
    "airlines_reference = (spark.read.csv(\"data/airlines.csv\")\n",
    "                      .select(\"_c1\", \"_c3\")\n",
    "                      .withColumnRenamed(\"_c1\", \"name\")\n",
    "                      .withColumnRenamed(\"_c3\", \"code\"))\n",
    "airlines_reference = airlines_reference[airlines_reference[\"code\"] != \"null\"]"
   ]
  },
  {
   "cell_type": "code",
   "execution_count": 7,
   "metadata": {},
   "outputs": [
    {
     "data": {
      "text/plain": [
       "1333"
      ]
     },
     "execution_count": 7,
     "metadata": {},
     "output_type": "execute_result"
    }
   ],
   "source": [
    "g.vertices.count()"
   ]
  },
  {
   "cell_type": "code",
   "execution_count": 8,
   "metadata": {},
   "outputs": [
    {
     "data": {
      "text/plain": [
       "616529"
      ]
     },
     "execution_count": 8,
     "metadata": {},
     "output_type": "execute_result"
    }
   ],
   "source": [
    "g.edges.count()"
   ]
  },
  {
   "cell_type": "code",
   "execution_count": 9,
   "metadata": {},
   "outputs": [
    {
     "name": "stdout",
     "output_type": "stream",
     "text": [
      "+---+------------------------------------------------+---------+\n",
      "|id |name                                            |outDegree|\n",
      "+---+------------------------------------------------+---------+\n",
      "|ATL|Hartsfield Jackson Atlanta International Airport|33837    |\n",
      "|ORD|Chicago O'Hare International Airport            |28338    |\n",
      "|DFW|Dallas Fort Worth International Airport         |23765    |\n",
      "|CLT|Charlotte Douglas International Airport         |20251    |\n",
      "|DEN|Denver International Airport                    |19836    |\n",
      "|LAX|Los Angeles International Airport               |19059    |\n",
      "|PHX|Phoenix Sky Harbor International Airport        |15103    |\n",
      "|SFO|San Francisco International Airport             |14934    |\n",
      "|LGA|La Guardia Airport                              |14709    |\n",
      "|IAH|George Bush Intercontinental Houston Airport    |14407    |\n",
      "+---+------------------------------------------------+---------+\n",
      "only showing top 10 rows\n",
      "\n"
     ]
    }
   ],
   "source": [
    "airports_degree = g.outDegrees.withColumnRenamed(\"id\", \"oId\")\n",
    "\n",
    "full_airports_degree = (airports_degree\n",
    "                        .join(g.vertices, airports_degree.oId == g.vertices.id)\n",
    "                        .sort(\"outDegree\", ascending=False)\n",
    "                        .select(\"id\", \"name\", \"outDegree\"))\n",
    "full_airports_degree.show(n=10, truncate=False)"
   ]
  },
  {
   "cell_type": "code",
   "execution_count": 10,
   "metadata": {},
   "outputs": [],
   "source": [
    "from matplotlib import pyplot as plt"
   ]
  },
  {
   "cell_type": "code",
   "execution_count": 11,
   "metadata": {},
   "outputs": [
    {
     "data": {
      "image/png": "[encoded data removed]",
      "text/plain": [
       "<Figure size 432x288 with 1 Axes>"
      ]
     },
     "metadata": {},
     "output_type": "display_data"
    }
   ],
   "source": [
    "plt.style.use('fivethirtyeight')\n",
    "ax = (full_airports_degree\n",
    "      .toPandas()\n",
    "      .head(10)\n",
    "      .plot(kind='bar', x='id', y='outDegree', legend=None))\n",
    "ax.xaxis.set_label_text(\"\")\n",
    "plt.xticks(rotation=45)\n",
    "plt.tight_layout()\n",
    "plt.show()"
   ]
  },
  {
   "cell_type": "code",
   "execution_count": 12,
   "metadata": {},
   "outputs": [
    {
     "name": "stdout",
     "output_type": "stream",
     "text": [
      "+---+-------------------------------------------+------------+--------------+\n",
      "|dst|name                                       |averageDelay|numberOfDelays|\n",
      "+---+-------------------------------------------+------------+--------------+\n",
      "|CKB|North Central West Virginia Airport        |145.08      |12            |\n",
      "|OGG|Kahului Airport                            |119.67      |9             |\n",
      "|MQT|Sawyer International Airport               |114.75      |12            |\n",
      "|MOB|Mobile Regional Airport                    |102.2       |10            |\n",
      "|TTN|Trenton Mercer Airport                     |101.18      |17            |\n",
      "|AVL|Asheville Regional Airport                 |98.5        |28            |\n",
      "|ISP|Long Island Mac Arthur Airport             |94.08       |13            |\n",
      "|ANC|Ted Stevens Anchorage International Airport|83.74       |23            |\n",
      "|BTV|Burlington International Airport           |83.2        |25            |\n",
      "|CMX|Houghton County Memorial Airport           |79.18       |17            |\n",
      "+---+-------------------------------------------+------------+--------------+\n",
      "only showing top 10 rows\n",
      "\n"
     ]
    }
   ],
   "source": [
    "delayed_flights = (g.edges\n",
    "                   .filter(\"src = 'ORD' and deptDelay > 0\")\n",
    "                   .groupBy(\"dst\")\n",
    "                   .agg(F.avg(\"deptDelay\"), F.count(\"deptDelay\"))\n",
    "                   .withColumn(\"averageDelay\",\n",
    "                               F.round(F.col(\"avg(deptDelay)\"), 2))\n",
    "                   .withColumn(\"numberOfDelays\",\n",
    "                               F.col(\"count(deptDelay)\")))\n",
    "(delayed_flights\n",
    " .join(g.vertices, delayed_flights.dst == g.vertices.id)\n",
    " .sort(F.desc(\"averageDelay\"))\n",
    " .select(\"dst\", \"name\", \"averageDelay\", \"numberOfDelays\")\n",
    " .show(n=10, truncate=False))"
   ]
  },
  {
   "cell_type": "code",
   "execution_count": 13,
   "metadata": {},
   "outputs": [],
   "source": [
    "from_expr = 'id = \"ORD\"'\n",
    "to_expr = 'id = \"CKB\"'\n",
    "ord_to_ckb = g.bfs(from_expr, to_expr)\n",
    "ord_to_ckb = ord_to_ckb.select(\n",
    "  F.col(\"e0.date\"),\n",
    "  F.col(\"e0.time\"),\n",
    "  F.col(\"e0.flightNumber\"),\n",
    "  F.col(\"e0.deptDelay\"))"
   ]
  },
  {
   "cell_type": "code",
   "execution_count": 14,
   "metadata": {},
   "outputs": [
    {
     "data": {
      "image/png": "[encoded data removed]",
      "text/plain": [
       "<Figure size 432x288 with 1 Axes>"
      ]
     },
     "metadata": {},
     "output_type": "display_data"
    }
   ],
   "source": [
    "ax = (ord_to_ckb\n",
    "      .sort(\"date\")\n",
    "      .toPandas()\n",
    "      .plot(kind='bar', x='date', y='deptDelay', legend=None))\n",
    "ax.xaxis.set_label_text(\"\")\n",
    "plt.tight_layout()\n",
    "plt.show()"
   ]
  },
  {
   "cell_type": "code",
   "execution_count": 15,
   "metadata": {},
   "outputs": [
    {
     "name": "stdout",
     "output_type": "stream",
     "text": [
      "+---+----------+--------+---+----------+---------+---+-------+------------+-----+\n",
      "| a1|a1DeptTime|arrDelay| a2|a2DeptTime|deptDelay| a3|airline|flightNumber|delta|\n",
      "+---+----------+--------+---+----------+---------+---+-------+------------+-----+\n",
      "|PDX|      1130|   -18.0|SFO|      1350|    178.0|BUR|     WN|        1454|196.0|\n",
      "|ACV|      1755|    -9.0|SFO|      2235|     64.0|RDM|     OO|        5700| 73.0|\n",
      "|BWI|       700|    -3.0|SFO|      1125|     49.0|IAD|     UA|         753| 52.0|\n",
      "|ATL|       740|    40.0|SFO|      1110|     77.0|SAN|     UA|        1900| 37.0|\n",
      "|BUR|      1405|    25.0|SFO|      1600|     39.0|PDX|     WN|         157| 14.0|\n",
      "|DTW|       835|    34.0|SFO|      1135|     44.0|DTW|     DL|         745| 10.0|\n",
      "|DEN|      1830|    25.0|SFO|      2045|     33.0|BUR|     WN|        1783|  8.0|\n",
      "|PDX|      1855|   119.0|SFO|      2120|    117.0|DEN|     WN|        5789| -2.0|\n",
      "|BUR|      2025|    31.0|SFO|      2230|     11.0|PHX|     WN|        1585|-20.0|\n",
      "+---+----------+--------+---+----------+---------+---+-------+------------+-----+\n",
      "\n"
     ]
    }
   ],
   "source": [
    "motifs = (g.find(\"(a)-[ab]->(b); (b)-[bc]->(c)\")\n",
    "          .filter(\"\"\"(b.id = 'SFO') and\n",
    "                  (ab.date = '2018-05-11' and bc.date = '2018-05-11') and\n",
    "                  (ab.arrDelay > 30 or bc.deptDelay > 30) and\n",
    "                  (ab.flightNumber = bc.flightNumber) and\n",
    "                  (ab.airline = bc.airline) and\n",
    "                  (ab.time < bc.time)\"\"\"))\n",
    "\n",
    "result = (motifs.withColumn(\"delta\", motifs.bc.deptDelay - motifs.ab.arrDelay)\n",
    "          .select(\"ab\", \"bc\", \"delta\")\n",
    "          .sort(\"delta\", ascending=False))\n",
    "\n",
    "result.select(\n",
    "    F.col(\"ab.src\").alias(\"a1\"),\n",
    "    F.col(\"ab.time\").alias(\"a1DeptTime\"),\n",
    "    F.col(\"ab.arrDelay\"),\n",
    "    F.col(\"ab.dst\").alias(\"a2\"),\n",
    "    F.col(\"bc.time\").alias(\"a2DeptTime\"),\n",
    "    F.col(\"bc.deptDelay\"),\n",
    "    F.col(\"bc.dst\").alias(\"a3\"),\n",
    "    F.col(\"ab.airline\"),\n",
    "    F.col(\"ab.flightNumber\"),\n",
    "    F.col(\"delta\")\n",
    ").show()"
   ]
  },
  {
   "cell_type": "code",
   "execution_count": 16,
   "metadata": {},
   "outputs": [
    {
     "data": {
      "image/png": "[encoded data removed]",
      "text/plain": [
       "<Figure size 432x288 with 1 Axes>"
      ]
     },
     "metadata": {},
     "output_type": "display_data"
    }
   ],
   "source": [
    "airlines = (g.edges\n",
    "             .groupBy(\"airline\")\n",
    "             .agg(F.count(\"airline\").alias(\"flights\"))\n",
    "             .sort(\"flights\", ascending=False))\n",
    "\n",
    "full_name_airlines = (airlines_reference\n",
    "                      .join(airlines, airlines.airline\n",
    "                            == airlines_reference.code)\n",
    "                      .select(\"code\", \"name\", \"flights\"))\n",
    "\n",
    "ax = (full_name_airlines.toPandas()\n",
    "      .plot(kind='bar', x='name', y='flights', legend=None))\n",
    "ax.xaxis.set_label_text(\"\")\n",
    "plt.tight_layout()\n",
    "plt.show()"
   ]
  },
  {
   "cell_type": "code",
   "execution_count": 17,
   "metadata": {},
   "outputs": [],
   "source": [
    "def find_scc_components(g, airline):\n",
    "    # Create a subgraph containing only flights on the provided airline \n",
    "    airline_relationships = g.edges[g.edges.airline == airline] \n",
    "    airline_graph = GraphFrame(g.vertices, airline_relationships)\n",
    "        \n",
    "    # Calculate the Strongly Connected Components\n",
    "    scc = airline_graph.stronglyConnectedComponents(maxIter=10)\n",
    "    \n",
    "    # Find the size of the biggest component and return that\n",
    "    return (scc\n",
    "            .groupBy(\"component\")\n",
    "            .agg(F.count(\"id\").alias(\"size\"))\n",
    "            .sort(\"size\", ascending=False)\n",
    "            .take(1)[0][\"size\"])"
   ]
  },
  {
   "cell_type": "code",
   "execution_count": 18,
   "metadata": {},
   "outputs": [],
   "source": [
    "# Calculate the largest strongly connected component for each airline\n",
    "airline_scc = [(airline, find_scc_components(g, airline))\n",
    "               for airline in airlines.toPandas()[\"airline\"].tolist()]\n",
    "airline_scc_df = spark.createDataFrame(airline_scc, ['id', 'sccCount'])\n",
    "    \n",
    "# Join the SCC DataFrame with the airlines DataFrame so that we can show \n",
    "# the number of flights an airline has alongside the number of\n",
    "# airports reachable in its biggest component\n",
    "airline_reach = (airline_scc_df\n",
    "     .join(full_name_airlines, full_name_airlines.code == airline_scc_df.id)\n",
    "     .select(\"code\", \"name\", \"flights\", \"sccCount\")\n",
    "     .sort(\"sccCount\", ascending=False))"
   ]
  },
  {
   "cell_type": "code",
   "execution_count": 19,
   "metadata": {},
   "outputs": [
    {
     "data": {
      "image/png": "[encoded data removed]",
      "text/plain": [
       "<Figure size 432x288 with 1 Axes>"
      ]
     },
     "metadata": {},
     "output_type": "display_data"
    }
   ],
   "source": [
    "ax = (airline_reach.toPandas()\n",
    "      .plot(kind='bar', x='name', y='sccCount', legend=None))\n",
    "ax.xaxis.set_label_text(\"\")\n",
    "plt.tight_layout()\n",
    "plt.show()"
   ]
  },
  {
   "cell_type": "code",
   "execution_count": 20,
   "metadata": {},
   "outputs": [
    {
     "name": "stdout",
     "output_type": "stream",
     "text": [
      "+-------------+----------------------------------------------------------------------+-----+\n",
      "|        label|                                                              airports|count|\n",
      "+-------------+----------------------------------------------------------------------+-----+\n",
      "|1606317768706|[IND, ORF, ATW, RIC, TRI, XNA, ECP, AVL, JAX, SYR, BHM, GSO, MEM, C...|   89|\n",
      "|1219770712067|[GEG, SLC, DTW, LAS, SEA, BOS, MSN, SNA, JFK, TVC, LIH, JAC, FLL, M...|   53|\n",
      "|  17179869187|                                                                 [RHV]|    1|\n",
      "|  25769803777|                                                                 [CWT]|    1|\n",
      "|  25769803776|                                                                 [CDW]|    1|\n",
      "|   8589934593|                                                                 [AVX]|    1|\n",
      "|  25769803778|                                                                 [DRT]|    1|\n",
      "|  25769803779|                                                                 [FOK]|    1|\n",
      "|   8589934592|                                                                 [4A7]|    1|\n",
      "|   8589934594|                                                                 [DLG]|    1|\n",
      "+-------------+----------------------------------------------------------------------+-----+\n",
      "only showing top 10 rows\n",
      "\n"
     ]
    }
   ],
   "source": [
    "airline_relationships = g.edges.filter(\"airline = 'DL'\")\n",
    "airline_graph = GraphFrame(g.vertices, airline_relationships)\n",
    "clusters = airline_graph.labelPropagation(maxIter=10)\n",
    "\n",
    "(clusters\n",
    " .sort(\"label\")\n",
    " .groupby(\"label\")\n",
    " .agg(F.collect_list(\"id\").alias(\"airports\"),\n",
    "      F.count(\"id\").alias(\"count\"))\n",
    " .sort(\"count\", ascending=False)\n",
    " .show(truncate=70, n=10))"
   ]
  },
  {
   "cell_type": "code",
   "execution_count": 21,
   "metadata": {},
   "outputs": [],
   "source": [
    "all_flights = g.degrees.withColumnRenamed(\"id\", \"aId\")"
   ]
  },
  {
   "cell_type": "code",
   "execution_count": 22,
   "metadata": {},
   "outputs": [
    {
     "name": "stdout",
     "output_type": "stream",
     "text": [
      "+--------------------+--------------------+-----+\n",
      "|                  ab|                  bc|delta|\n",
      "+--------------------+--------------------+-----+\n",
      "|[PDX, SFO, 2018-0...|[SFO, BUR, 2018-0...|196.0|\n",
      "|[ACV, SFO, 2018-0...|[SFO, RDM, 2018-0...| 73.0|\n",
      "|[BWI, SFO, 2018-0...|[SFO, IAD, 2018-0...| 52.0|\n",
      "|[ATL, SFO, 2018-0...|[SFO, SAN, 2018-0...| 37.0|\n",
      "|[BUR, SFO, 2018-0...|[SFO, PDX, 2018-0...| 14.0|\n",
      "|[DTW, SFO, 2018-0...|[SFO, DTW, 2018-0...| 10.0|\n",
      "|[DEN, SFO, 2018-0...|[SFO, BUR, 2018-0...|  8.0|\n",
      "|[PDX, SFO, 2018-0...|[SFO, DEN, 2018-0...| -2.0|\n",
      "|[BUR, SFO, 2018-0...|[SFO, PHX, 2018-0...|-20.0|\n",
      "+--------------------+--------------------+-----+\n",
      "\n"
     ]
    }
   ],
   "source": [
    "result.show()"
   ]
  },
  {
   "cell_type": "code",
   "execution_count": 23,
   "metadata": {},
   "outputs": [
    {
     "data": {
      "text/plain": [
       "Column<b'id'>"
      ]
     },
     "execution_count": 23,
     "metadata": {},
     "output_type": "execute_result"
    }
   ],
   "source": [
    "clusters.filter(\"label=1606317768706\").id"
   ]
  },
  {
   "cell_type": "code",
   "execution_count": 24,
   "metadata": {},
   "outputs": [
    {
     "name": "stdout",
     "output_type": "stream",
     "text": [
      "+---+------------------------------------------------------------+------+\n",
      "|id |name                                                        |degree|\n",
      "+---+------------------------------------------------------------+------+\n",
      "|DFW|Dallas Fort Worth International Airport                     |47514 |\n",
      "|CLT|Charlotte Douglas International Airport                     |40495 |\n",
      "|IAH|George Bush Intercontinental Houston Airport                |28814 |\n",
      "|EWR|Newark Liberty International Airport                        |25131 |\n",
      "|PHL|Philadelphia International Airport                          |20804 |\n",
      "|BWI|Baltimore/Washington International Thurgood Marshall Airport|18989 |\n",
      "|MDW|Chicago Midway International Airport                        |15178 |\n",
      "|BNA|Nashville International Airport                             |12455 |\n",
      "|DAL|Dallas Love Field                                           |12084 |\n",
      "|IAD|Washington Dulles International Airport                     |11566 |\n",
      "|STL|Lambert St Louis International Airport                      |11439 |\n",
      "|HOU|William P Hobby Airport                                     |9742  |\n",
      "|IND|Indianapolis International Airport                          |8543  |\n",
      "|PIT|Pittsburgh International Airport                            |8410  |\n",
      "|CLE|Cleveland Hopkins International Airport                     |8238  |\n",
      "|CMH|Port Columbus International Airport                         |7640  |\n",
      "|SAT|San Antonio International Airport                           |6532  |\n",
      "|JAX|Jacksonville International Airport                          |5495  |\n",
      "|BDL|Bradley International Airport                               |4866  |\n",
      "|RSW|Southwest Florida International Airport                     |4569  |\n",
      "+---+------------------------------------------------------------+------+\n",
      "only showing top 20 rows\n",
      "\n"
     ]
    }
   ],
   "source": [
    "cluster = clusters.filter(\"label=1606317768706\")\n",
    "(cluster\n",
    " .join(all_flights, all_flights.aId == cluster.id)\n",
    " .sort(\"degree\", ascending=False)\n",
    " .select(\"id\", \"name\", \"degree\")\n",
    " .show(truncate=False))"
   ]
  },
  {
   "cell_type": "code",
   "execution_count": 25,
   "metadata": {},
   "outputs": [
    {
     "name": "stdout",
     "output_type": "stream",
     "text": [
      "+---+----------------------------------------------------------+------+\n",
      "|id |name                                                      |degree|\n",
      "+---+----------------------------------------------------------+------+\n",
      "|ATL|Hartsfield Jackson Atlanta International Airport          |67672 |\n",
      "|ORD|Chicago O'Hare International Airport                      |56681 |\n",
      "|DEN|Denver International Airport                              |39671 |\n",
      "|LAX|Los Angeles International Airport                         |38116 |\n",
      "|PHX|Phoenix Sky Harbor International Airport                  |30206 |\n",
      "|SFO|San Francisco International Airport                       |29865 |\n",
      "|LGA|La Guardia Airport                                        |29416 |\n",
      "|LAS|McCarran International Airport                            |27801 |\n",
      "|DTW|Detroit Metropolitan Wayne County Airport                 |27477 |\n",
      "|MSP|Minneapolis-St Paul International/Wold-Chamberlain Airport|27163 |\n",
      "|BOS|General Edward Lawrence Logan International Airport       |26214 |\n",
      "|SEA|Seattle Tacoma International Airport                      |24098 |\n",
      "|MCO|Orlando International Airport                             |23442 |\n",
      "|JFK|John F Kennedy International Airport                      |22294 |\n",
      "|DCA|Ronald Reagan Washington National Airport                 |22244 |\n",
      "|SLC|Salt Lake City International Airport                      |18661 |\n",
      "|FLL|Fort Lauderdale Hollywood International Airport           |16364 |\n",
      "|SAN|San Diego International Airport                           |15401 |\n",
      "|MIA|Miami International Airport                               |14869 |\n",
      "|TPA|Tampa International Airport                               |12509 |\n",
      "+---+----------------------------------------------------------+------+\n",
      "only showing top 20 rows\n",
      "\n"
     ]
    }
   ],
   "source": [
    "cluster = clusters.filter(\"label=1219770712067\")\n",
    "(cluster\n",
    " .join(all_flights, all_flights.aId == cluster.id)\n",
    " .sort(\"degree\", ascending=False)\n",
    " .select(\"id\", \"name\", \"degree\")\n",
    " .show(truncate=False))"
   ]
  }
 ],
 "metadata": {
  "kernelspec": {
   "display_name": "Python 3",
   "language": "python",
   "name": "python3"
  },
  "language_info": {
   "codemirror_mode": {
    "name": "ipython",
    "version": 3
   },
   "file_extension": ".py",
   "mimetype": "text/x-python",
   "name": "python",
   "nbconvert_exporter": "python",
   "pygments_lexer": "ipython3",
   "version": "3.7.3"
  }
 },
 "nbformat": 4,
 "nbformat_minor": 2
}
