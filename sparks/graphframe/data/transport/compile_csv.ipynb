{
 "cells": [
  {
   "cell_type": "code",
   "execution_count": 1,
   "metadata": {},
   "outputs": [],
   "source": [
    "s = \"\"\"Amsterdam  \n",
    "Utrecht\n",
    "Den Haag \n",
    "Immingham \n",
    "Doncaster\n",
    "Hoek van Holland \n",
    "Felixstowe \n",
    "Ipswich \n",
    "Colchester \n",
    "London \n",
    "Rotterdam\n",
    "Gouda\"\"\"\n",
    "ids = [_.strip() for _ in s.split(\"\\n\")]"
   ]
  },
  {
   "cell_type": "code",
   "execution_count": 2,
   "metadata": {},
   "outputs": [],
   "source": [
    "s = \"\"\"52.379189\n",
    "52.092876 \n",
    "52.078663 \n",
    "53.61239 \n",
    "53.52285 \n",
    "51.9775 \n",
    "51.96375 \n",
    "52.05917 \n",
    "51.88921 \n",
    "51.509865 \n",
    "51.9225 \n",
    "52.01667 \"\"\"\n",
    "latitude = [float(_.strip()) for _ in s.split(\"\\n\")]"
   ]
  },
  {
   "cell_type": "code",
   "execution_count": 3,
   "metadata": {},
   "outputs": [],
   "source": [
    "s = \"\"\"4.899431 821752\n",
    "5.104480 334176 \n",
    "4.288788 514861 \n",
    "-0.22219 9642 \n",
    "-1.13116 302400 \n",
    "4.13333 9382 \n",
    "1.3511 23689 \n",
    "1.15545 133384 \n",
    "0.90421 104390 \n",
    "-0.118092 8787892 \n",
    "4.47917 623652 \n",
    "4.70833 70939\"\"\"\n",
    "longitude_pop = [_.split(\" \") for _ in s.split(\"\\n\")]\n",
    "longitude = [float(pair[0]) for pair in longitude_pop]\n",
    "population = [int(pair[1]) for pair in longitude_pop]"
   ]
  },
  {
   "cell_type": "code",
   "execution_count": 4,
   "metadata": {},
   "outputs": [
    {
     "data": {
      "text/html": [
       "<div>\n",
       "<style scoped>\n",
       "    .dataframe tbody tr th:only-of-type {\n",
       "        vertical-align: middle;\n",
       "    }\n",
       "\n",
       "    .dataframe tbody tr th {\n",
       "        vertical-align: top;\n",
       "    }\n",
       "\n",
       "    .dataframe thead th {\n",
       "        text-align: right;\n",
       "    }\n",
       "</style>\n",
       "<table border=\"1\" class=\"dataframe\">\n",
       "  <thead>\n",
       "    <tr style=\"text-align: right;\">\n",
       "      <th></th>\n",
       "      <th>id</th>\n",
       "      <th>latitude</th>\n",
       "      <th>longitude</th>\n",
       "      <th>population</th>\n",
       "    </tr>\n",
       "  </thead>\n",
       "  <tbody>\n",
       "    <tr>\n",
       "      <th>0</th>\n",
       "      <td>Amsterdam</td>\n",
       "      <td>52.379189</td>\n",
       "      <td>4.899431</td>\n",
       "      <td>821752</td>\n",
       "    </tr>\n",
       "    <tr>\n",
       "      <th>1</th>\n",
       "      <td>Utrecht</td>\n",
       "      <td>52.092876</td>\n",
       "      <td>5.104480</td>\n",
       "      <td>334176</td>\n",
       "    </tr>\n",
       "    <tr>\n",
       "      <th>2</th>\n",
       "      <td>Den Haag</td>\n",
       "      <td>52.078663</td>\n",
       "      <td>4.288788</td>\n",
       "      <td>514861</td>\n",
       "    </tr>\n",
       "    <tr>\n",
       "      <th>3</th>\n",
       "      <td>Immingham</td>\n",
       "      <td>53.612390</td>\n",
       "      <td>-0.222190</td>\n",
       "      <td>9642</td>\n",
       "    </tr>\n",
       "    <tr>\n",
       "      <th>4</th>\n",
       "      <td>Doncaster</td>\n",
       "      <td>53.522850</td>\n",
       "      <td>-1.131160</td>\n",
       "      <td>302400</td>\n",
       "    </tr>\n",
       "  </tbody>\n",
       "</table>\n",
       "</div>"
      ],
      "text/plain": [
       "          id   latitude  longitude  population\n",
       "0  Amsterdam  52.379189   4.899431      821752\n",
       "1    Utrecht  52.092876   5.104480      334176\n",
       "2   Den Haag  52.078663   4.288788      514861\n",
       "3  Immingham  53.612390  -0.222190        9642\n",
       "4  Doncaster  53.522850  -1.131160      302400"
      ]
     },
     "execution_count": 4,
     "metadata": {},
     "output_type": "execute_result"
    }
   ],
   "source": [
    "import pandas as pd\n",
    "\n",
    "df = pd.DataFrame({\"id\": ids, \"latitude\": latitude, \"longitude\": longitude, \"population\": population})\n",
    "df.head()"
   ]
  },
  {
   "cell_type": "code",
   "execution_count": 5,
   "metadata": {},
   "outputs": [],
   "source": [
    "df.to_csv(\"transport-nodes.csv\", index=False)"
   ]
  },
  {
   "cell_type": "code",
   "execution_count": 6,
   "metadata": {},
   "outputs": [],
   "source": [
    "s = \"\"\"Amsterdam \n",
    "Amsterdam\n",
    "Den Haag \n",
    "Amsterdam \n",
    "Immingham \n",
    "Doncaster\n",
    "Hoek van Holland \n",
    "Felixstowe \n",
    "Ipswich \n",
    "Colchester \n",
    "London\n",
    "Gouda\n",
    "Gouda\n",
    "Den Haag\n",
    "Hoek van Holland\"\"\"\n",
    "\n",
    "src = [_.strip() for _ in s.split(\"\\n\")]"
   ]
  },
  {
   "cell_type": "code",
   "execution_count": 7,
   "metadata": {},
   "outputs": [
    {
     "data": {
      "text/plain": [
       "True"
      ]
     },
     "execution_count": 7,
     "metadata": {},
     "output_type": "execute_result"
    }
   ],
   "source": [
    "s = \"\"\"Utrecht\n",
    "Den Haag \n",
    "Rotterdam \n",
    "Immingham \n",
    "Doncaster \n",
    "London\n",
    "Den Haag\n",
    "Hoek van Holland \n",
    "Felixstowe \n",
    "Ipswich \n",
    "Colchester \n",
    "Rotterdam \n",
    "Utrecht\n",
    "Gouda\n",
    "Rotterdam\"\"\"\n",
    "\n",
    "dst = [_.strip() for _ in s.split(\"\\n\")]\n",
    "len(src) == len(dst)"
   ]
  },
  {
   "cell_type": "code",
   "execution_count": 8,
   "metadata": {},
   "outputs": [],
   "source": [
    "s = \"\"\"EROAD 46 EROAD 59 EROAD 26 EROAD 369 EROAD 74 EROAD 277 EROAD 27 EROAD 207 EROAD 22 EROAD 32 EROAD 106 EROAD 25 EROAD 35 EROAD 32 EROAD 33\"\"\"\n",
    "l = s.split(\" \")\n",
    "relationship = l[::2]\n",
    "cost = list(map(int, l[1::2]))"
   ]
  },
  {
   "cell_type": "code",
   "execution_count": 9,
   "metadata": {},
   "outputs": [
    {
     "data": {
      "text/plain": [
       "['EROAD',\n",
       " 'EROAD',\n",
       " 'EROAD',\n",
       " 'EROAD',\n",
       " 'EROAD',\n",
       " 'EROAD',\n",
       " 'EROAD',\n",
       " 'EROAD',\n",
       " 'EROAD',\n",
       " 'EROAD',\n",
       " 'EROAD',\n",
       " 'EROAD',\n",
       " 'EROAD',\n",
       " 'EROAD',\n",
       " 'EROAD']"
      ]
     },
     "execution_count": 9,
     "metadata": {},
     "output_type": "execute_result"
    }
   ],
   "source": [
    "relationship"
   ]
  },
  {
   "cell_type": "code",
   "execution_count": 10,
   "metadata": {},
   "outputs": [
    {
     "data": {
      "text/plain": [
       "[46, 59, 26, 369, 74, 277, 27, 207, 22, 32, 106, 25, 35, 32, 33]"
      ]
     },
     "execution_count": 10,
     "metadata": {},
     "output_type": "execute_result"
    }
   ],
   "source": [
    "cost"
   ]
  },
  {
   "cell_type": "code",
   "execution_count": 11,
   "metadata": {},
   "outputs": [
    {
     "data": {
      "text/html": [
       "<div>\n",
       "<style scoped>\n",
       "    .dataframe tbody tr th:only-of-type {\n",
       "        vertical-align: middle;\n",
       "    }\n",
       "\n",
       "    .dataframe tbody tr th {\n",
       "        vertical-align: top;\n",
       "    }\n",
       "\n",
       "    .dataframe thead th {\n",
       "        text-align: right;\n",
       "    }\n",
       "</style>\n",
       "<table border=\"1\" class=\"dataframe\">\n",
       "  <thead>\n",
       "    <tr style=\"text-align: right;\">\n",
       "      <th></th>\n",
       "      <th>src</th>\n",
       "      <th>dst</th>\n",
       "      <th>relationship</th>\n",
       "      <th>cost</th>\n",
       "    </tr>\n",
       "  </thead>\n",
       "  <tbody>\n",
       "    <tr>\n",
       "      <th>0</th>\n",
       "      <td>Amsterdam</td>\n",
       "      <td>Utrecht</td>\n",
       "      <td>EROAD</td>\n",
       "      <td>46</td>\n",
       "    </tr>\n",
       "    <tr>\n",
       "      <th>1</th>\n",
       "      <td>Amsterdam</td>\n",
       "      <td>Den Haag</td>\n",
       "      <td>EROAD</td>\n",
       "      <td>59</td>\n",
       "    </tr>\n",
       "    <tr>\n",
       "      <th>2</th>\n",
       "      <td>Den Haag</td>\n",
       "      <td>Rotterdam</td>\n",
       "      <td>EROAD</td>\n",
       "      <td>26</td>\n",
       "    </tr>\n",
       "    <tr>\n",
       "      <th>3</th>\n",
       "      <td>Amsterdam</td>\n",
       "      <td>Immingham</td>\n",
       "      <td>EROAD</td>\n",
       "      <td>369</td>\n",
       "    </tr>\n",
       "    <tr>\n",
       "      <th>4</th>\n",
       "      <td>Immingham</td>\n",
       "      <td>Doncaster</td>\n",
       "      <td>EROAD</td>\n",
       "      <td>74</td>\n",
       "    </tr>\n",
       "  </tbody>\n",
       "</table>\n",
       "</div>"
      ],
      "text/plain": [
       "         src        dst relationship  cost\n",
       "0  Amsterdam    Utrecht        EROAD    46\n",
       "1  Amsterdam   Den Haag        EROAD    59\n",
       "2   Den Haag  Rotterdam        EROAD    26\n",
       "3  Amsterdam  Immingham        EROAD   369\n",
       "4  Immingham  Doncaster        EROAD    74"
      ]
     },
     "execution_count": 11,
     "metadata": {},
     "output_type": "execute_result"
    }
   ],
   "source": [
    "df = pd.DataFrame({\"src\": src, \"dst\": dst, \"relationship\": relationship, \"cost\": cost})\n",
    "df.head()"
   ]
  },
  {
   "cell_type": "markdown",
   "metadata": {},
   "source": [
    "#### Make it undirected"
   ]
  },
  {
   "cell_type": "code",
   "execution_count": 12,
   "metadata": {},
   "outputs": [
    {
     "data": {
      "text/html": [
       "<div>\n",
       "<style scoped>\n",
       "    .dataframe tbody tr th:only-of-type {\n",
       "        vertical-align: middle;\n",
       "    }\n",
       "\n",
       "    .dataframe tbody tr th {\n",
       "        vertical-align: top;\n",
       "    }\n",
       "\n",
       "    .dataframe thead th {\n",
       "        text-align: right;\n",
       "    }\n",
       "</style>\n",
       "<table border=\"1\" class=\"dataframe\">\n",
       "  <thead>\n",
       "    <tr style=\"text-align: right;\">\n",
       "      <th></th>\n",
       "      <th>src</th>\n",
       "      <th>dst</th>\n",
       "      <th>relationship</th>\n",
       "      <th>cost</th>\n",
       "    </tr>\n",
       "  </thead>\n",
       "  <tbody>\n",
       "    <tr>\n",
       "      <th>0</th>\n",
       "      <td>Utrecht</td>\n",
       "      <td>Amsterdam</td>\n",
       "      <td>EROAD</td>\n",
       "      <td>46</td>\n",
       "    </tr>\n",
       "    <tr>\n",
       "      <th>1</th>\n",
       "      <td>Den Haag</td>\n",
       "      <td>Amsterdam</td>\n",
       "      <td>EROAD</td>\n",
       "      <td>59</td>\n",
       "    </tr>\n",
       "    <tr>\n",
       "      <th>2</th>\n",
       "      <td>Rotterdam</td>\n",
       "      <td>Den Haag</td>\n",
       "      <td>EROAD</td>\n",
       "      <td>26</td>\n",
       "    </tr>\n",
       "    <tr>\n",
       "      <th>3</th>\n",
       "      <td>Immingham</td>\n",
       "      <td>Amsterdam</td>\n",
       "      <td>EROAD</td>\n",
       "      <td>369</td>\n",
       "    </tr>\n",
       "    <tr>\n",
       "      <th>4</th>\n",
       "      <td>Doncaster</td>\n",
       "      <td>Immingham</td>\n",
       "      <td>EROAD</td>\n",
       "      <td>74</td>\n",
       "    </tr>\n",
       "  </tbody>\n",
       "</table>\n",
       "</div>"
      ],
      "text/plain": [
       "         src        dst relationship  cost\n",
       "0    Utrecht  Amsterdam        EROAD    46\n",
       "1   Den Haag  Amsterdam        EROAD    59\n",
       "2  Rotterdam   Den Haag        EROAD    26\n",
       "3  Immingham  Amsterdam        EROAD   369\n",
       "4  Doncaster  Immingham        EROAD    74"
      ]
     },
     "execution_count": 12,
     "metadata": {},
     "output_type": "execute_result"
    }
   ],
   "source": [
    "df2 = pd.DataFrame({\"src\": dst, \"dst\": src, \"relationship\": relationship, \"cost\": cost})\n",
    "df2.head()"
   ]
  },
  {
   "cell_type": "code",
   "execution_count": 13,
   "metadata": {},
   "outputs": [],
   "source": [
    "pd.concat([df, df2], axis=0).to_csv(\"transport-relationships.csv\", index=False)"
   ]
  }
 ],
 "metadata": {
  "kernelspec": {
   "display_name": "Python 3",
   "language": "python",
   "name": "python3"
  },
  "language_info": {
   "codemirror_mode": {
    "name": "ipython",
    "version": 3
   },
   "file_extension": ".py",
   "mimetype": "text/x-python",
   "name": "python",
   "nbconvert_exporter": "python",
   "pygments_lexer": "ipython3",
   "version": "3.7.3"
  }
 },
 "nbformat": 4,
 "nbformat_minor": 2
}
