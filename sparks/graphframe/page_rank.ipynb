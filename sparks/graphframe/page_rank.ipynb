{
 "cells": [
  {
   "cell_type": "code",
   "execution_count": 1,
   "metadata": {},
   "outputs": [],
   "source": [
    "from graphframes import *\n",
    "from pyspark import SparkContext"
   ]
  },
  {
   "cell_type": "code",
   "execution_count": 2,
   "metadata": {},
   "outputs": [],
   "source": [
    "from pyspark.sql import SparkSession\n",
    "spark = SparkSession.builder.getOrCreate()"
   ]
  },
  {
   "cell_type": "code",
   "execution_count": 3,
   "metadata": {},
   "outputs": [],
   "source": [
    "v = spark.read.csv(\"data/social-nodes.csv\", header=True)\n",
    "e = spark.read.csv(\"data/social-relationships.csv\", header=True)\n",
    "g = GraphFrame(v, e)"
   ]
  },
  {
   "cell_type": "code",
   "execution_count": 4,
   "metadata": {},
   "outputs": [
    {
     "data": {
      "text/plain": [
       "[Row(id='a', name='Alice'),\n",
       " Row(id='b', name='Bridget'),\n",
       " Row(id='c', name='Charles'),\n",
       " Row(id='d', name='Doug'),\n",
       " Row(id='m', name='Mark'),\n",
       " Row(id='i', name='Michael'),\n",
       " Row(id='v', name='David'),\n",
       " Row(id='y', name='Amy'),\n",
       " Row(id='j', name='James')]"
      ]
     },
     "execution_count": 4,
     "metadata": {},
     "output_type": "execute_result"
    }
   ],
   "source": [
    "g.vertices.collect()"
   ]
  },
  {
   "cell_type": "code",
   "execution_count": 5,
   "metadata": {},
   "outputs": [
    {
     "data": {
      "text/plain": [
       "[Row(src='a', dst='b', relationship='FOLLOWS'),\n",
       " Row(src='a', dst='c', relationship='FOLLOWS'),\n",
       " Row(src='m', dst='d', relationship='FOLLOWS'),\n",
       " Row(src='b', dst='i', relationship='FOLLOWS'),\n",
       " Row(src='d', dst='m', relationship='FOLLOWS'),\n",
       " Row(src='i', dst='a', relationship='FOLLOWS'),\n",
       " Row(src='a', dst='i', relationship='FOLLOWS'),\n",
       " Row(src='b', dst='a', relationship='FOLLOWS'),\n",
       " Row(src='i', dst='b', relationship='FOLLOWS'),\n",
       " Row(src='c', dst='d', relationship='FOLLOWS'),\n",
       " Row(src='b', dst='d', relationship='FOLLOWS'),\n",
       " Row(src='i', dst='d', relationship='FOLLOWS'),\n",
       " Row(src='a', dst='d', relationship='FOLLOWS'),\n",
       " Row(src='m', dst='a', relationship='FOLLOWS'),\n",
       " Row(src='v', dst='y', relationship='FOLLOWS'),\n",
       " Row(src='j', dst='v', relationship='FOLLOWS')]"
      ]
     },
     "execution_count": 5,
     "metadata": {},
     "output_type": "execute_result"
    }
   ],
   "source": [
    "g.edges.collect()"
   ]
  },
  {
   "cell_type": "code",
   "execution_count": 6,
   "metadata": {},
   "outputs": [
    {
     "name": "stdout",
     "output_type": "stream",
     "text": [
      "+---+------+--------+---------+\n",
      "| id|degree|inDegree|outDegree|\n",
      "+---+------+--------+---------+\n",
      "|  d|     6|       5|        1|\n",
      "|  a|     7|       3|        4|\n",
      "|  i|     5|       2|        3|\n",
      "|  b|     5|       2|        3|\n",
      "|  v|     2|       1|        1|\n",
      "|  m|     3|       1|        2|\n",
      "|  y|     1|       1|        0|\n",
      "|  c|     2|       1|        1|\n",
      "|  j|     1|       0|        1|\n",
      "+---+------+--------+---------+\n",
      "\n"
     ]
    }
   ],
   "source": [
    "total_degree = g.degrees\n",
    "in_degree = g.inDegrees\n",
    "out_degree = g.outDegrees\n",
    "\n",
    "(total_degree.join(in_degree, \"id\", how=\"left\")\n",
    " .join(out_degree, \"id\", how=\"left\")\n",
    " .fillna(0)\n",
    " .sort(\"inDegree\", ascending=False)\n",
    ".show())"
   ]
  },
  {
   "cell_type": "markdown",
   "metadata": {},
   "source": [
    "#### Convergence PR"
   ]
  },
  {
   "cell_type": "code",
   "execution_count": 7,
   "metadata": {},
   "outputs": [
    {
     "name": "stdout",
     "output_type": "stream",
     "text": [
      "+---+-------+-------------------+\n",
      "| id|   name|           pagerank|\n",
      "+---+-------+-------------------+\n",
      "|  d|   Doug| 2.2233188859989745|\n",
      "|  m|   Mark|  2.090451188336932|\n",
      "|  a|  Alice| 1.5056291439101062|\n",
      "|  i|Michael|  0.733738785109624|\n",
      "|  b|Bridget|  0.733738785109624|\n",
      "|  y|    Amy|  0.559446807245026|\n",
      "|  c|Charles| 0.5338811076334145|\n",
      "|  v|  David|0.40232326274180685|\n",
      "|  j|  James|0.21747203391449021|\n",
      "+---+-------+-------------------+\n",
      "\n"
     ]
    }
   ],
   "source": [
    "results = g.pageRank(resetProbability=0.15, tol=0.01)\n",
    "results.vertices.sort(\"pagerank\", ascending=False).show()"
   ]
  },
  {
   "cell_type": "code",
   "execution_count": 8,
   "metadata": {},
   "outputs": [
    {
     "data": {
      "text/plain": [
       "[Row(src='b', dst='a', relationship='FOLLOWS', weight=0.3333333333333333),\n",
       " Row(src='a', dst='b', relationship='FOLLOWS', weight=0.25),\n",
       " Row(src='b', dst='i', relationship='FOLLOWS', weight=0.3333333333333333),\n",
       " Row(src='i', dst='d', relationship='FOLLOWS', weight=0.3333333333333333),\n",
       " Row(src='j', dst='v', relationship='FOLLOWS', weight=1.0),\n",
       " Row(src='c', dst='d', relationship='FOLLOWS', weight=1.0),\n",
       " Row(src='d', dst='m', relationship='FOLLOWS', weight=1.0),\n",
       " Row(src='a', dst='c', relationship='FOLLOWS', weight=0.25),\n",
       " Row(src='i', dst='b', relationship='FOLLOWS', weight=0.3333333333333333),\n",
       " Row(src='a', dst='d', relationship='FOLLOWS', weight=0.25),\n",
       " Row(src='b', dst='d', relationship='FOLLOWS', weight=0.3333333333333333),\n",
       " Row(src='m', dst='d', relationship='FOLLOWS', weight=0.5),\n",
       " Row(src='v', dst='y', relationship='FOLLOWS', weight=1.0),\n",
       " Row(src='i', dst='a', relationship='FOLLOWS', weight=0.3333333333333333),\n",
       " Row(src='a', dst='i', relationship='FOLLOWS', weight=0.25),\n",
       " Row(src='m', dst='a', relationship='FOLLOWS', weight=0.5)]"
      ]
     },
     "execution_count": 8,
     "metadata": {},
     "output_type": "execute_result"
    }
   ],
   "source": [
    "results.edges.collect()"
   ]
  },
  {
   "cell_type": "code",
   "execution_count": 9,
   "metadata": {},
   "outputs": [
    {
     "data": {
      "text/plain": [
       "[Row(id='y', name='Amy', pagerank=0.559446807245026),\n",
       " Row(id='m', name='Mark', pagerank=2.090451188336932),\n",
       " Row(id='a', name='Alice', pagerank=1.5056291439101062),\n",
       " Row(id='j', name='James', pagerank=0.21747203391449021),\n",
       " Row(id='d', name='Doug', pagerank=2.2233188859989745),\n",
       " Row(id='i', name='Michael', pagerank=0.733738785109624),\n",
       " Row(id='v', name='David', pagerank=0.40232326274180685),\n",
       " Row(id='b', name='Bridget', pagerank=0.733738785109624),\n",
       " Row(id='c', name='Charles', pagerank=0.5338811076334145)]"
      ]
     },
     "execution_count": 9,
     "metadata": {},
     "output_type": "execute_result"
    }
   ],
   "source": [
    "results.vertices.collect()"
   ]
  },
  {
   "cell_type": "markdown",
   "metadata": {},
   "source": [
    "#### Max Iter PR"
   ]
  },
  {
   "cell_type": "code",
   "execution_count": 10,
   "metadata": {},
   "outputs": [
    {
     "name": "stdout",
     "output_type": "stream",
     "text": [
      "+---+-------+-------------------+\n",
      "| id|   name|           pagerank|\n",
      "+---+-------+-------------------+\n",
      "|  m|   Mark| 2.4519522046449005|\n",
      "|  d|   Doug| 1.8075143049478286|\n",
      "|  y|    Amy| 1.2117132278694043|\n",
      "|  a|  Alice| 1.1401884887243352|\n",
      "|  i|Michael| 0.6974503534163581|\n",
      "|  b|Bridget| 0.6974503534163581|\n",
      "|  c|Charles| 0.4757236620666441|\n",
      "|  v|  David|0.33625042073375966|\n",
      "|  j|  James|0.18175698418041064|\n",
      "+---+-------+-------------------+\n",
      "\n"
     ]
    }
   ],
   "source": [
    "results = g.pageRank(resetProbability=0.15, maxIter=2)\n",
    "results.vertices.sort(\"pagerank\", ascending=False).show()"
   ]
  },
  {
   "cell_type": "markdown",
   "metadata": {},
   "source": [
    "#### Personal PR"
   ]
  },
  {
   "cell_type": "code",
   "execution_count": 11,
   "metadata": {},
   "outputs": [
    {
     "name": "stdout",
     "output_type": "stream",
     "text": [
      "+---+-------+-------------------+\n",
      "| id|   name|           pagerank|\n",
      "+---+-------+-------------------+\n",
      "|  a|  Alice| 0.1650183746272782|\n",
      "|  i|Michael|  0.048842467744892|\n",
      "|  b|Bridget|  0.048842467744892|\n",
      "|  c|Charles|0.03497796119878669|\n",
      "|  y|    Amy|                0.0|\n",
      "|  j|  James|                0.0|\n",
      "|  v|  David|                0.0|\n",
      "+---+-------+-------------------+\n",
      "\n"
     ]
    }
   ],
   "source": [
    "me = \"d\"\n",
    "results = g.pageRank(resetProbability=0.15, maxIter=20, sourceId=me)\n",
    "people_to_follow = results.vertices.sort(\"pagerank\", ascending=False)\n",
    "already_follows = list(g.edges.filter(f\"src = '{me}'\").toPandas()[\"dst\"])\n",
    "people_to_exclude = already_follows + [me]\n",
    "people_to_follow[~people_to_follow.id.isin(people_to_exclude)].show()"
   ]
  }
 ],
 "metadata": {
  "kernelspec": {
   "display_name": "Python 3",
   "language": "python",
   "name": "python3"
  },
  "language_info": {
   "codemirror_mode": {
    "name": "ipython",
    "version": 3
   },
   "file_extension": ".py",
   "mimetype": "text/x-python",
   "name": "python",
   "nbconvert_exporter": "python",
   "pygments_lexer": "ipython3",
   "version": "3.7.3"
  }
 },
 "nbformat": 4,
 "nbformat_minor": 2
}
