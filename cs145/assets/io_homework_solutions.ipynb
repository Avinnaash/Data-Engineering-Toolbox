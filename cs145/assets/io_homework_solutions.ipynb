{
 "cells": [
  {
   "cell_type": "markdown",
   "metadata": {
    "colab_type": "text",
    "id": "8pdL8Cutncm2"
   },
   "source": [
    "IO Homework [Solutions]\n",
    "=======\n",
    "\n",
    "\n",
    "### Instructions / Notes:\n",
    "\n",
    "* This homework, as with the rest of the homeworks in the course, is *not* graded. Although you do not need to turn it in, we expect every student to complete it (and material from it will show up on the final)."
   ]
  },
  {
   "cell_type": "markdown",
   "metadata": {
    "colab_type": "text",
    "id": "aroefliCncm2"
   },
   "source": [
    "Problem 1: External Merge Sort\n",
    "------------------------\n",
    "\n",
    "In this problem we'll explore an optimization often referred to as **_double buffering_**, which we'll use to speed up the **external merge sort algorithm** we saw in _Lecture 13_.\n",
    "\n",
    "Recall that _sequential IO_ (i.e. involving reading from / writing to consecutive pages) is generally much faster that _random access IO_ (any reading / writing that is not sequential). Additionally, on newer memory technologies like SSD reading data can be faster than writing data (if you want to read more about SSD access patterns look [here](http://codecapsule.com/2014/02/12/coding-for-ssds-part-5-access-patterns-and-system-optimizations/). \n",
    "\n",
    "For example, if we read 8 consecutive pages from file $A$, this should be much faster than reading 2 pages from $A$, then 4 pages from file $B$, then 2 pages from $A$.\n",
    "\n",
    "**In this problem, we will begin to model this, by assuming that 8 sequential _READS_ are \"free\", i.e. the total cost of $8$ sequential reads is $1$ IO. We will also assume that the writes are always twice as expensive as a read. Sequential writes are never free, therefore the cost of $N$ writes is always $2N$.**\n",
    "\n",
    "### Other important notes:\n",
    "* **NO REPACKING:** Consider the external merge sort algorithm using the basic optimizations we present in Lecture 13, but do not use the repacking optimization covered in Lecture 13.\n",
    "* **ONE BUFFER PAGE RESERVED FOR OUTPUT:** Assume we use one page for output in a merge, e.g. a $B$-way merge would require $B+1$ buffer pages\n",
    "* **REMEMBER TO ROUND:** Take ceilings (i.e. rounding up to nearest integer values) into account in this problem.  Note that we have sometimes omitted these (for simplicity) in lecture.\n",
    "* **Consider worst case cost:** In other words, if 2 reads _could happen_ to be sequential, but in general might not be, consider these random IO"
   ]
  },
  {
   "cell_type": "markdown",
   "metadata": {
    "colab_type": "text",
    "id": "cngO11YMncm4"
   },
   "source": [
    "### Part (a)\n",
    "\n",
    "Consider a modification of the external merge sort algorithm where **reads are always read in 8-page chunks (i.e. 8 pages sequentially at a time)** so as to take advantage of sequential reads. Calculate the cost of performing the external merge sort for a setup having $B+1=40$ buffer pages and an unsorted input file with $320$ pages.\n",
    "\n",
    "Show the steps of your work and make sure to explain your reasoning by writing them as python comments above the final answers.\n",
    "\n",
    "#### Part (a.i)\n",
    "\n",
    "What is the **exact** IO cost of spliting and sorting the files? As is standard we want runs of size $B+1$."
   ]
  },
  {
   "cell_type": "code",
   "execution_count": 1,
   "metadata": {
    "colab": {},
    "colab_type": "code",
    "id": "mWqMuqavncm5"
   },
   "outputs": [],
   "source": [
    "# Number of runs: (320 pages) / (40 pages/run) = (8 run)\n",
    "# IO cost/run of reads: ((40 pages/run) / (8 pages/chunk read)) * (1 IO cost/chunk read) = (5 IO cost/run)\n",
    "# IO cost/run of writes: (40 write/run) * (2 IO cost/write) = (80 IO cost/run)\n",
    "\n",
    "# To split and sort, we must read every page once and write it out as sorted. \n",
    "# We can calculate the number of runs by dividing the number of pages (N) by the run size, B+1.\n",
    "# We can calculate the IO cost per run of reading by calculating the IO cost of reading the sequential chunks in a run.\n",
    "# We can calculate the IO cost per run of writing by knowing there will be a write for every page and calculating the IO cost of that.\n",
    "\n",
    "# Then, we can calculate the IO cost accross all runs by the formula, IO cost = Number of runs * (IO cost/run of reads + IO cost/run of writes)\n",
    "# IO cost = 8 run * (5 IO cost/run + 80 IO cost/run) = 680 IO cost\n",
    "io_split_sort = 680"
   ]
  },
  {
   "cell_type": "markdown",
   "metadata": {
    "colab_type": "text",
    "id": "lB7Tdez7ncm7"
   },
   "source": [
    "#### Part (a.ii)\n",
    "\n",
    "After the file is split and sorted, we can merge $n$ runs into 1 using the merge process. What is largest $n$ we could have, given reads are always read in 8-page chunks? Note: this is known as the arity of the merge."
   ]
  },
  {
   "cell_type": "code",
   "execution_count": 2,
   "metadata": {
    "colab": {},
    "colab_type": "code",
    "id": "rIOh2kAcncm8"
   },
   "outputs": [],
   "source": [
    "# We can merge up to B runs at once, but since reads are always in 8-page chunks, we can only merge floor(B/8) runs at once. \n",
    "# Since B + 1 = 40, B = 39 and we can merge floor(39/8) = 4 runs at once. \n",
    "# So n = 4.\n",
    "merge_arity = 4"
   ]
  },
  {
   "cell_type": "markdown",
   "metadata": {
    "colab_type": "text",
    "id": "tiV5MG5yncm_"
   },
   "source": [
    "#### Part (a.iii)\n",
    "\n",
    "How many passes of merging are required?"
   ]
  },
  {
   "cell_type": "code",
   "execution_count": 3,
   "metadata": {
    "colab": {},
    "colab_type": "code",
    "id": "Ji78tw5yncnA"
   },
   "outputs": [],
   "source": [
    "# To merge N pages, we need ceiling(log base n (N/B+1)) passes of merging, where n is the arity of the merge and B+1 is the length of the sorted runs. \n",
    "# From the previous parts, we know N = 320, n = 4, and B+1 = 40.\n",
    "# So # passes = ceiling(log base 4 (320/40)) = 2 pass\n",
    "merge_passes = 2"
   ]
  },
  {
   "cell_type": "markdown",
   "metadata": {
    "colab_type": "text",
    "id": "lAp_aEW0ncnD"
   },
   "source": [
    "#### Part (a.iv)\n",
    "\n",
    "What is the IO cost of the first pass of merging? Note: the highest arity merge should always be used."
   ]
  },
  {
   "cell_type": "code",
   "execution_count": 4,
   "metadata": {
    "colab": {},
    "colab_type": "code",
    "id": "46EUJ9nGncnE"
   },
   "outputs": [],
   "source": [
    "# A single merge pass involves reading all the pages once and writing all the pages once.\n",
    "# Because reads are always done in chunks, we calculate the IO cost for the number of chunks.\n",
    "# Write IO cost = number of pages * IO cost/page = 320 * 2 = 640.\n",
    "# Read IO cost = number of pages / (pages/chunk) * (IO cost/chunk) = 320 / 8 * 1 = 40.\n",
    "# Single merge pass IO cost = Write IO cost + Read IO cost = 640 + 40 = 680 IO cost.\n",
    "\n",
    "merge_pass_1 = 680"
   ]
  },
  {
   "cell_type": "markdown",
   "metadata": {
    "colab_type": "text",
    "id": "GJ3TYX53ncnG"
   },
   "source": [
    "#### Part (a.v)\n",
    "\n",
    "What is the total IO cost of running this external merge sort algorithm? **Do not forget to add in the remaining passes (if any) of merging.**"
   ]
  },
  {
   "cell_type": "code",
   "execution_count": 5,
   "metadata": {
    "colab": {},
    "colab_type": "code",
    "id": "IlyGoa6yncnH"
   },
   "outputs": [],
   "source": [
    "# The total IO cost here will be IO cost of splitting and sorting + IO cost 1 merge pass * 2 passes\n",
    "# So IO cost = 680 + 680*2 = 2040\n",
    "total_io = 2040"
   ]
  },
  {
   "cell_type": "markdown",
   "metadata": {
    "colab_type": "text",
    "id": "XTC7qr9TncnJ"
   },
   "source": [
    "### Part (b)\n",
    "\n",
    "Now, we'll generalize the reasoning above by writing a python function that computes the _approximate_* cost of performing this version of external merge sort for a setup having $B+1$ buffer pages, a file with $N$ pages, and where we now read in $P$-page chunks (replacing our fixed 8 page chunks in Part (a)).\n",
    "\n",
    "**Note: our approximation will be a small one- for simplicity, we'll assume that each pass of the merge phase has the same IO cost, when actually it can vary slightly... Everything else will be exact given our model!* \n",
    "\n",
    "We'll call this function `external_merge_sort_cost(B,N,P)`, and we'll compute it as the product of the cost of reading in and writing out all the data (which we do each pass), and the number of passes we'll have to do.\n",
    "\n",
    "Even though this is an approximation, **make sure to take care of floor / ceiling operations- i.e. rounding down / up to integer values properly!**\n",
    "\n",
    "**Importantly, to simplify your calculations: Your function will only be evaluated on cases where the following hold:**\n",
    "* **(B + 1) % P == 0** (i.e. the buffer size is divisible by the chunk size)\n",
    "* **N % (B + 1) == 0** (i.e. the file size is divisible by the buffer size)"
   ]
  },
  {
   "cell_type": "markdown",
   "metadata": {
    "colab_type": "text",
    "id": "X3cnaaLdncnL"
   },
   "source": [
    "#### Part (b.i)\n",
    "\n",
    "First, let's write a python function that computes the **exact** total IO cost to create the initial runs:"
   ]
  },
  {
   "cell_type": "code",
   "execution_count": 6,
   "metadata": {
    "colab": {},
    "colab_type": "code",
    "id": "7FeEVhlPncnM"
   },
   "outputs": [],
   "source": [
    "def cost_initial_runs(B, N, P):\n",
    "    # 2 * N: writing to the files\n",
    "    # N / P: reading the files\n",
    "    return (N * 2) + (N/P)"
   ]
  },
  {
   "cell_type": "markdown",
   "metadata": {
    "colab_type": "text",
    "id": "jTVkvhdNncnR"
   },
   "source": [
    "#### Part (b.ii)\n",
    "\n",
    "Next, let's write a python function that computes the _approximate_* total IO cost to read in and then write out all the data during one pass of the merge:"
   ]
  },
  {
   "cell_type": "code",
   "execution_count": 7,
   "metadata": {
    "colab": {},
    "colab_type": "code",
    "id": "DICG9-9JncnS"
   },
   "outputs": [],
   "source": [
    "def cost_per_pass(B, N, P):\n",
    "    # N/P: read in all the blocks\n",
    "    # 2 * N: write out all the blocks\n",
    "    return (N * 2) + (N/P)"
   ]
  },
  {
   "cell_type": "markdown",
   "metadata": {
    "colab_type": "text",
    "id": "YQTK7N6gncnV"
   },
   "source": [
    "**Note that this is an approximation: when we read in chunks during the merge phase, the cost per pass actually varies slightly due to 'rounding issues'  when the file is split up into runs... but this is a small difference*"
   ]
  },
  {
   "cell_type": "markdown",
   "metadata": {
    "colab_type": "text",
    "id": "oK14w1CwncnW"
   },
   "source": [
    "#### Part (b.iii)\n",
    "\n",
    "Next, let's write a python function that computes the **exact** total number of passes we'll need to do"
   ]
  },
  {
   "cell_type": "code",
   "execution_count": 8,
   "metadata": {
    "colab": {},
    "colab_type": "code",
    "id": "6aX2X3H9ncnW"
   },
   "outputs": [],
   "source": [
    "import math\n",
    "def num_passes(B, N, P):\n",
    "    # at each step, how many blocks are we joining\n",
    "    # B / P gets us the number of blocks we can merge(since we need 1 to output),\n",
    "    # we need to floor it because B might not be divisible by P \n",
    "    # final: floor(B/P)\n",
    "    \n",
    "    # we have num_of_passes = log_base(floor(B/P))(N/(B + 1)))\n",
    "    # need to ceiling it since might not be perfect merge\n",
    "    # final: ceiling(log_base(floor(B/P))(N/B+1))\n",
    "    # whew!\n",
    "    return math.ceil(math.log(N/(B + 1), math.floor(B/float(P))))"
   ]
  },
  {
   "cell_type": "markdown",
   "metadata": {
    "colab_type": "text",
    "id": "19nwZgQ9ncnb"
   },
   "source": [
    "Finally, our total cost function is:"
   ]
  },
  {
   "cell_type": "code",
   "execution_count": 9,
   "metadata": {
    "colab": {},
    "colab_type": "code",
    "id": "nrYqa1ZFncnc"
   },
   "outputs": [],
   "source": [
    "def external_merge_sort_cost(B, N, P):\n",
    "    return cost_initial_runs(B,N,P) + cost_per_pass(B,N,P) * num_passes(B,N,P)"
   ]
  },
  {
   "cell_type": "markdown",
   "metadata": {
    "colab_type": "text",
    "id": "AAxywkxPncnd"
   },
   "source": [
    "### Part (c)\n",
    "\n",
    "For $B + 1 =100$ and $N=900$, find the optimal $P$ according to your IO cost equation above.  Return both the optimal $P$ value (`P_opt`) and the list of tuples **_for feasible values of $P$_** that would generate a plot of P vs. IO cost, at resolution $=1$(every value of P), stored as `points`:"
   ]
  },
  {
   "cell_type": "code",
   "execution_count": 10,
   "metadata": {
    "colab": {},
    "colab_type": "code",
    "id": "0FIU5EBincne"
   },
   "outputs": [],
   "source": [
    "B = 99\n",
    "N = 900\n",
    "\n",
    "feasible_p_range = range(1, B//2)\n",
    "points = [(p, external_merge_sort_cost(B, N, p)) for p in feasible_p_range]"
   ]
  },
  {
   "cell_type": "code",
   "execution_count": 11,
   "metadata": {
    "colab": {
     "base_uri": "https://localhost:8080/",
     "height": 296
    },
    "colab_type": "code",
    "id": "hWXoDk6Hncni",
    "outputId": "33481a71-8a5b-4180-f218-6ad0ce8bd749"
   },
   "outputs": [
    {
     "data": {
      "image/png": "[encoded data removed]",
      "text/plain": [
       "<Figure size 432x288 with 1 Axes>"
      ]
     },
     "metadata": {
      "needs_background": "light"
     },
     "output_type": "display_data"
    }
   ],
   "source": [
    "# Shell code for plotting in matplotlib\n",
    "%matplotlib inline\n",
    "import matplotlib.pyplot as plt\n",
    "\n",
    "# Plot\n",
    "plt.plot(*zip(*points))\n",
    "plt.title(\"IO Cost vs. Page chunk size\")\n",
    "plt.ylabel(\"Cost in IO\")\n",
    "plt.xlabel(\"Page chunk size: P\")\n",
    "plt.show()"
   ]
  },
  {
   "cell_type": "markdown",
   "metadata": {
    "colab_type": "text",
    "id": "FUN_xnlbL-7s"
   },
   "source": [
    "What is the optimal Page chunk size, $P_{opt}$? Explain the graph's shape and what happens at $P_{opt}+1$."
   ]
  },
  {
   "cell_type": "code",
   "execution_count": 12,
   "metadata": {
    "colab": {
     "base_uri": "https://localhost:8080/",
     "height": 62
    },
    "colab_type": "code",
    "id": "2wpLGafcNA-K",
    "outputId": "5e2b6b09-a9e2-4dd9-faa2-82913895b13e"
   },
   "outputs": [
    {
     "name": "stdout",
     "output_type": "stream",
     "text": [
      "num passes with P_opt: 1\n",
      "num passes with P_opt_plus_1: 2\n"
     ]
    }
   ],
   "source": [
    "# Optimal page chunk size\n",
    "P_opt = 11\n",
    "\n",
    "# Shape of graph: the I/O cost decreases from P=0 to 11, then increases significantly\n",
    "# from P=11 to P=12, then gradually decreases, then increases significantly again from P=33 to P=34, \n",
    "# then gradually decreases again\n",
    "\n",
    "# What happens as P_opt+1: at P_opt+1 (when P=12), the number of passes required \n",
    "# jumps from 1 to 2. This drives up the I/O cost.\n",
    "print('num passes with P_opt:', num_passes(B, N, P_opt))\n",
    "print('num passes with P_opt_plus_1:', num_passes(B, N, P_opt + 1))"
   ]
  },
  {
   "cell_type": "markdown",
   "metadata": {
    "colab_type": "text",
    "id": "8-j7RResncnk"
   },
   "source": [
    "Problem 2: IO Cost Models\n",
    "--------------------------------------\n"
   ]
  },
  {
   "cell_type": "markdown",
   "metadata": {
    "colab_type": "text",
    "id": "bWD3kcZEncnl"
   },
   "source": [
    "In this problem we consider different join algorithms when joining relations $R(A,B)$, $S(B,C)$, and $T(C,D)$. We want to investigate the cost of various pairwise join plans and try to determine the best join strategy given some conditions.\n",
    "\n",
    "Specifically, for each part of this question, we are intereseted determining some (or all) of the following variables:\n",
    "\n",
    "* `P_R`: Number of pages of $R$\n",
    "* `P_S`: Number of pages of $S$\n",
    "* `P_RS`: Number of pages of output (and input) $RS$\n",
    "* `P_T`: Number of pages of $T$\n",
    "* `P_RST`: Number of pages of output (and input) $RST$\n",
    "* `B`: Number of pages in buffer\n",
    "* `IO_cost_join1`: Total IO cost of first join\n",
    "* `IO_cost_join2`: Total IO cost of second join\n",
    "\n",
    "#### Note:\n",
    "* ** The output of join1 is always fed as one of the inputs to join 2 ** \n",
    "* **Use the \"vanilla\" versions of the algorithms as presented in lecture, _i.e. without any of the optimizations we mentioned_**\n",
    "* **Again assume we use one page for output, as in lecture!**\n",
    "* ** The abbreviates for the joins used are Sort-Merge Join (SMJ), Hash Join (HJ), and Block Nested Loop Join (BNLJ). **"
   ]
  },
  {
   "cell_type": "markdown",
   "metadata": {
    "colab_type": "text",
    "id": "lLYhOfjwncnm"
   },
   "source": [
    "### Part (a)\n",
    "\n",
    "Given:\n",
    "* `P_R`: 20\n",
    "* `P_S`: 200\n",
    "* `P_T`: 2000\n",
    "* `P_RS`: 100\n",
    "* `P_ST`: 1000\n",
    "* `P_RST`: 500\n",
    "* `B`: 32\n",
    "\n",
    "Compute the IO cost for the following query plans:\n",
    "\n",
    "* IO_Cost_HJ_1 where only hash join is used, $join1 = R(a,b),S(b,c)$ and $join2 = join1(a,b,c),T(c,d)$\n",
    "* IO_Cost_HJ_2 where only hash join is used, $join1 = T(c,d),S(b,c)$ and $join2 = join1(b,c,d),R(a,b)$\n",
    "* IO_Cost_SMJ_1 where only sort merge join is used, $join1 = R(a,b),S(b,c)$ and $join2 = join1(a,b,c),T(c,d)$\n",
    "* IO_Cost_SMJ_2 where only sort merge join is used, $join1 = T(c,d),S(b,c)$ and $join2 = join1(b,c,d),R(a,b)$\n",
    "* IO_Cost_BNLJ_1 where only block nested loop join is used, $join1 = R(a,b),S(b,c)$ and $join2 = join1(a,b,c),T(c,d)$\n",
    "* IO_Cost_BNLJ_2 where only block nested loop merge join is used, $join1 = T(c,d),S(b,c)$ and $join2 = join1(b,c,d),R(a,b)$\n",
    "\n",
    "**Note: again, be careful of rounding for this problem. Use ceiling/floors whenever it is necessary.**\n",
    "\n",
    "Include 1-2 sentences (as a python comment) above each answer explaining the performance for each algorithm/query plan."
   ]
  },
  {
   "cell_type": "code",
   "execution_count": 13,
   "metadata": {
    "colab": {},
    "colab_type": "code",
    "id": "99ypcaXfncno"
   },
   "outputs": [],
   "source": [
    "#P_R: 20\n",
    "#P_S: 200\n",
    "#P_T: 2000\n",
    "#P_RS: 100\n",
    "#P_ST: 1000\n",
    "#P_RST: 500\n",
    "#B: 32 \n",
    "\n",
    "\n",
    "# P_R fits completely in memory, so no partition phase needed\n",
    "# IO(join1) = 20 + 200 + 100 OUT = 320\n",
    "\n",
    "# IO(join2) = 3(100 + 2000) + 500 OUT = 6800\n",
    "#Total : 6800+320 = 7120\n",
    "\n",
    "IO_Cost_HJ_1 = 7120 # or 7560 if you chose to partition for join1; we accepted both answers.\n",
    "\n",
    "\n",
    "# IO(join1) = 3(200 + 2000) + 1000 OUT = 7600\n",
    "\n",
    "# P_R fits completely in memory, so no partition phase needed\n",
    "# IO(join2) = 1000 + 20 + 500 OUT = 1520\n",
    "\n",
    "# Total: 7600+1520 = 9120\n",
    "\n",
    "IO_Cost_HJ_2 = 9120 # or 11160 if you chose to partition for join2; we accepted both answers.\n",
    "\n",
    "# join1:\n",
    "# 1 pass(R/W) to sort R (2 * 20 = 40) \n",
    "# 2 pass(R/W) to sort S (4 * 200 = 800) \n",
    "# 1 pass(R) to merge (20 + 200 = 220) \n",
    "# Total = 40 + 800 + 220 + 100 = 1160  \n",
    "\n",
    "# join2:\n",
    "# 2 pass(R/W) to sort RS(4 * 100 = 400) \n",
    "# 3 pass(R/W) (B * (B - 1) = 992 < 2000) to sort T (6 * 2000 = 12000) \n",
    "# 1 pass(R) to merge (100 + 2000 = 2100)\n",
    "# OUT = 500\n",
    "# Total = 400 + 12000 + 2100 + 500 = 15000\n",
    "\n",
    "# Total = 15000 + 1160 = 16160\n",
    "\n",
    "IO_Cost_SMJ_1 = 16160\n",
    "\n",
    "# join1:\n",
    "# 3 pass(R/W) (B * (B - 1) = 992 < 2000) to sort T (6 * 2000 = 12000)\n",
    "# 2 pass(R/W) to sort S (4 * 200 = 800)\n",
    "# 1 pass(R) to merge (200 + 2000 = 2200)\n",
    "# OUT = 1000\n",
    "# Total = 12000 + 800 + 2200 + 1000 = 16000\n",
    "\n",
    "# join2:\n",
    "# 3 pass(R/W) to sort ST (6 * 1000) = 6000\n",
    "# 1 pass(R/W) to sort R (2 * 20 = 40)\n",
    "# 1 pass(R) to merge (20 + 1000 = 1020)\n",
    "# OUT = 500\n",
    "# Total = 6000 + 40 + 1020 + 500 = 7560\n",
    "\n",
    "# Total: 23560\n",
    "\n",
    "IO_Cost_SMJ_2 = 23560\n",
    "\n",
    "\n",
    "#join1: 20 + ceiling(20/30) * 200 + 100 = 320\n",
    "#join2: 100 + ceiling(100/30) * 2000 + 500 = 8600\n",
    "#Total: 320+8600 = 8920\n",
    "\n",
    "IO_Cost_BNLJ_1 = 8920\n",
    "\n",
    "#join1: 200 + ceiling(200/30) * 2000 + 1000 = 15200\n",
    "#join2: 20 + ceiling(20/30) * 1000 + 500 = 1520 \n",
    "#Total: 15200 + 1520 = 16720\n",
    "\n",
    "IO_Cost_BNLJ_2 = 16720"
   ]
  },
  {
   "cell_type": "markdown",
   "metadata": {
    "colab_type": "text",
    "id": "pMmEGeSdncns"
   },
   "source": [
    "### Part (b)\n",
    "\n",
    "For the query plan where $join1 = R(a,b),S(b,c)$ and $join2 = join1(a,b,c),T(c,d)$ find a configuration where using HJ for $join1$ and SMJ for $join2$ is cheaper than SMJ for $join1$ and HJ for $join2$. The output sizes you choose for `P_RS` and `P_RS` must be non-zero and feasible (e.g. the maximum output size of $join1$ is `P_R*P_S`). "
   ]
  },
  {
   "cell_type": "code",
   "execution_count": 14,
   "metadata": {
    "colab": {},
    "colab_type": "code",
    "id": "7t_oxBp_ncns"
   },
   "outputs": [],
   "source": [
    "# Possible Idea: \n",
    "# Have P_R be small while P_S be large. This will result in HJ \n",
    "# for join1 being much cheaper using HJ than SMJ for join1\n",
    "\n",
    "P_R = 10 \n",
    "P_S = 10000\n",
    "P_T = 100\n",
    "P_RS = 50\n",
    "P_RST = 25\n",
    "B = 20\n",
    "\n",
    "# join1: fits in memory, no partition needed\n",
    "# 10 + 10000 + 50 = 10060\n",
    "#join2:\n",
    "# 5 * (100 + 50)  + 25 = 775\n",
    "\n",
    "HJ_IO_Cost_join1 = 10060\n",
    "SMJ_IO_Cost_join2 = 775\n",
    "\n",
    "# join1: \n",
    "# sort R: 1 pass (2 * 10 = 20)\n",
    "# sort S: ceiling(log_base(B)(P_S/B) (8 * 10000 = 80000)\n",
    "# merge: 10 + 10000 = 10010\n",
    "# 20 + 80000 + 10010 + 50 = 90080\n",
    "#join2:\n",
    "# 3 * (100 + 50) + 25 = 475\n",
    "\n",
    "SMJ_IO_Cost_join1 = 90080\n",
    "HJ_IO_Cost_join2 = 475"
   ]
  },
  {
   "cell_type": "code",
   "execution_count": 15,
   "metadata": {
    "colab": {
     "base_uri": "https://localhost:8080/",
     "height": 68
    },
    "colab_type": "code",
    "id": "EAr5tOzTSAm8",
    "outputId": "c59505b2-e603-410b-cf9d-2f15c0473d60"
   },
   "outputs": [
    {
     "name": "stdout",
     "output_type": "stream",
     "text": [
      "10060 775\n",
      "90080 475\n",
      "10835 90555\n"
     ]
    }
   ],
   "source": [
    "import math\n",
    "\n",
    "def HJ_cost_calc(input1, input2, buf, out):\n",
    "    #From lecture notes, note B is B + 1 in notes\n",
    "    B = buf - 1\n",
    "    smaller = min(input1, input2)\n",
    "    return 2 * math.ceil(math.log(math.ceil(float(smaller)/(B - 1)), B)) * (input1 + input2) + (input1 + input2) + out\n",
    "\n",
    "def SMJ_cost_calc(input1, input2, buf, out):\n",
    "    #From lecture notes, note buf is B + 1 in notes\n",
    "    B = buf - 1\n",
    "    return 2 * input1 * (1 + math.ceil(math.log(math.ceil(float(input1)/(B + 1)), B))) + \\\n",
    "           2 * input2 * (1 + math.ceil(math.log(math.ceil(float(input2)/(B + 1)), B))) + \\\n",
    "           input1 + input2 + out\n",
    "        \n",
    "plan1 = HJ_cost_calc(P_R, P_S, B, P_RS) \\\n",
    "    + SMJ_cost_calc(P_RS, P_T, B, P_RST)\n",
    "plan2 = SMJ_cost_calc(P_R, P_S, B, P_RS) \\\n",
    "    + HJ_cost_calc(P_RS, P_T, B, P_RST)\n",
    "\n",
    "print(HJ_cost_calc(P_R, P_S, B, P_RS), SMJ_cost_calc(P_RS, P_T, B, P_RST))\n",
    "print(SMJ_cost_calc(P_R, P_S, B, P_RS), HJ_cost_calc(P_RS, P_T, B, P_RST))\n",
    "print(plan1, plan2)"
   ]
  },
  {
   "cell_type": "markdown",
   "metadata": {
    "colab_type": "text",
    "id": "e0EjrEUPncnv"
   },
   "source": [
    "Problem 3: B+ Trees\n",
    "-----------------------"
   ]
  },
  {
   "cell_type": "markdown",
   "metadata": {
    "colab_type": "text",
    "id": "rRDW4Sryncnw"
   },
   "source": [
    "In _Lecture 13_ we saw how B+ Trees (a variant of the more general class of B-Trees) can be used to build _indexes_ for quick access to structured data. In this question, you'll get more practice thinking about B+ trees."
   ]
  },
  {
   "cell_type": "markdown",
   "metadata": {
    "colab_type": "text",
    "id": "RLDPR4vdRGNl"
   },
   "source": [
    "For the rest of the question, let's consider the following scenario.  You have a database of 1 billion rows containing a unique *id* and a few other fields. You decide you want to build a B+ tree index on the *id* field of your 1 billion rows.\n",
    "\n",
    "For simplicity, let's adopt the convention that 1Gigabyte = 1e9 Bytes).\n",
    "\n",
    "Furthermore:\n",
    "\n",
    "*   Each page is exactly 4 KB (4000 Bytes)\n",
    "*   The size of each key in your B+ tree is 8 bytes\n",
    "*   The size of each pointer in your B+ tree is 8 bytes.\n",
    "\n"
   ]
  },
  {
   "cell_type": "markdown",
   "metadata": {
    "colab_type": "text",
    "id": "A5_RUqSSQ9LQ"
   },
   "source": [
    "\n",
    "## Part (a)"
   ]
  },
  {
   "cell_type": "markdown",
   "metadata": {
    "colab_type": "text",
    "id": "tvS3AHIGSjfx"
   },
   "source": [
    "**Assume that we have a fill-factor of 100% on our B+ tree.**"
   ]
  },
  {
   "cell_type": "markdown",
   "metadata": {
    "colab_type": "text",
    "id": "MQ6zUinVVSnq"
   },
   "source": [
    "### Part (a.i)\n",
    "\n",
    "Each node in the B+ tree structure we build can have between $d$ and $2d$ keys, with the special case that the root node can have between $1$ and $2d$ keys. \n",
    "\n",
    "What is the maximum value of $d$ that we can use?"
   ]
  },
  {
   "cell_type": "code",
   "execution_count": 16,
   "metadata": {
    "colab": {},
    "colab_type": "code",
    "id": "kehkjxtdc2fF"
   },
   "outputs": [],
   "source": [
    "# (2d * 8) + (2d + 1) * 8 <= 4000 => d = 124.\n",
    "max_value_of_d = 124"
   ]
  },
  {
   "cell_type": "markdown",
   "metadata": {
    "colab_type": "text",
    "id": "b_q52Cs0eYFY"
   },
   "source": [
    "### Part (a.ii)"
   ]
  },
  {
   "cell_type": "markdown",
   "metadata": {
    "colab_type": "text",
    "id": "dNOhBSznVs1O"
   },
   "source": [
    "Write a python function that given (the size in bytes of each key, the size in bytes of each pointer, and the number of bytes in a page) returns the largest value of $d$ we can use for our tree.\n",
    "\n",
    "Run the following assert as well to sanity check your function.\n"
   ]
  },
  {
   "cell_type": "code",
   "execution_count": 17,
   "metadata": {
    "colab": {},
    "colab_type": "code",
    "id": "bJxYP_OYdLa-"
   },
   "outputs": [],
   "source": [
    "def maximal_degree(key_size, ptr_size, pg_size):\n",
    "  \n",
    "  # Solve for d in (2d * key_size) + (2d + 1) * ptr_size = pg_size\n",
    "  # and return the floor of the result.\n",
    "  return (pg_size - ptr_size) // (2 * (key_size + ptr_size))"
   ]
  },
  {
   "cell_type": "code",
   "execution_count": 18,
   "metadata": {
    "colab": {},
    "colab_type": "code",
    "id": "8l_to2shdzGu"
   },
   "outputs": [],
   "source": [
    "d = maximal_degree(8, 8, 4000)\n",
    "if d != max_value_of_d:\n",
    "    raise(Exception(\"Got {}, expected {}\".format(d, max_value_of_d)))"
   ]
  },
  {
   "cell_type": "markdown",
   "metadata": {
    "colab_type": "text",
    "id": "47FhdFTw1Ze8"
   },
   "source": [
    "### Part (a.iii)"
   ]
  },
  {
   "cell_type": "markdown",
   "metadata": {
    "colab_type": "text",
    "id": "gTM16fw51elw"
   },
   "source": [
    "Fanout is defined as the number of pointers to child nodes coming out of a node.\n",
    "\n",
    "What is the fanout for our B+ tree? "
   ]
  },
  {
   "cell_type": "code",
   "execution_count": 19,
   "metadata": {
    "colab": {},
    "colab_type": "code",
    "id": "Sx-1j1uQ10LW"
   },
   "outputs": [],
   "source": [
    "# 2d + 1\n",
    "tree_fanout = 249"
   ]
  },
  {
   "cell_type": "markdown",
   "metadata": {
    "colab_type": "text",
    "id": "FNJlvDaweeyT"
   },
   "source": [
    "### Part (a.iii) cont."
   ]
  },
  {
   "cell_type": "markdown",
   "metadata": {
    "colab_type": "text",
    "id": "gMu2AuarekwW"
   },
   "source": [
    "How many index pages are required to index your 1 billion rows?"
   ]
  },
  {
   "cell_type": "code",
   "execution_count": 20,
   "metadata": {
    "colab": {},
    "colab_type": "code",
    "id": "UC4UL56werya"
   },
   "outputs": [],
   "source": [
    "# ceil(1 billion / 249)\n",
    "index_pages_required = 4016065"
   ]
  },
  {
   "cell_type": "markdown",
   "metadata": {
    "colab_type": "text",
    "id": "ckSNSiPnebx3"
   },
   "source": [
    "### Part (a.iv)"
   ]
  },
  {
   "cell_type": "markdown",
   "metadata": {
    "colab_type": "text",
    "id": "LhFKTwQBeQRP"
   },
   "source": [
    "We now know what value of $d$ we are using as well as the number of index pages we need. What is the height of the B+ tree we need to build?\n",
    "\n",
    "*  The *height* of the tree is the number of levels in the B+ tree, starting from the root down to the last level before the tree points to data records.\n",
    "*   Assume that each node in the tree is full with $2d$ keys.\n",
    "\n"
   ]
  },
  {
   "cell_type": "code",
   "execution_count": 21,
   "metadata": {
    "colab": {},
    "colab_type": "code",
    "id": "yV-vp8EPfuf4"
   },
   "outputs": [],
   "source": [
    "# 249^2 = 62,001 => Not enough index pages at the last level\n",
    "# 249^3 = 15,438,249 => Enough for the number of index pages we need => Height is Root + 3 levels\n",
    "min_tree_height = 4"
   ]
  },
  {
   "cell_type": "markdown",
   "metadata": {
    "colab_type": "text",
    "id": "xoYG7ZstkR7f"
   },
   "source": [
    "## Part (b)\n",
    "\n",
    "Let's now think of the I/O costs we expect to incur on our B+ tree.  Let's still keep the assumption that the B+ tree is 100% full."
   ]
  },
  {
   "cell_type": "markdown",
   "metadata": {
    "colab_type": "text",
    "id": "kgYMufT7klWN"
   },
   "source": [
    "### Part (b.i)\n",
    "\n",
    "Your friend comes by and congratulates you on the design of your B+ tree. She claims that it's going to be really efficient because you will only need to do I/O when you fetch *data records* from disk. \n",
    "\n",
    "Let's say you are running your database on your shiny new school laptop which has 8GB of memory and infinite hard disk space.\n",
    "\n",
    "Do you correct your friend, or do you agree and join her in celebrating your awesome B+ tree?"
   ]
  },
  {
   "cell_type": "code",
   "execution_count": 22,
   "metadata": {
    "colab": {},
    "colab_type": "code",
    "id": "NiBBq3GtlI1k"
   },
   "outputs": [],
   "source": [
    "# You correct your friend.  You can only store the first three levels of the tree on memory,\n",
    "# and you need to store the last level on disk.\n",
    "\n",
    "# (1 + 249 + 249 ^ 2) * 4000 bytes is about .25 GB, but \n",
    "# (1 + 249 + 249 ^ 2 + 249 ^ 3) * 4000 bytes is about 62 GB which will not fit in your memory.\n",
    "num_levels_of_tree_that_fit_in_memory = 3"
   ]
  },
  {
   "cell_type": "markdown",
   "metadata": {
    "colab_type": "text",
    "id": "5v17vq1Doiqp"
   },
   "source": [
    "### Part (b.ii)\n",
    "\n",
    "Considering only queries for records with a specific *id* or for a range of *id*s, what is the best case I/O cost and the worst case I/O cost of a query?"
   ]
  },
  {
   "cell_type": "code",
   "execution_count": 23,
   "metadata": {
    "colab": {},
    "colab_type": "code",
    "id": "yIqr694qpzEa"
   },
   "outputs": [],
   "source": [
    "# Remeber that 3 of the 4 levels of the tree already fit in memory.\n",
    "\n",
    "# If you query for a single record, starting from the root you will go down the\n",
    "# tree in memory until the 4th level. You need to get 1 page from the 4th level,\n",
    "# then 1 page for the data itself.\n",
    "# Thus, the total IO cost is 2.\n",
    "best_case_io_cost = 2\n",
    "\n",
    "# If you run a range query that results in your retrieving the entire dataset,\n",
    "# you need to fetch the entire last level of the B+ tree as well as each page\n",
    "# of the data.\n",
    "# Because the fill factor is 100% now, there are 249 ** 3 pages in level 4 and\n",
    "# 249 ** 4 data pages.\n",
    "worst_case_io_cost = 249 ** 3 + 249 ** 4"
   ]
  }
 ],
 "metadata": {
  "colab": {
   "collapsed_sections": [
    "oK14w1CwncnW",
    "bWD3kcZEncnl"
   ],
   "name": "IO_Homework_Solutions.ipynb",
   "provenance": [],
   "toc_visible": true,
   "version": "0.3.2"
  },
  "kernelspec": {
   "display_name": "Python 3",
   "language": "python",
   "name": "python3"
  },
  "language_info": {
   "codemirror_mode": {
    "name": "ipython",
    "version": 3
   },
   "file_extension": ".py",
   "mimetype": "text/x-python",
   "name": "python",
   "nbconvert_exporter": "python",
   "pygments_lexer": "ipython3",
   "version": "3.7.3"
  }
 },
 "nbformat": 4,
 "nbformat_minor": 1
}
