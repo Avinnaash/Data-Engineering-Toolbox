{
  "nbformat": 4,
  "nbformat_minor": 0,
  "metadata": {
    "colab": {
      "name": "project2_world_bank.ipynb",
      "version": "0.3.2",
      "provenance": [],
      "collapsed_sections": []
    },
    "kernelspec": {
      "name": "python3",
      "display_name": "Python 3"
    }
  },
  "cells": [
    {
      "cell_type": "markdown",
      "metadata": {
        "id": "z9Be9O4_dOuN",
        "colab_type": "text"
      },
      "source": [
        "# CS145: Project 2\n",
        "## Part 1 | Exploring World Bank Datasets with Colaboratory (40 points)\n",
        "---\n"
      ]
    },
    {
      "cell_type": "markdown",
      "metadata": {
        "id": "rmbV7yfpuxGU",
        "colab_type": "text"
      },
      "source": [
        "\n",
        "### Notes (read carefully!):\n",
        "\n",
        "* Be sure you read the instructions on each cell and understand what it is doing before running it.\n",
        "* Don't forget that if you can always re-download the starter notebook from the course website if you need to.\n",
        "* You may create new cells to use for testing, debugging, exploring, etc., and this is in fact encouraged!\n",
        "**Just make sure that the final answer for each question is _in its own cell_ and _clearly indicated_**.\n",
        "* Colab will not warn you about how many bytes your SQL query will consume.  **Be sure to check on the BigQuery UI first before running queries here!**\n",
        "* See the assignment handout for submission instructions.\n",
        "* Have fun!"
      ]
    },
    {
      "cell_type": "markdown",
      "metadata": {
        "id": "5c-7QXQre4Gt",
        "colab_type": "text"
      },
      "source": [
        "## Collaborators:\n",
        "Please list the names and SUNet IDs of your collaborators below:\n",
        "* *Name, SUNet ID*"
      ]
    },
    {
      "cell_type": "markdown",
      "metadata": {
        "id": "uQwqK3o-eDEg",
        "colab_type": "text"
      },
      "source": [
        "## Setting up BigQuery and Dependencies\n"
      ]
    },
    {
      "cell_type": "markdown",
      "metadata": {
        "id": "pOutY8Csskgi",
        "colab_type": "text"
      },
      "source": [
        "\n",
        "Run the two cells below (shift + enter) to authenticate your project and import the libraries you'll need. \n",
        "\n",
        "Note that you need to fill in the `project_id` variable with the Google Cloud project id you are using for this course.  You can see your project ID by going to https://console.cloud.google.com/cloud-resource-manager"
      ]
    },
    {
      "cell_type": "code",
      "metadata": {
        "id": "6MwxUkb0enZ6",
        "colab_type": "code",
        "colab": {}
      },
      "source": [
        "# Run this cell to authenticate yourself to BigQuery.\n",
        "from google.colab import auth\n",
        "auth.authenticate_user() \n",
        "project_id = \"YOUR PROJECT ID HERE\""
      ],
      "execution_count": 0,
      "outputs": []
    },
    {
      "cell_type": "code",
      "metadata": {
        "id": "PZGBXeMmfC-o",
        "colab_type": "code",
        "colab": {}
      },
      "source": [
        "# Some imports you will need\n",
        "import pandas as pd\n",
        "import altair as alt"
      ],
      "execution_count": 0,
      "outputs": []
    },
    {
      "cell_type": "markdown",
      "metadata": {
        "id": "_CgmWrbisltV",
        "colab_type": "text"
      },
      "source": [
        "### How to BigQuery in Collab\n",
        "\n",
        "Jupyter notebooks (what Collab notebooks are based on) have a concept called \"magics\".\n",
        "If you write the following line at the top of a `Code` cell:\n",
        "\n",
        "```\n",
        "%%bigquery --project $project_id variable # this is the key line\n",
        "SELECT ....\n",
        "FROM ...\n",
        "```\n",
        "\n",
        "That \"%%\" converts the cell into a SQL cell. The resulting table that is generated is saved into `variable`. Then in a second cell:\n",
        "\n",
        "```python\n",
        "alt.Chart(variable).mark_line().encode(\n",
        "...\n",
        ")\n",
        "```\n",
        "\n",
        "You can use the variable like so in order to create a chart! "
      ]
    },
    {
      "cell_type": "markdown",
      "metadata": {
        "id": "CklOd-VXuEXa",
        "colab_type": "text"
      },
      "source": [
        "# Section 1 | Schema Design!\n",
        "\n",
        "---\n",
        "\n"
      ]
    },
    {
      "cell_type": "markdown",
      "metadata": {
        "id": "E444Q0Nru31U",
        "colab_type": "text"
      },
      "source": [
        "\n",
        "\n",
        "The World Bank collects and aggregates data from many public sources around the world and publishes it online. Google BigQuery has made this data available for us to play with, and it contains a tremendous number of metrics about nation-level activity and outcomes. \n",
        "\n",
        "For this project, we will be using the [`world_bank_health_population`](https://bigquery.cloud.google.com/dataset/bigquery-public-data:world_bank_health_population) public dataset."
      ]
    },
    {
      "cell_type": "markdown",
      "metadata": {
        "id": "iYPqd387wOJk",
        "colab_type": "text"
      },
      "source": [
        "## Question 1: Describe the dataset of the World Bank (1 point)\n",
        "\n",
        "If you had to describe the way the data is set up in the World Bank datasets (any of the four datasets, as they have identical structure), what would you say about it? \n",
        "**Note:** The rest of this question is about going through the structure of the dataset, so we only need a couple of sentences here. We're looking for your impressions - what do you notice?"
      ]
    },
    {
      "cell_type": "markdown",
      "metadata": {
        "id": "s8HxKga9g3qo",
        "colab_type": "text"
      },
      "source": [
        "---\n",
        "*TODO: insert your answer here*\n",
        "\n",
        "---"
      ]
    },
    {
      "cell_type": "markdown",
      "metadata": {
        "id": "eDfk4D0-wpWf",
        "colab_type": "text"
      },
      "source": [
        "## Meet OKV, the Anti-Schema\n",
        "\n",
        "---\n",
        "\n",
        "**`OKV`** stands for `Object-Key-Value` [[1]](https://colab.research.google.com/drive/1asMZjcxwBqGpurcPOZ6pmtdUaXipWdmX#scrollTo=ZvK6dAU2k8Qa&line=4&uniqifier=1). It's a way of storing information in a database that has the opposite of a schema - you're free to define any property you'd like on any object. Think of it like a gigantic hashmap (10B rows is nothing with this kind of model [[2]](https://colab.research.google.com/drive/1asMZjcxwBqGpurcPOZ6pmtdUaXipWdmX#scrollTo=ZvK6dAU2k8Qa&line=4&uniqifier=1)) for every variable on every object in your system. \n",
        "\n"
      ]
    },
    {
      "cell_type": "markdown",
      "metadata": {
        "id": "Xk2TLq1fjPzo",
        "colab_type": "text"
      },
      "source": [
        "Here's one way a table for such a system could be laid out:\n",
        "\n",
        "\n",
        "|  object  |             key          |  value  \n",
        "|-------------|---------------------------|------\n",
        "|    102    |        \"name\"         |  \"John Watson\"\n",
        "|    103    |        \"name\"         |  \"Sherlock Holmes\"\n",
        "|    102    |       \"address\"      |  \"221B Baker Street, London, UK\"\n",
        "|    107    |        \"name\"         |  \"Oprah Winfrey\"\n",
        "|    103    |       \"address\"      |  \"221B Baker Street, London, UK\"\n",
        "|    102    |        \"canes\"        |  26\n",
        "|    103    |  \"cases_solved\" |  60\n",
        "\n",
        "\n"
      ]
    },
    {
      "cell_type": "markdown",
      "metadata": {
        "id": "xcwvWlFbkeVF",
        "colab_type": "text"
      },
      "source": [
        "As you can see, the three objects in this table all have different \"shapes\" (another word for \"schema\" in systems that don't have a formal schema). \n",
        "\n",
        "When you want to query for an object you will need a query like :\n",
        "\n",
        "```sql\n",
        "SELECT key, value\n",
        "FROM table\n",
        "WHERE object = 102\n",
        "```\n",
        "\n",
        "Then merging all the rows in the output will give you the object!\n"
      ]
    },
    {
      "cell_type": "markdown",
      "metadata": {
        "id": "ZvK6dAU2k8Qa",
        "colab_type": "text"
      },
      "source": [
        "### Notes\n",
        "1. Other three word versions of this idea include ID-Key-Value, Object-Property-Value, Entity-Attribute-Value, Entity-Property-Value and they have their respective three-letter-acronym (TLA) as well\n",
        "2. The reason being that the number of rows in an OKV store = number of cells in a regular table.\n"
      ]
    },
    {
      "cell_type": "markdown",
      "metadata": {
        "id": "UXwacCb6jSEv",
        "colab_type": "text"
      },
      "source": [
        "### Further Reading (Optional)\n",
        "* Wikipedia [article ](https://en.wikipedia.org/wiki/Entity%E2%80%93attribute%E2%80%93value_model) on this structure of data\n",
        "* This (OKV store, and database design in general) is a great thing to ask Shiva about during his office hours!"
      ]
    },
    {
      "cell_type": "markdown",
      "metadata": {
        "id": "1-8WFYFQUi5B",
        "colab_type": "text"
      },
      "source": [
        "## Question 2: Ruminating about OKVs (6 points)\n",
        "\n",
        "Compare and contrast the OKV store to the traditional relational table (the kind you see in class) - \n",
        "What are the advantages? What are some of the difficulties? \n",
        "#### (Keep your answer around 200 words, bullet-points suggested!)\n",
        "\n",
        "### Hints\n",
        "* One helpful checklist is the acronym **CRUD**, which stands for **Create**, **Read**, **Update**, **Delete**. These are the four basic data operations. You can create/read/update/delete the values in a database, or the schema of a database (eg, add/delete a property, or change its type). \n",
        "\n",
        "* When you think about advantages and disadvantages in software, some of the common desirable attributes are - performance (how fast queries run), memory footprint (less is better), maintainability (can the database gracefully change with product requirements?), and code complexity (does a db design encourage large, unwieldy queries? Programmers are human after all - the more complexity, the more bugs!). Combining these attributes with the operations above should give you a place to start your comparison.\n",
        "\n",
        "* An extra hint: We haven't talked about performance in databases yet, but for the purposes of this question, you can think in three tiers:\n",
        "  * Lookup: You have a key of a table, and you want the row (or some subset of the row). You can conceptualize this as O(1)\n",
        "  * Scan: When you need to lookup rows by some criteria (eg, people taller than 6 feet). Height is not a key, so the database has to scan all the rows. You can conceptualize this as O(N). Scanning also happens when writing a property to many rows at once.\n",
        "  * Join: When you join tables together, it creates a Cartesian Product of sets (also called pairs). If there are N rows in a table, and another table has roughly the same number of rows (so N there too), then you can think of a two-table join as O(N^2).\n"
      ]
    },
    {
      "cell_type": "markdown",
      "metadata": {
        "id": "hW1nT3liliTK",
        "colab_type": "text"
      },
      "source": [
        "---\n",
        "*TODO: insert your answer here*\n",
        "\n",
        "---"
      ]
    },
    {
      "cell_type": "markdown",
      "metadata": {
        "id": "pK-PIO_2UI5a",
        "colab_type": "text"
      },
      "source": [
        "## One More Thing - Property Names\n",
        "\n"
      ]
    },
    {
      "cell_type": "markdown",
      "metadata": {
        "id": "KthLHyOUo1Q2",
        "colab_type": "text"
      },
      "source": [
        "\n",
        "As you learned in class, redundant data in a table is undesirable, because if you want to change something, then you have to update all the rows corresponding to that value (which is very expensive; remember that an OKV model has way more rows than a traditional table). This is also called an **update anomaly**.\n",
        "\n",
        "How to solve this issue? Simple, a property table:\n",
        "\n",
        "```sql\n",
        "# Schema (in the syntax of the Gradiance homework): \n",
        "Property(id, name)\n",
        "Data(id, key, value)\n",
        "```\n",
        "\n",
        "So we'd take the table above, and replace it with:\n",
        "\n",
        "Property Table:\n",
        "\n",
        "  \n",
        "| id | name |\n",
        "|-----|----------|\n",
        "| 1  | \"name\"\n",
        "| 2  | \"address\"\n",
        "| 3  | \"canes\"\n",
        "| 4  | \"cases_solved\"\n",
        "\n",
        "\n",
        "Data Table:\n",
        "\n",
        "|    id    |  pid   |  value\n",
        "--------|-------------|-------------\n",
        "|  102   |  1      |  \"John Watson\"\n",
        "|  103   |  1      |  \"Sherlock Holmes\"\n",
        "|  102   |  2      |  \"221B Baker Street, London, UK\"\n",
        "|  107   |  1      |  \"Oprah Winfrey\"\n",
        "|  103   |  2      |  \"221B Baker Street, London, UK\"\n",
        "|  102   |  3      |  26\n",
        "|  103   |  4      |  60\n"
      ]
    },
    {
      "cell_type": "markdown",
      "metadata": {
        "id": "pwn4_xbnVGkN",
        "colab_type": "text"
      },
      "source": [
        "## Question 3: Rumination Redux (2 points)\n",
        "Update your comparison above to account for the property table - which things have been made easy to do with this change, and which things are still hard to do? \n",
        "\n",
        "Please only comment on the differences - you don't need to redo the whole analysis here."
      ]
    },
    {
      "cell_type": "markdown",
      "metadata": {
        "id": "7sL5gwpLosac",
        "colab_type": "text"
      },
      "source": [
        "---\n",
        "*TODO: insert your answer here*\n",
        "\n",
        "---"
      ]
    },
    {
      "cell_type": "markdown",
      "metadata": {
        "id": "ANzXvTCVVpV5",
        "colab_type": "text"
      },
      "source": [
        "## One MORE Thing - Types! \n",
        "\n",
        "In `SQL`, every column is required to have a type [[1]](https://colab.research.google.com/drive/1asMZjcxwBqGpurcPOZ6pmtdUaXipWdmX#scrollTo=inVjXmRsiXc2&line=3&uniqifier=1). So when we mixed *string* values and *int* values in a single column, that was a simplification. \n",
        "\n",
        "There are multiple design options that work for this situation - see the next question for a discussion of them.\n"
      ]
    },
    {
      "cell_type": "markdown",
      "metadata": {
        "id": "inVjXmRsiXc2",
        "colab_type": "text"
      },
      "source": [
        "#### Notes\n",
        "1. There are databases that do not offer this feature/suffer from this curse (depending on your opinions), where you are free to put whatever value you'd like in the third column as shown above. If you're curious why anyone would want that - consider the difference between a static vs dynamically typed programming language (e.g. Java vs Python). There are similar tradeoffs in choosing a database that has typed schema vs type agnostic schema. This is another great thing to talk to Shiva about if you have more questions. "
      ]
    },
    {
      "cell_type": "markdown",
      "metadata": {
        "id": "_mXPcZ-_WtgL",
        "colab_type": "text"
      },
      "source": [
        "## Question 4:  A Friendly Dialogue (6 points)\n"
      ]
    },
    {
      "cell_type": "markdown",
      "metadata": {
        "id": "p9lHdU4Rkcib",
        "colab_type": "text"
      },
      "source": [
        "\n",
        "(PS - This is a very common software engineering interview question!).\n",
        "\n",
        "Your well meaning friend tries to implement an OKV store in SQL and runs into the snag above. Let's say, for simplification, they are only interested in storing* string* values and* int *values (you can imagine extending this to more types).\n",
        "\n",
        "They propose the following solution (assume the property table also exists, it's not shown here):\n",
        "\n",
        "id    | pid | string_value       | int_value\n",
        "------|-------|---------------------------|--------\n",
        "102 | 1   | \"Sherlock Holmes\" | null\n",
        "103 | 1   | \"John Watson\"     | null\n",
        "102 | 3   | null                        | 60\n",
        "\n",
        "\n",
        "To explain: if the value is a *string* value, then fill the `string_value` column and fill the `int_value` column with null; vice versa if there's an *int* value. "
      ]
    },
    {
      "cell_type": "markdown",
      "metadata": {
        "id": "Ows_-y8LptGY",
        "colab_type": "text"
      },
      "source": [
        "\n",
        "### a) What's wrong with this picture? (2 points)\n",
        "\n",
        "If you had to critique this design, what would you tell your friend? Again, what is difficult or not desirable about this design?"
      ]
    },
    {
      "cell_type": "markdown",
      "metadata": {
        "id": "XcQZ2G2kpU3N",
        "colab_type": "text"
      },
      "source": [
        "---\n",
        "*TODO: insert your answer here*\n",
        "\n",
        "---"
      ]
    },
    {
      "cell_type": "markdown",
      "metadata": {
        "id": "vjlxgqiRpYg7",
        "colab_type": "text"
      },
      "source": [
        "### b) Your alternative (2 points)\n",
        "\n",
        "Come up with an alternative design (hint: you may need more than 1 table) that addresses some of the concerns you brought up above.\n"
      ]
    },
    {
      "cell_type": "markdown",
      "metadata": {
        "id": "wEMg_-dcpTk1",
        "colab_type": "text"
      },
      "source": [
        "---\n",
        "*TODO: insert your answer here*\n",
        "\n",
        "---"
      ]
    },
    {
      "cell_type": "markdown",
      "metadata": {
        "id": "IiZ9qq2gpQ-M",
        "colab_type": "text"
      },
      "source": [
        "\n",
        "### c)  No free lunch! (2 points)\n",
        "\n",
        "Your friend looks at your design - what critique would he offer you? What is made difficult or not desirable about your design?"
      ]
    },
    {
      "cell_type": "markdown",
      "metadata": {
        "id": "iCNACRS_pNjj",
        "colab_type": "text"
      },
      "source": [
        "---\n",
        "*TODO: insert your answer here*\n",
        "\n",
        "---"
      ]
    },
    {
      "cell_type": "markdown",
      "metadata": {
        "id": "jau5AfWktENM",
        "colab_type": "text"
      },
      "source": [
        "## Apply Your Knowledge!\n",
        "\n",
        "The world bank data is structured as a OKV... with a small twist. The tables that contain the information are more or less arranged as follows:\n",
        "\n",
        "```\n",
        "object | key | year | value\n",
        "```\n",
        "\n",
        "Where `object` = country code & `key` = indicator code.\n",
        "\n",
        "There are a couple of other fields (a description for the object and the key), but the overall structure is still OKV.\n",
        "\n",
        "With this new understanding try reading the schema and identifying other features of the key-value store setup that we identified above. \n"
      ]
    },
    {
      "cell_type": "markdown",
      "metadata": {
        "id": "Fbo706dCt2LT",
        "colab_type": "text"
      },
      "source": [
        "## Question 5: Schema Comprehension (3 points)\n",
        "\n",
        "Each of the following parts is worth 1 point."
      ]
    },
    {
      "cell_type": "markdown",
      "metadata": {
        "id": "b_moV3eFqT6n",
        "colab_type": "text"
      },
      "source": [
        "\n",
        "### a)  What is the name of the table that functions as the property table in the four world bank data sets?\n"
      ]
    },
    {
      "cell_type": "markdown",
      "metadata": {
        "id": "h3shEPuDqpW2",
        "colab_type": "text"
      },
      "source": [
        "---\n",
        "*TODO: insert your answer here*\n",
        "\n",
        "---"
      ]
    },
    {
      "cell_type": "markdown",
      "metadata": {
        "id": "tjvS2kD4qkVm",
        "colab_type": "text"
      },
      "source": [
        "### b) Which table contains extra information about the \"objects\" (as in Object-Key-Value) in the table?\n"
      ]
    },
    {
      "cell_type": "markdown",
      "metadata": {
        "id": "tK8xLUIfqqTt",
        "colab_type": "text"
      },
      "source": [
        "---\n",
        "*TODO: insert your answer here*\n",
        "\n",
        "---"
      ]
    },
    {
      "cell_type": "markdown",
      "metadata": {
        "id": "aGShjNR0qmFS",
        "colab_type": "text"
      },
      "source": [
        "\n",
        "### c) What is the \"key\" (as in Object-Key-Value) of the `health_nutrition_population` table?"
      ]
    },
    {
      "cell_type": "markdown",
      "metadata": {
        "id": "4ooCHYxFqrSt",
        "colab_type": "text"
      },
      "source": [
        "---\n",
        "*TODO: insert your answer here*\n",
        "\n",
        "---"
      ]
    },
    {
      "cell_type": "markdown",
      "metadata": {
        "id": "IXJL7YDRu807",
        "colab_type": "text"
      },
      "source": [
        "## Question 6: Design Theory (12 points)\n",
        "\n",
        "Design your own schema for the world bank data! Your goal is to make visualizations to answer these questions:\n",
        "\n",
        "* What is the breakdown of population by decade (0-9, 10-19, 20-29, etc) by male and female for the US over time? \n",
        "* Is the US population shifting towards an aging one or a young one? \n",
        "* How does the population breakdown of the US and China (or any other country) differ? \n",
        "* What is the life expectancy versus the health care expenditure for all the countries of the world?\n",
        "* Where is HIV in the world? Make a picture that shows the distribution of AIDS patients by major region.  \n",
        "\n",
        "#### Further Requirements\n",
        "\n",
        "* No matter which schema you choose, it should be clear how you could add data from more indicators to it.  This could be adding a column(s), row(s) or table(s) depending on your design.\n",
        "  * Eg, if you're not storing GDP/capita, how could you add it to the table?\n",
        "* \n",
        "\n"
      ]
    },
    {
      "cell_type": "markdown",
      "metadata": {
        "id": "NvBtxzXgrly4",
        "colab_type": "text"
      },
      "source": [
        "#### Hints:\n",
        "\n",
        "In the real world, stuff happens! We want our databases to be able to handle those cases.\n",
        "Remember the CRUD (create, read, update, delete) acronym! What if:\n",
        "* A statistic turns out to be incorrect and it needs to be updated?\n",
        "* You need to add all the data for all the countries when it's published at the end of 2018?\n",
        "* A country splits into two because of a revolutionary war?\n",
        "* A country changes its name back to a pre-colonial era one?\n",
        "* You need to store very small percentages (think prevalence of rare diseases)?\n",
        "* There are statistics that only apply to some countries and not others (eg, fishing in a landlocked country)?\n",
        "* You suddenly want to store data at a higher sampling rate (say, monthly or weekly rather than yearly)?\n",
        "\n",
        "It's very unlikely your design performs well under all these conditions (and many more you can come up with) and that's okay! No design is perfect - we're looking for you to show your understanding of the tradeoffs you made and what that means for any application you write on top of your database."
      ]
    },
    {
      "cell_type": "markdown",
      "metadata": {
        "id": "O7XIirm6q57V",
        "colab_type": "text"
      },
      "source": [
        "### a) What entities are present in your schema? (2 points)\n"
      ]
    },
    {
      "cell_type": "markdown",
      "metadata": {
        "id": "IJ3TP1parTyA",
        "colab_type": "text"
      },
      "source": [
        "---\n",
        "*TODO: insert your answer here*\n",
        "\n",
        "---"
      ]
    },
    {
      "cell_type": "markdown",
      "metadata": {
        "id": "baw0B_9oq8LK",
        "colab_type": "text"
      },
      "source": [
        "### b) What is the relationship between them? (You don't need to draw a perfect ER diagram - you can also just list 'one to one', 'one to many' and 'many to many' for each pair). (2 points)\n",
        "\n"
      ]
    },
    {
      "cell_type": "markdown",
      "metadata": {
        "id": "gzON8gH9rViO",
        "colab_type": "text"
      },
      "source": [
        "---\n",
        "*TODO: insert your answer here*\n",
        "\n",
        "---"
      ]
    },
    {
      "cell_type": "markdown",
      "metadata": {
        "id": "z2A_UsyFrCzh",
        "colab_type": "text"
      },
      "source": [
        "### c) Draw out your tables (like you've seen above and in class), and clearly note which column(s) form the key for that table, and which columns are keys of another table (foreign keys). (3 points)\n"
      ]
    },
    {
      "cell_type": "markdown",
      "metadata": {
        "id": "pwx2XI1JranL",
        "colab_type": "text"
      },
      "source": [
        "---\n",
        "*TODO: insert your answer here*\n",
        "\n",
        "*Example table for formatting reference. The values are intended to be samples, we just need a couple rows to get an idea of what's stored where:*\n",
        "\n",
        "\n",
        "Column A | Column B | Column C\n",
        "----------------|-----------------|-----------------\n",
        "   value 1  |   value 2   |   value 3\n",
        "   value 4  |   value 5   |   value 6\n",
        "\n",
        "\n",
        "---"
      ]
    },
    {
      "cell_type": "markdown",
      "metadata": {
        "id": "2P90lUHErGyk",
        "colab_type": "text"
      },
      "source": [
        "### d) List the (minimal) functional dependencies that are present in your tables. (2 points)\n"
      ]
    },
    {
      "cell_type": "markdown",
      "metadata": {
        "id": "UNumf6I_rWcJ",
        "colab_type": "text"
      },
      "source": [
        "---\n",
        "*TODO: insert your answer here*\n",
        "\n",
        "---"
      ]
    },
    {
      "cell_type": "markdown",
      "metadata": {
        "id": "GtMB928yrKZU",
        "colab_type": "text"
      },
      "source": [
        "### e) Comment on your design - what is it good/bad for? *What are the tradeoffs that you're making in choosing your design?* (3 points)\n"
      ]
    },
    {
      "cell_type": "markdown",
      "metadata": {
        "id": "Zqg1aA5-rXf4",
        "colab_type": "text"
      },
      "source": [
        "---\n",
        "*TODO: insert your answer here*\n",
        "\n",
        "---"
      ]
    },
    {
      "cell_type": "markdown",
      "metadata": {
        "id": "bqyYP5sps6Jz",
        "colab_type": "text"
      },
      "source": [
        "# Section 2 | Learn you a Visualization for Great Good\n",
        "---\n",
        "\n",
        "(This title is a pun on a famous series of programming books that look like `Learn you a ____ for Great Good`.)"
      ]
    },
    {
      "cell_type": "markdown",
      "metadata": {
        "id": "KxKKcG8IJDef",
        "colab_type": "text"
      },
      "source": [
        "In this section, you'll be answering questions, similar to the first project. The difference is that instead of just answering with a query, you will be answering with a visualization. Part of this assignment is for you to think about what type of chart/picture/visualization will convey your information well, and to think about which data (specifically, which indicators) you should be using in order to answer a particular question. \n",
        "\n",
        "We're focusing on visualizations because they are a primary method of understanding and communicating the nature of data. Especially with the large datasets that are available today, a picture is worth 1M rows :) \n",
        "\n",
        "For a look at what is possible, see [Gapminder](https://www.gapminder.org/tools). Gapminder is a professional visualization of all the world bank indicators which is also interactive! You can look up some cool TED talks that use Gapminder to display world metrics (it's a very popular tool).\n",
        "\n",
        "If you need to see \"the answers\" for some of the relational (see: scatterplot) type data, feel free to look it up here and verify that you have something that looks right. Also, part of this project will be choosing the right indicators. You are free to use Gapminder to play with different options before deciding on one!"
      ]
    },
    {
      "cell_type": "markdown",
      "metadata": {
        "id": "7bpWi-uh3QJj",
        "colab_type": "text"
      },
      "source": [
        "## General Instructions\n",
        "* For each question, you will have at least two cells - a SQL cell where you run your query (and save the output to a data frame), and a visualization cell, where you construct your chart. Please be clear that **all** data manipulation is to be done in SQL. Please do not use `pandas` or any other python library to massage your data output - in the real world, that would be impossible. \n",
        "* Please make all charts legible - this inclues axes labels, clear tick marks, clear point markers/lines/color schemes (i.e. don't repeat colors across categories), legends, and so on. \n",
        "* If you're asking for help, be sure to talk to the TAs about which indicators you are using and how you determined they were the right ones. Ultimately we care about the chart, so if you're aggregating the same data stored in a different way, that's fine (eg population by decade instead of population by phase of life). Some indicators will lead to easier solutions though, so we encourage you to spend some time making sure you've got one that feels straightforward to use. Feel free to come to office hours if you want to discuss finding the right indicators. "
      ]
    },
    {
      "cell_type": "markdown",
      "metadata": {
        "id": "kZeLJoIQFkoS",
        "colab_type": "text"
      },
      "source": [
        "## Visualization Libraries\n",
        "The Colab notebook comes preinstalled with a visualization library called **Altair**. \n",
        "You can read its docs here: https://altair-viz.github.io/ \n",
        "\n",
        "There are some basic code snippets available if you open the menu on the left of the notebook and look under code snippets. \n",
        "We expect you to read the docs and understand how to use this library. The exploration you do now will help for project 3 when you do your own visualizations as well, and for later in your career if you ever want to play around with data (the Jupyter notebook, which is what Colab is based on, is a common data analysis tool these days!)\n",
        "\n",
        "\n",
        "\n"
      ]
    },
    {
      "cell_type": "markdown",
      "metadata": {
        "id": "oHNutgYnLdBb",
        "colab_type": "text"
      },
      "source": [
        "## Indicators\n",
        "\n",
        "The World Bank indicators are available and searchable [here](https://data.worldbank.org/). If you want to browse some of what's available, you can check [here](https://data.worldbank.org/indicators). The browsing page doesn't have all the indicators (despite saying \"all indicators\", it only has the \"Primary World Bank\" indicators).  \n",
        "If that fails, then you can Google \"World Bank ____________ indicator\" and click on the results from the world bank that come up.\n",
        "\n",
        "You will likely need to look up indicator codes and indicator code patterns in order to extract the necessary data for this portion of the assignment. Once you've found your indicator, you will arrive at a page like `https://data.worldbank.org/indicator/XXXXXXXXX`. The X's are where the `indicator_code` for that indicator are found. For example, in `https://data.worldbank.org/indicator/SH.XPD.CHEX.GD.ZS`, the `SH.XPD.CHEX.GD.ZS` is the `indicator_code` you would search for in the database.\n",
        "\n",
        "Alternately, you are free to query for keywords in BigQuery directly (it may be easier for some of the simpler plots).\n",
        "\n",
        "Many of these questions are _intentionally_ left open ended for you to think about what the right metrics are (another important data skill). Part of asking and answering interesting questions is thinking about the blind spots of your metrics. \n",
        "For example, say you plot $ spent versus educational attainment for various countries. Would you rather use the raw money spent, or money as % GDP (Gross Domestic Product)? What are the tradeoffs?"
      ]
    },
    {
      "cell_type": "markdown",
      "metadata": {
        "id": "tLT3AJ_Q18lJ",
        "colab_type": "text"
      },
      "source": [
        "## Question 7 (3 points)\n",
        "\n",
        "\n",
        "First, something basic - let's plot the total population of the USA over time as a stacked area chart - there should be multiple bands for the granularities of population that are recorded (0-14, 15-64, 65+). The x axis should be 'year' and the y axis should be 'population'. The sum of all the bands will equal the total population in the US at that time. \n",
        "\n",
        " **Hint:** BigQuery's REGEX functions may be helpful here. (You may want to test your regex at regex101.com before using it in BigQuery to make sure it works!)"
      ]
    },
    {
      "cell_type": "code",
      "metadata": {
        "id": "50WS1b8Djiug",
        "colab_type": "code",
        "colab": {}
      },
      "source": [
        "%%bigquery --project $project_id q7\n",
        "\n",
        "# YOUR QUERY HERE"
      ],
      "execution_count": 0,
      "outputs": []
    },
    {
      "cell_type": "code",
      "metadata": {
        "id": "qxr-SAryjjFA",
        "colab_type": "code",
        "colab": {}
      },
      "source": [
        "# YOUR PLOT CODE HERE"
      ],
      "execution_count": 0,
      "outputs": []
    },
    {
      "cell_type": "markdown",
      "metadata": {
        "id": "epKl0tCE4MQe",
        "colab_type": "text"
      },
      "source": [
        "## Question 8 (3 points)\n",
        "\n",
        "Is the US population aging or getting younger overall? Make a normalized, stacked area chart so you can see the answer!"
      ]
    },
    {
      "cell_type": "code",
      "metadata": {
        "id": "YKw5XESXjxpF",
        "colab_type": "code",
        "colab": {}
      },
      "source": [
        "%%bigquery --project $project_id q8\n",
        "\n",
        "# YOUR QUERY HERE"
      ],
      "execution_count": 0,
      "outputs": []
    },
    {
      "cell_type": "code",
      "metadata": {
        "id": "g8da2Ahfjxzc",
        "colab_type": "code",
        "colab": {}
      },
      "source": [
        "# YOUR PLOT CODE HERE"
      ],
      "execution_count": 0,
      "outputs": []
    },
    {
      "cell_type": "markdown",
      "metadata": {
        "id": "AoTL-ovg2SJL",
        "colab_type": "text"
      },
      "source": [
        "## Question 9 (4 points)\n",
        "\n",
        "Let's make a plot just like Gapminder - Who's getting the most health for their money? Plot \"money spent on healthcare\" versus \"life expectancy\" (play with Gapminder to find the right metrics; there are a few options). Make a bubble plot where the size is population of the country, the bubbles are colored by region, and use a slider to change the year (note: choose something reasonable for the range)! Please also include some way of seeing which country is which (a tooltip, perhaps)."
      ]
    },
    {
      "cell_type": "code",
      "metadata": {
        "id": "lUGRNwZWkDFz",
        "colab_type": "code",
        "colab": {}
      },
      "source": [
        "%%bigquery --project $project_id q9\n",
        "\n",
        "# YOUR QUERY HERE"
      ],
      "execution_count": 0,
      "outputs": []
    },
    {
      "cell_type": "code",
      "metadata": {
        "id": "kfQ8-WM7kDJ9",
        "colab_type": "code",
        "colab": {}
      },
      "source": [
        "# YOUR PLOT CODE HERE"
      ],
      "execution_count": 0,
      "outputs": []
    }
  ]
}