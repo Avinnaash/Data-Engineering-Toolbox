{
  "nbformat": 4,
  "nbformat_minor": 0,
  "metadata": {
    "colab": {
      "name": "project2_github.ipynb",
      "version": "0.3.2",
      "provenance": [],
      "collapsed_sections": [],
      "toc_visible": true
    },
    "kernelspec": {
      "name": "python3",
      "display_name": "Python 3"
    }
  },
  "cells": [
    {
      "cell_type": "markdown",
      "metadata": {
        "id": "Vww9hJDs21VI",
        "colab_type": "text"
      },
      "source": [
        "# CS145: Project 2\n",
        "## Part 2 | Exploring the GitHub Dataset with Colaboratory (60 points)\n",
        "---\n",
        "\n",
        "### Notes (read carefully!):\n",
        "\n",
        "* Be sure you read the instructions on each cell and understand what it is doing before running it.\n",
        "* Don't forget that if you can always re-download the starter notebook from the course website if you need to.\n",
        "* You may create new cells to use for testing, debugging, exploring, etc., and this is in fact encouraged!\n",
        "**Just make sure that the final answer for each question is _in its own cell_ and _clearly indicated_**.\n",
        "* Colab will not warn you about how many bytes your SQL query will consume.  **Be sure to check on the BigQuery UI first before running queries here!**\n",
        "* See the assignment handout for submission instructions.\n",
        "* Have fun!"
      ]
    },
    {
      "cell_type": "markdown",
      "metadata": {
        "id": "9dDrNKGoa-d6",
        "colab_type": "text"
      },
      "source": [
        "## Collaborators:\n",
        "Please list the names and SUNet IDs of your collaborators below:\n",
        "* *Name, SUNet ID*"
      ]
    },
    {
      "cell_type": "markdown",
      "metadata": {
        "id": "DFYMic5WaqfJ",
        "colab_type": "text"
      },
      "source": [
        "## Setting Up BigQuery and Dependencies"
      ]
    },
    {
      "cell_type": "markdown",
      "metadata": {
        "id": "J2HMMh9Macua",
        "colab_type": "text"
      },
      "source": [
        "Run the two cells below (shift + enter) to authenticate your project and import the libraries you'll need. \n",
        "\n",
        "Note that you need to fill in the `project_id` variable with the Google Cloud project id you are using for this course.  You can see your project ID by going to https://console.cloud.google.com/cloud-resource-manager.\n",
        "\n"
      ]
    },
    {
      "cell_type": "code",
      "metadata": {
        "id": "MeTfGaQ6UBEY",
        "colab_type": "code",
        "colab": {}
      },
      "source": [
        "# Run this cell to authenticate yourself to BigQuery.\n",
        "from google.colab import auth\n",
        "auth.authenticate_user()\n",
        "project_id = \"YOUR PROJECT ID HERE\""
      ],
      "execution_count": 0,
      "outputs": []
    },
    {
      "cell_type": "code",
      "metadata": {
        "id": "O66tqpEIs_sG",
        "colab_type": "code",
        "colab": {}
      },
      "source": [
        "# Some imports you will need\n",
        "import seaborn as sns\n",
        "import matplotlib as mpl\n",
        "import matplotlib.pyplot as plt\n",
        "import numpy as np\n",
        "\n",
        "%matplotlib inline\n",
        "plt.style.use('seaborn-whitegrid')"
      ],
      "execution_count": 0,
      "outputs": []
    },
    {
      "cell_type": "markdown",
      "metadata": {
        "id": "UDErf4mVQO__",
        "colab_type": "text"
      },
      "source": [
        "# Overview\n",
        "\n",
        "As we saw in class, BigQuery has a massive dataset of GitHub files and statistics, including information about repositories, commits, and file contents.  In this part of the assignment, we will be working with this dataset further.  Don't worry if you are not too familiar with Git and GitHub -- we will explain everything you need to know to complete this part of the assignment."
      ]
    },
    {
      "cell_type": "markdown",
      "metadata": {
        "id": "_hWJllN_R8Vt",
        "colab_type": "text"
      },
      "source": [
        "---\n",
        "## Notes\n",
        "\n",
        "**The GitHub dataset available on BigQuery is actually quite massive. *A single query on the \"contents\" table alone (it is 2.16TB!) can eat up your 1TB allowance for the month AND cut into about 10% of your GCloud credit for the class.***\n",
        "\n",
        "To make this part of the project more manageable, we have subset the original data.  We have preserved almost all information in the original tables, but we kept only the information on the top 500,000 most \"watched\" GitHub repos between January, 2016 and the most recent data as of October, 2018.\n",
        "\n",
        "You can see the tables we will be working with [here](https://bigquery.cloud.google.com/dataset/cs145-ta:project_part2). **Read through the schemas to get familiar with the data**.  Note that some of the tables are still quite large (the contents table is about 500GB), so you should exercise the usual caution when working with them.  Before running queries on this notebook, it's good practice to first set up query limits on your BigQuery account or see how many bytes will be billed on the web UI.\n",
        "\n",
        "---"
      ]
    },
    {
      "cell_type": "markdown",
      "metadata": {
        "id": "4Tz7RkCO_tm7",
        "colab_type": "text"
      },
      "source": [
        "## A Super Quick Primer on Git\n",
        "\n",
        "If you are not very familiar with Git and GitHub, here are some high-level explanations that will give you enough context to get you through this part of the problem:\n",
        "\n",
        "*  *GitHub*: GitHub is a source-control service provider.  GitHub allows you to collaborate on and keep track of source code in a fairly efficient way.\n",
        "\n",
        "*  *commit*: A commit can be thought of as a change that is applied to some set of files. i.e., if some set of files is in some state A, you can make changes to A and *commit* your changes to the set of files so that it is now in state B.  A commit is identified by a *hash* of the information in your change (the author of the commit, who actually committed [i.e. applied] the changes to the set of files, the changes themselves, etc.)\n",
        "\n",
        "* *parent commit*: The commit that came before your current commit.\n",
        "\n",
        "*   *repo*:  A repo (short for repository) is GitHub's abstraction for a collection of files along with a history of commits on those files. If you have GitHub username \"foo\" and you make a repository called \"data-rocks\", your repo name will be \"foo/data-rocks\".  You can think of a repo's history in terms of its commits.  E.g., \"foo/data-rocks\" can have the set of \"states\" A->B->C->D, where each state change (A->B, B->C, C->D) was due to a commit.\n",
        "\n",
        "*   *branch*:  To keep track of different commit histories, GitHub repos can have branches.  The 'main' branch (i.e. commit history) of the repo is called the 'master' branch.  Say on \"foo/data-rocks\" we have the commit history A->B->C->D on the master branch.  If someone else comes along and decides to add a cool new feature to \"foo/data-rocks\", they can create a branch called \"cool-new-feature\" that branches away from the master branch. All the code from the main branch will be there, but new code added to \"cool-new-feature\" will not be on the main branch.\n",
        "\n",
        "*   *ref*: For the purpose of this assignment, you can think of the 'ref' field on the \"files\" table as referring to the branch in which a file lives in a repository at some point in time.\n",
        "\n",
        "\n",
        "\n",
        "For the purposes of this question, you don't need to know about the following things in detail:\n",
        "\n",
        "\n",
        "*   Commit trees\n",
        "*   The encoding attribute on the commits table\n",
        "\n",
        "If you want more clarifications about Git and GitHub in order to answer this question, be sure to post on Piazza or come to Office Hours.  In many cases, a quick web search will also help answer your question."
      ]
    },
    {
      "cell_type": "markdown",
      "metadata": {
        "id": "9ZdPxUGgmR4x",
        "colab_type": "text"
      },
      "source": [
        "# Section 1 | Getting Familiar with the GitHub Data\n",
        "---"
      ]
    },
    {
      "cell_type": "markdown",
      "metadata": {
        "id": "Y1J7KooavLoK",
        "colab_type": "text"
      },
      "source": [
        "## Understanding the GitHub Tables\n",
        "\n",
        "As you saw in lecture, E/R diagrams are a way to convey the structure of a database (a set of tables) in a non-technical way that is still precise enough for us to work with technically.  As it turns out, E/R diagrams will prove to be a useful tool in getting familiar with the structure of our GitHub tables before we even analyze any of its data!"
      ]
    },
    {
      "cell_type": "markdown",
      "metadata": {
        "id": "dw016lg1wglg",
        "colab_type": "text"
      },
      "source": [
        "## Question 1: CS145 GitHub tables -->  E/R Diagram (6 points)\n",
        "\n",
        "Using what you learned in lecture, create an E/R diagram for the data contained in the `cs145-ta:project_part2 github_repo` tables [here](https://bigquery.cloud.google.com/dataset/cs145-ta:project_part2).  For the purposes of this exercise, ignore the `github_repo_readme_contents_cs145` table (we'll be using that one later)\n",
        "\n",
        "### Notes\n",
        "\n",
        "* The CS145 GitHub Repo tables may not directly translate into an E/R diagram as described in class.  An important part of this question is for you to analyze the existing tables, think about the relationships between objects in the tables as a whole, and construct a reasonable E/R diagram from that analysis.\n",
        "\n",
        "* Consider the \"author\" and \"committer\" attribute structures a single attribute each.  Importantly, you do not need to include `committer.name`, `committer.email`, etc.  in your E/R diagrams.  Note that the \"language\" attribute is actually an *array* type. Be sure to account for this in your E/R diagram.\n",
        "\n",
        "* Your E/R diagram should be an image.  You can hand draw it or generate it with your favorite software.  You can include an image in your Colab Notebook as follows:\n",
        "\n",
        "\n",
        "\n",
        "> 1. Add the image to your own Google Drive.  \n",
        "> 2. Get a shareable link for your image, and note the \"ID\" field of the URL.\n",
        "> > Your link will look something like \"`https://drive.google.com/open?id=<some ID>`\"\n",
        "> 3. Add the following markup to your cell `![](https://drive.google.com/uc?export=view&id=<your image ID>)`\n",
        "> 4. Run the cell\n"
      ]
    },
    {
      "cell_type": "markdown",
      "metadata": {
        "id": "cSrndCBFxML0",
        "colab_type": "text"
      },
      "source": [
        "---\n",
        "*TODO: insert your E/R diagram here*\n",
        "\n",
        "---"
      ]
    },
    {
      "cell_type": "markdown",
      "metadata": {
        "id": "vT8pLXvYxUYC",
        "colab_type": "text"
      },
      "source": [
        "## Question 2: Explain your E/R Diagram (4 points)\n",
        "\n",
        "In a small paragraph, explain your E/R diagram.  You should cover at least:\n",
        "\n",
        "*   what your entities are\n",
        "*   what the relationships between those entities are (including whether they are one-to-many, many-to-one, etc.)\n",
        "*   what your keys are for each entity\n",
        "\n",
        "You should also include a quick explanation of how you determined the overall structure of your chart."
      ]
    },
    {
      "cell_type": "markdown",
      "metadata": {
        "id": "D2_HX2nN8n_c",
        "colab_type": "text"
      },
      "source": [
        "---\n",
        "*TODO: insert explanation of your E/R diagram here*\n",
        "\n",
        "---"
      ]
    },
    {
      "cell_type": "markdown",
      "metadata": {
        "id": "Udn05k6a_9QB",
        "colab_type": "text"
      },
      "source": [
        "## Question 3: Translate your E/R Diagram to a Set of Schemas (5 points)\n",
        "\n",
        "Provide a set of schemas that translate directly to the E/R Diagram you generated in Question 2.  These schemas should not be the same as the schemas in the CS145 GitHub data tables. \n",
        "\n",
        "Be sure to specify in your schemas:\n",
        "1. the ***name*** of each attribute (you don't need to worry about types)\n",
        "2. the ***key for each schema***\n",
        "3. ***Foreign keys in your schemas*** and what table they reference. "
      ]
    },
    {
      "cell_type": "markdown",
      "metadata": {
        "id": "mSU0HzT7Bg6l",
        "colab_type": "text"
      },
      "source": [
        "---\n",
        "*TODO: insert your proposed schemas here.*\n",
        "\n",
        "\n",
        "*Example table for formatting reference:*\n",
        "\n",
        "\n",
        "Column A | Column B | Column C\n",
        "----------------|-----------------|-----------------\n",
        "   value 1  |   value 2   |   value 3\n",
        "   value 4  |   value 5   |   value 6\n",
        "\n",
        "---"
      ]
    },
    {
      "cell_type": "markdown",
      "metadata": {
        "id": "iQwsmJrtBnU4",
        "colab_type": "text"
      },
      "source": [
        "## Question 4: Analysis (4 points)\n",
        "\n",
        "You now have two sets of schemas:  the ones you came up with in Question 3 based on your E/R diagram, and those that we provided for you.  \n",
        "\n",
        "**In a single paragraph (no more than 100 words), comment on the tradeoffs between the two.  Which do you think is better?**\n",
        "\n",
        "Use the discussions that we have had in class as a starting point for your analysis.   There is no single correct answer to this question.  Some people abide strongly to their E/R diagrams, while others decide to slice and dice what would have been on an E/R diagram to better fit their needs.\n"
      ]
    },
    {
      "cell_type": "markdown",
      "metadata": {
        "id": "JYPYmwYZDrGe",
        "colab_type": "text"
      },
      "source": [
        "---\n",
        "*TODO: insert your analysis of the two schemas here*\n",
        "\n",
        "---"
      ]
    },
    {
      "cell_type": "markdown",
      "metadata": {
        "id": "daWOdCtMnsyd",
        "colab_type": "text"
      },
      "source": [
        "# Section 2 | Git Visualizing!\n",
        "---"
      ]
    },
    {
      "cell_type": "markdown",
      "metadata": {
        "id": "8BqcyqcXUG-r",
        "colab_type": "text"
      },
      "source": [
        "## Initial Exploration"
      ]
    },
    {
      "cell_type": "markdown",
      "metadata": {
        "id": "o7ZtstB7meB6",
        "colab_type": "text"
      },
      "source": [
        "Now that we understand the dataset we will be working with very well, let's get down to analyzing some of its properties. For the visualizations in this section, feel free to use whatever graphing library you are most comfortable with.  We recommend using one of the following:\n",
        "\n",
        "\n",
        "*   seaborn (https://seaborn.pydata.org/tutorial.html)\n",
        "*   matplotlib (https://matplotlib.org/3.0.0/tutorials/index.html)\n",
        "*   Altair (https://altair-viz.github.io/)\n",
        "*   Pandas (https://pandas.pydata.org/pandas-docs/stable/visualization.html)\n",
        "\n",
        "\n",
        "> * **Note**: that you can plot directly from a Pandas DataFrame if you'd like (https://pandas.pydata.org/pandas-docs/stable/generated/pandas.DataFrame.plot.html)!\n",
        "\n",
        "\n",
        "\n"
      ]
    },
    {
      "cell_type": "markdown",
      "metadata": {
        "id": "WDYych73vjP_",
        "colab_type": "text"
      },
      "source": [
        "### How to BigQuery in Colab\n",
        "\n",
        "Jupyter notebooks (what Colab notebooks are based on) have a concept called \"magics\".\n",
        "If you write the following line at the top of a `Code` cell:\n",
        "\n",
        "```\n",
        "%%bigquery --project $project_id variable # this is the key line\n",
        "SELECT ....\n",
        "FROM ...\n",
        "```\n",
        "\n",
        "That \"%%\" converts the cell into a SQL cell. The resulting table that is generated is saved into `variable`. You can now use `variable` with your favorite visualization library to generate plots!\n",
        "\n",
        "Run the following two cells to see this in action."
      ]
    },
    {
      "cell_type": "code",
      "metadata": {
        "id": "GoeQvQXGKqSn",
        "colab_type": "code",
        "colab": {}
      },
      "source": [
        "%%bigquery --project $project_id example\n",
        "\n",
        "SELECT lrepo_name, watch_count\n",
        "FROM `cs145-ta.project_part2.github_repos_cs145`\n",
        "ORDER BY watch_count DESC\n",
        "LIMIT 10;"
      ],
      "execution_count": 0,
      "outputs": []
    },
    {
      "cell_type": "code",
      "metadata": {
        "id": "_NwLmbbmLW8U",
        "colab_type": "code",
        "colab": {}
      },
      "source": [
        "example.head()"
      ],
      "execution_count": 0,
      "outputs": []
    },
    {
      "cell_type": "markdown",
      "metadata": {
        "id": "EnJ1edQfB16v",
        "colab_type": "text"
      },
      "source": [
        "## Question 5: Count Breakdowns Across Various Fields (9 points)\n",
        "\n"
      ]
    },
    {
      "cell_type": "markdown",
      "metadata": {
        "id": "T1APZTtGwVE4",
        "colab_type": "text"
      },
      "source": [
        "Let's get out feet wet with this data by creating the following plots:\n",
        "\n",
        "1.   License distribution across repos\n",
        "2.   Language distribution across repos\n",
        "3.   File size distribution across repos\n",
        "4.   Distribution of files associated with a repo\n",
        "5.   Number of commits by author and committer across repos\n",
        "6.   The distribution of the length of commit messages across repos\n",
        "\n",
        "\n",
        "Note that you will not receive full credit if your charts are  poorly made (i.e. very unclear or unreadable).\n",
        "\n",
        "\n",
        "### Hints\n",
        "* Some of these plots will need at least one of their axes to be log-scaled in order to be readable\n",
        "* For more readable plots, you can use [pandas.DataFrame.sample](https://pandas.pydata.org/pandas-docs/stable/generated/pandas.DataFrame.sample.html).  A sample size between 1,000 and 10,000 should give you more readable plots.\n",
        "\n",
        "##  Reminders\n",
        "* Be careful with your queries!  Don't run `SELECT *` blindly on a table in this Colab notebook since you will not get a warning of how much data the query will consume.  Always how much data a query will consume on the BigQuery UI first -- you are also better off setting a query limit as we described earlier. \n",
        "* Don't forget to use the subsetted GitHub tables we provide [here](https://bigquery.cloud.google.com/dataset/cs145-ta:project_part2), not the original ones on BigQuery. \n",
        "\n",
        "\n"
      ]
    },
    {
      "cell_type": "markdown",
      "metadata": {
        "id": "goHxOuV0oZmK",
        "colab_type": "text"
      },
      "source": [
        "### a) License distribution (1 point)\n",
        "#### (x-axis: license type, y-axis: # repos containing that license)\n"
      ]
    },
    {
      "cell_type": "code",
      "metadata": {
        "id": "iuoZryOHxxOa",
        "colab_type": "code",
        "colab": {}
      },
      "source": [
        "%%bigquery --project $project_id q5a\n",
        "\n",
        "# YOUR QUERY HERE"
      ],
      "execution_count": 0,
      "outputs": []
    },
    {
      "cell_type": "code",
      "metadata": {
        "id": "DNVShZ9RxxbK",
        "colab_type": "code",
        "colab": {}
      },
      "source": [
        "# YOUR PLOT CODE HERE"
      ],
      "execution_count": 0,
      "outputs": []
    },
    {
      "cell_type": "markdown",
      "metadata": {
        "id": "LszEzT1moyxJ",
        "colab_type": "text"
      },
      "source": [
        "### b) Language distribution (1 point)\n",
        "#### (x-axis: programming language, y-axis: # repos containing at least one file in that language)\n",
        "\n",
        "To keep the chart readable, only keep the top 20 languages.\n",
        "\n",
        "**Hint:** https://cloud.google.com/bigquery/docs/reference/standard-sql/arrays\n"
      ]
    },
    {
      "cell_type": "code",
      "metadata": {
        "id": "Msk_6JECyCmz",
        "colab_type": "code",
        "colab": {}
      },
      "source": [
        "%%bigquery --project $project_id q5b\n",
        "\n",
        "# YOUR QUERY HERE"
      ],
      "execution_count": 0,
      "outputs": []
    },
    {
      "cell_type": "code",
      "metadata": {
        "id": "GQUcVA7cyCjd",
        "colab_type": "code",
        "colab": {}
      },
      "source": [
        "# YOUR PLOT CODE HERE"
      ],
      "execution_count": 0,
      "outputs": []
    },
    {
      "cell_type": "markdown",
      "metadata": {
        "id": "R5qilhmWo8FF",
        "colab_type": "text"
      },
      "source": [
        "### c) File size distribution (1 point)\n",
        "#### (x-axis: file size, y-axis: # files of that size) "
      ]
    },
    {
      "cell_type": "code",
      "metadata": {
        "id": "UWjD_HG3yRnu",
        "colab_type": "code",
        "colab": {}
      },
      "source": [
        "%%bigquery --project $project_id q5c\n",
        "\n",
        "# YOUR QUERY HERE"
      ],
      "execution_count": 0,
      "outputs": []
    },
    {
      "cell_type": "code",
      "metadata": {
        "id": "-1505ZmiyRke",
        "colab_type": "code",
        "colab": {}
      },
      "source": [
        "# YOUR PLOT CODE HERE"
      ],
      "execution_count": 0,
      "outputs": []
    },
    {
      "cell_type": "markdown",
      "metadata": {
        "id": "i1a8oEXBpCTV",
        "colab_type": "text"
      },
      "source": [
        "### d) Distribution of files associated with a repo (1 point)\n",
        "#### (x-axis: # files associated with a repo, y-axis: # repos associated with that many files)"
      ]
    },
    {
      "cell_type": "code",
      "metadata": {
        "id": "BG9Satk0yY9w",
        "colab_type": "code",
        "colab": {}
      },
      "source": [
        "%%bigquery --project $project_id q5d\n",
        "\n",
        "# YOUR QUERY HERE"
      ],
      "execution_count": 0,
      "outputs": []
    },
    {
      "cell_type": "code",
      "metadata": {
        "id": "1GYb3cIvyY6Q",
        "colab_type": "code",
        "colab": {}
      },
      "source": [
        "# YOUR PLOT CODE HERE"
      ],
      "execution_count": 0,
      "outputs": []
    },
    {
      "cell_type": "markdown",
      "metadata": {
        "id": "Ad6q_LZ3pIn6",
        "colab_type": "text"
      },
      "source": [
        "### e) Number of commits by author and committer (1 point)\n",
        "#### (x-axis: # commits, y-axis: # authors/committers with that many commits)\n",
        "\n",
        "**Note**: for this chart, plot the curves for author and committers side-by-side for comparison.\n",
        "\n"
      ]
    },
    {
      "cell_type": "code",
      "metadata": {
        "id": "kGjfpjOEygCF",
        "colab_type": "code",
        "colab": {}
      },
      "source": [
        "%%bigquery --project $project_id q5e_authors\n",
        "\n",
        "# YOUR QUERY HERE"
      ],
      "execution_count": 0,
      "outputs": []
    },
    {
      "cell_type": "code",
      "metadata": {
        "id": "u8-MCdzLyjiQ",
        "colab_type": "code",
        "colab": {}
      },
      "source": [
        "%%bigquery --project $project_id q5e_committers\n",
        "\n",
        "# YOUR QUERY HERE"
      ],
      "execution_count": 0,
      "outputs": []
    },
    {
      "cell_type": "code",
      "metadata": {
        "id": "sxJ7vsjvyf_A",
        "colab_type": "code",
        "colab": {}
      },
      "source": [
        "# YOUR PLOT CODE HERE - AUTHORS"
      ],
      "execution_count": 0,
      "outputs": []
    },
    {
      "cell_type": "code",
      "metadata": {
        "id": "36mXkQn8yje3",
        "colab_type": "code",
        "colab": {}
      },
      "source": [
        "# YOUR PLOT CODE HERE - COMMITTERS"
      ],
      "execution_count": 0,
      "outputs": []
    },
    {
      "cell_type": "markdown",
      "metadata": {
        "id": "JQwPjnIXppBw",
        "colab_type": "text"
      },
      "source": [
        "### f) The distribution of the length of commit messages (1 point)\n",
        "#### (x-axis: length of the commit message, y-axis: # commits with that length)\n",
        "\n",
        "**Note**: The query for this plot may use ~30GB of data."
      ]
    },
    {
      "cell_type": "code",
      "metadata": {
        "id": "Ep2sou-Jy6Z-",
        "colab_type": "code",
        "colab": {}
      },
      "source": [
        "%%bigquery --project $project_id q5f\n",
        "\n",
        "# YOUR QUERY HERE"
      ],
      "execution_count": 0,
      "outputs": []
    },
    {
      "cell_type": "code",
      "metadata": {
        "id": "3PAu4JSvy6Wf",
        "colab_type": "code",
        "colab": {}
      },
      "source": [
        "# YOUR PLOT CODE HERE"
      ],
      "execution_count": 0,
      "outputs": []
    },
    {
      "cell_type": "markdown",
      "metadata": {
        "id": "VSurYw_V_z-3",
        "colab_type": "text"
      },
      "source": [
        "### g) In a single paragraph (no more than 100 words), describe and analyze the charts you just generated.  What are some interesting trends in the data?  Was there anything that you did not expect? (3 points)"
      ]
    },
    {
      "cell_type": "markdown",
      "metadata": {
        "id": "CztH9vlBAE2H",
        "colab_type": "text"
      },
      "source": [
        "---\n",
        "*TODO: insert one paragraph analyzing the exploratory charts you generated*\n",
        "\n",
        "---"
      ]
    },
    {
      "cell_type": "markdown",
      "metadata": {
        "id": "mCZyn4jq81b_",
        "colab_type": "text"
      },
      "source": [
        "## What Makes a Good Repo?"
      ]
    },
    {
      "cell_type": "markdown",
      "metadata": {
        "id": "8eEe_Ajg7vFK",
        "colab_type": "text"
      },
      "source": [
        "Given that we have some interesting data at our disposal, let's try to answer the question: what makes a good GitHub repo? For our purposes, a \"good\" repo is simply a repo with a high watch count; this refers to how many people are following the repo for updates.\n",
        "\n",
        "To begin, let's see if any of the features *we've already explored* give us any good answers."
      ]
    },
    {
      "cell_type": "markdown",
      "metadata": {
        "id": "IqNIAFW6RycD",
        "colab_type": "text"
      },
      "source": [
        "## Question 6: Using What We've Worked With (17 points)\n",
        "\n",
        "Create plots for the following features in a repo and how they relate to that repo's watch count:\n",
        "\n",
        "1.  License type\n",
        "2.  Languages\n",
        "3.  Average file size in a repo\n",
        "4.  File count in a repo\n",
        "5.  The number of \"power\" committers or authors a repo has\n",
        "6. Average message length of commits on a repo\n"
      ]
    },
    {
      "cell_type": "markdown",
      "metadata": {
        "id": "EzVVPeDYqn3q",
        "colab_type": "text"
      },
      "source": [
        "### a) License type (2 points)"
      ]
    },
    {
      "cell_type": "code",
      "metadata": {
        "id": "BIr_E6ukzRDZ",
        "colab_type": "code",
        "colab": {}
      },
      "source": [
        "%%bigquery --project $project_id q6a\n",
        "\n",
        "# YOUR QUERY HERE"
      ],
      "execution_count": 0,
      "outputs": []
    },
    {
      "cell_type": "code",
      "metadata": {
        "id": "FxiKrYxwzRAD",
        "colab_type": "code",
        "colab": {}
      },
      "source": [
        "# YOUR PLOT CODE HERE"
      ],
      "execution_count": 0,
      "outputs": []
    },
    {
      "cell_type": "markdown",
      "metadata": {
        "id": "pnfzgndkrVh6",
        "colab_type": "text"
      },
      "source": [
        "### b) Languages (2 points)\n",
        "\n"
      ]
    },
    {
      "cell_type": "code",
      "metadata": {
        "id": "rUKLW4KpzYnH",
        "colab_type": "code",
        "colab": {}
      },
      "source": [
        "%%bigquery --project $project_id q6b\n",
        "\n",
        "# YOUR QUERY HERE"
      ],
      "execution_count": 0,
      "outputs": []
    },
    {
      "cell_type": "code",
      "metadata": {
        "id": "FbCp6M7izYjo",
        "colab_type": "code",
        "colab": {}
      },
      "source": [
        "# YOUR PLOT CODE HERE"
      ],
      "execution_count": 0,
      "outputs": []
    },
    {
      "cell_type": "markdown",
      "metadata": {
        "id": "FaLouZxVrZWy",
        "colab_type": "text"
      },
      "source": [
        "### c) Average file size in a repo (2 points)\n",
        "**Note:** For this question, you may use the `github_repo_readme_contents_cs145` table instead of the full contents table.\n"
      ]
    },
    {
      "cell_type": "code",
      "metadata": {
        "id": "P4ysTQqXzgot",
        "colab_type": "code",
        "colab": {}
      },
      "source": [
        "%%bigquery --project $project_id q6c\n",
        "\n",
        "# YOUR QUERY HERE"
      ],
      "execution_count": 0,
      "outputs": []
    },
    {
      "cell_type": "code",
      "metadata": {
        "id": "hTKSj3Xazgla",
        "colab_type": "code",
        "colab": {}
      },
      "source": [
        "# YOUR PLOT CODE HERE"
      ],
      "execution_count": 0,
      "outputs": []
    },
    {
      "cell_type": "markdown",
      "metadata": {
        "id": "Sek-Id20rcQV",
        "colab_type": "text"
      },
      "source": [
        "### d) File count in a repo (2 points)"
      ]
    },
    {
      "cell_type": "code",
      "metadata": {
        "id": "XvO8iVl6z3BX",
        "colab_type": "code",
        "colab": {}
      },
      "source": [
        "%%bigquery --project $project_id q6d\n",
        "\n",
        "# YOUR QUERY HERE"
      ],
      "execution_count": 0,
      "outputs": []
    },
    {
      "cell_type": "code",
      "metadata": {
        "id": "n7XXUYYEz2-C",
        "colab_type": "code",
        "colab": {}
      },
      "source": [
        "# YOUR PLOT CODE HERE"
      ],
      "execution_count": 0,
      "outputs": []
    },
    {
      "cell_type": "markdown",
      "metadata": {
        "id": "BzzExg7hrghB",
        "colab_type": "text"
      },
      "source": [
        "### e) The number of \"power\" committers or authors a repo has (3 points)\n",
        "\n",
        " **Definition:** a \"power\" committer or author is an account that has committed/authored 1,000 or more commits."
      ]
    },
    {
      "cell_type": "code",
      "metadata": {
        "id": "3tzH2_5kz7hC",
        "colab_type": "code",
        "colab": {}
      },
      "source": [
        "%%bigquery --project $project_id q6e_power_committers\n",
        "\n",
        "# YOUR QUERY HERE"
      ],
      "execution_count": 0,
      "outputs": []
    },
    {
      "cell_type": "code",
      "metadata": {
        "id": "mFdubCzJz7dh",
        "colab_type": "code",
        "colab": {}
      },
      "source": [
        "# YOUR PLOT CODE HERE"
      ],
      "execution_count": 0,
      "outputs": []
    },
    {
      "cell_type": "code",
      "metadata": {
        "id": "Q0bDpCvR0G7q",
        "colab_type": "code",
        "colab": {}
      },
      "source": [
        "%%bigquery --project $project_id q6e_power_authors\n",
        "\n",
        "# YOUR QUERY HERE"
      ],
      "execution_count": 0,
      "outputs": []
    },
    {
      "cell_type": "code",
      "metadata": {
        "id": "8_h9XWMb0G4V",
        "colab_type": "code",
        "colab": {}
      },
      "source": [
        "# YOUR PLOT CODE HERE"
      ],
      "execution_count": 0,
      "outputs": []
    },
    {
      "cell_type": "markdown",
      "metadata": {
        "id": "p3TREtxmrk0e",
        "colab_type": "text"
      },
      "source": [
        "### f) Average message length of commits on a repo. (3 points)\n",
        "\n",
        "First make a plot of the average commit length of repositories against the number of repositories with that average commit length. Then, make a plot of how average commit length on a repository correlates to its watch count. Round to nearest byte.\n"
      ]
    },
    {
      "cell_type": "code",
      "metadata": {
        "id": "sSVraksz0Py8",
        "colab_type": "code",
        "colab": {}
      },
      "source": [
        "%%bigquery --project $project_id q6f_avg_commit_length\n",
        "\n",
        "# YOUR QUERY HERE"
      ],
      "execution_count": 0,
      "outputs": []
    },
    {
      "cell_type": "code",
      "metadata": {
        "id": "WxrgVP870Pu9",
        "colab_type": "code",
        "colab": {}
      },
      "source": [
        "# YOUR PLOT CODE HERE"
      ],
      "execution_count": 0,
      "outputs": []
    },
    {
      "cell_type": "code",
      "metadata": {
        "id": "PlxPe7BR0gjG",
        "colab_type": "code",
        "colab": {}
      },
      "source": [
        "%%bigquery --project $project_id q6f_msg_length_watch_count\n",
        "\n",
        "# YOUR QUERY HERE"
      ],
      "execution_count": 0,
      "outputs": []
    },
    {
      "cell_type": "code",
      "metadata": {
        "id": "W-SudHgS0gty",
        "colab_type": "code",
        "colab": {}
      },
      "source": [
        "# YOUR PLOT CODE HERE"
      ],
      "execution_count": 0,
      "outputs": []
    },
    {
      "cell_type": "markdown",
      "metadata": {
        "id": "GMPN_TRPv3io",
        "colab_type": "text"
      },
      "source": [
        "### g) Which, if any, of the features we inspected above have the highest correlation with a repo having a high watch count? Does the answer make sense, or does it seem counterintuitive? Explain your answer in a small paragraph, no more than 200 words.  Be sure to cite the charts you generated. (3 points)"
      ]
    },
    {
      "cell_type": "markdown",
      "metadata": {
        "id": "z0LKgPeawAQL",
        "colab_type": "text"
      },
      "source": [
        "---\n",
        "*TODO: insert your answer here*\n",
        "\n",
        "---"
      ]
    },
    {
      "cell_type": "markdown",
      "metadata": {
        "id": "wsfv9TJj86LX",
        "colab_type": "text"
      },
      "source": [
        "## What Do Others Have to Say?"
      ]
    },
    {
      "cell_type": "markdown",
      "metadata": {
        "id": "wGJevIAJhkIY",
        "colab_type": "text"
      },
      "source": [
        "At this point we have learned a couple of things about how certain features may or may not impact the popularity of a GitHub repo.  However, we really only looked at features of GitHub repos that we had initially explored when we were getting a feel for the dataset!  There has got to be more things we can inspect than that.\n",
        "\n",
        "If you do a web search for \"how to make my git repo popular,\" you will find that more than a couple of people suggest investing time in your `README` file.  The `README` usually gives an overview to a GitHub project and may include other information about the codebase such as whether its most recent build passed or how to begin contributing to that repo.  [Here](https://github.com/vuejs/vue/blob/dev/README.md) is an example `README` file for the popular web development framework Vue.js.\n"
      ]
    },
    {
      "cell_type": "markdown",
      "metadata": {
        "id": "6QRXkPTFWzUT",
        "colab_type": "text"
      },
      "source": [
        "## IMPORTANT: Note about Contents Table\n",
        "\n",
        "Note that the original `github_repo_contents_cs145` table is about half a TB!  In order to save you the pain of using up 500GB of your credits to subset this table into a workable size for this problem, we have done it for you. \n",
        "\n",
        "## ***For the rest of this question, be sure that you use the `github_repo_readme_contents_cs145` table ***"
      ]
    },
    {
      "cell_type": "markdown",
      "metadata": {
        "id": "AKhYoI7zWtDg",
        "colab_type": "text"
      },
      "source": [
        "## Question 7: Analyzing Features (15 points)\n",
        "\n",
        "Analyze the following features of a repo's `README` file and how they relate to the popularity of a repository, generating an informative plot for each feature:\n",
        "\n",
        "1.   Having or not having a `README` file\n",
        "2.   The length of the `README` file\n",
        "3.   The number of images (.jpg, .png, .svg) or GIFs (.gif) included in the `README`\n",
        "\n",
        "Note that this part is intentionally more open ended than usual.  Part of what we are looking for is the thoroughness with which you leverage SQL and your plots to gain insight into these features. \n",
        "\n",
        " **Hint:** BigQuery's SQL string, REGEX, and array functions will be helpful here.\n",
        " \n",
        " **Hint:** You can develop and test regexes on online testers like https://regex101.com/."
      ]
    },
    {
      "cell_type": "markdown",
      "metadata": {
        "id": "etSy6h-ws4J0",
        "colab_type": "text"
      },
      "source": [
        "### a) Having or not having a `README` file (4 points)\n",
        "\n",
        "\n"
      ]
    },
    {
      "cell_type": "code",
      "metadata": {
        "id": "dFxr2_Zg0tTQ",
        "colab_type": "code",
        "colab": {}
      },
      "source": [
        "%%bigquery --project $project_id q7a\n",
        "\n",
        "# YOUR QUERY HERE"
      ],
      "execution_count": 0,
      "outputs": []
    },
    {
      "cell_type": "code",
      "metadata": {
        "id": "__b66Da60tQE",
        "colab_type": "code",
        "colab": {}
      },
      "source": [
        "# YOUR PLOT CODE HERE"
      ],
      "execution_count": 0,
      "outputs": []
    },
    {
      "cell_type": "markdown",
      "metadata": {
        "id": "RMq0_HaYs9Fu",
        "colab_type": "text"
      },
      "source": [
        "### b) The length of the `README` file (2 points)\n",
        "\n",
        "You may ignore README files with length 0.  \n",
        "\n",
        "**Note**: If a project has multiple `README` files, you can just take the average size of those files."
      ]
    },
    {
      "cell_type": "code",
      "metadata": {
        "id": "B7b-ouvo00Id",
        "colab_type": "code",
        "colab": {}
      },
      "source": [
        "%%bigquery --project $project_id q7b\n",
        "\n",
        "# YOUR QUERY HERE"
      ],
      "execution_count": 0,
      "outputs": []
    },
    {
      "cell_type": "code",
      "metadata": {
        "id": "BTox2CoS00Fc",
        "colab_type": "code",
        "colab": {}
      },
      "source": [
        "# YOUR PLOT CODE HERE"
      ],
      "execution_count": 0,
      "outputs": []
    },
    {
      "cell_type": "markdown",
      "metadata": {
        "id": "rpu5iP9etKuU",
        "colab_type": "text"
      },
      "source": [
        "### c) The number of images (`.jpg`, `.png`, `.svg`) or GIFs (`.gif`) included in the `README` (5 points)\n",
        "\n",
        "#### Plot the total count of `.png`, `.jpg`, `.svg`, and `.gif` files included.  Remember you can sample the results on a DataFrame for clearer visualizations.\n",
        "\n",
        "You can find whether an image/GIF is included in a `README` by searching for the following strings:\n",
        "*   \\!\\[{*zero+ characters that are not* ']'}]({*zero+ chars that are not* ')'}.(*png|jpg|svg|gif*))\n",
        "> Example: `![my_svg](https://foo.io/v/svgs/my_cool_svg.svg)`\n",
        "* <{*zero+ whitespace*}*img*{*one+ whitespace*}src=\"{*zero+ chars not *'\\\"'}.(*png|jpg|svg|gif*)\n",
        "> Example: `<img src=\"https://foo.bar/attachments/cat.gif\" />`\n",
        "\n",
        "**Hint**: You should test out your regular expressions on a subset of README files so that you can manually verify they work.\n",
        "\n",
        "**Note**: If you end up dealing with multiple versions of the same `README.md` file, it's fine to average statistics among them."
      ]
    },
    {
      "cell_type": "code",
      "metadata": {
        "id": "Q_J-MQBC08dp",
        "colab_type": "code",
        "colab": {}
      },
      "source": [
        "%%bigquery --project $project_id q7c\n",
        "\n",
        "# YOUR QUERY HERE"
      ],
      "execution_count": 0,
      "outputs": []
    },
    {
      "cell_type": "code",
      "metadata": {
        "id": "Ymi4L33S08ak",
        "colab_type": "code",
        "colab": {}
      },
      "source": [
        "# YOUR PLOT CODE HERE\n"
      ],
      "execution_count": 0,
      "outputs": []
    },
    {
      "cell_type": "markdown",
      "metadata": {
        "id": "-fF1J4P89U3y",
        "colab_type": "text"
      },
      "source": [
        "### d) Would you say that a \"good\" `README` is correlated with a popular repository, based on the features you studied?  Why or why not?  If you were to analyze more in-depth features on the `README` file for correlation with repo popularity what would they be? (4 points)"
      ]
    },
    {
      "cell_type": "markdown",
      "metadata": {
        "id": "NS8zU63l92T6",
        "colab_type": "text"
      },
      "source": [
        "---\n",
        "*TODO: insert one paragraph with your answer here*\n",
        "\n",
        "---"
      ]
    },
    {
      "cell_type": "markdown",
      "metadata": {
        "id": "O0QEm3SZtg7N",
        "colab_type": "text"
      },
      "source": [
        "## Optional Extra Credit\n",
        "\n",
        "The problems below are entirely optional, though you may want to try them if you have time in preparation for the kinds of things you'll do in project 3."
      ]
    },
    {
      "cell_type": "markdown",
      "metadata": {
        "id": "Rsvoq40vSd2_",
        "colab_type": "text"
      },
      "source": [
        "## Extra Credit 1: What other features correlate with a highly watched repo? (6 points extra credit)\n",
        "\n",
        "We studied only a handful of features that could correlate with a highly watched repo.  Can you find a few more that seem especially promising?  Back your proposed features with data and charts."
      ]
    },
    {
      "cell_type": "markdown",
      "metadata": {
        "id": "wGE8Gkfk1Tbv",
        "colab_type": "text"
      },
      "source": [
        "\n",
        "---\n",
        "\n",
        "*List new features here*\n",
        "\n",
        "\n",
        "---\n",
        "\n"
      ]
    },
    {
      "cell_type": "code",
      "metadata": {
        "id": "Zh5XkW3rSwR6",
        "colab_type": "code",
        "colab": {}
      },
      "source": [
        "# YOUR QUERIES HERE"
      ],
      "execution_count": 0,
      "outputs": []
    },
    {
      "cell_type": "code",
      "metadata": {
        "id": "g0g4gwjLt_G-",
        "colab_type": "code",
        "colab": {}
      },
      "source": [
        "# YOUR PLOT CODE HERE"
      ],
      "execution_count": 0,
      "outputs": []
    },
    {
      "cell_type": "markdown",
      "metadata": {
        "id": "Xhk5Ea4uSy6o",
        "colab_type": "text"
      },
      "source": [
        "## Extra Credit 2: Predicting Repo Watch Count (4 points extra credit)\n",
        "\n",
        "Use linear regression to predict the watch count of a repo given a handful of its features.\n",
        "\n",
        "BigQuery has built-in Machine Learning functionality that makes it straightforward to do basic Machine Learning tasks like linear and logistic regression.  Use a subset of the features that we've been working with on this problem to predict the watch count of a repo.\n",
        "\n",
        "You will find the following resources helpful:\n",
        "\n",
        "*   https://cloud.google.com/bigquery/docs/bigqueryml-intro\n",
        "* https://cloud.google.com/bigquery/docs/bigqueryml-analyst-start\n",
        "*   https://cloud.google.com/bigquery/docs/bigqueryml-ncaa\n",
        "\n",
        "In your final output, be sure we can see the following values:\n",
        "\n",
        "*   The repo name\n",
        "*   The values of the features you are using\n",
        "*   The predicted watch count\n",
        "*   The actual watch count\n",
        "\n"
      ]
    },
    {
      "cell_type": "code",
      "metadata": {
        "id": "Bh92lA4GS-Xv",
        "colab_type": "code",
        "colab": {}
      },
      "source": [
        "# PREDICTION CODE HERE"
      ],
      "execution_count": 0,
      "outputs": []
    },
    {
      "cell_type": "markdown",
      "metadata": {
        "id": "1dmC_Krv1brt",
        "colab_type": "text"
      },
      "source": [
        "## Closing Note\n",
        "\n",
        "Understanding data through visualizations is crucial to any working data scientist or database engineer.  Yet, we only touched the tip of the iceberg with the visualizations we made here.  If you are interested in exploring the subject more, we recommend taking *CS 448B: Data Visualization*. "
      ]
    }
  ]
}